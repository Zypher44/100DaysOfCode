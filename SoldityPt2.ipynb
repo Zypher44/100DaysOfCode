{
  "nbformat": 4,
  "nbformat_minor": 0,
  "metadata": {
    "colab": {
      "name": "SoldityPt2.ipynb",
      "provenance": [],
      "authorship_tag": "ABX9TyMrqHbOxwb7Z7EuRLrQnPl4",
      "include_colab_link": true
    },
    "kernelspec": {
      "name": "python3",
      "display_name": "Python 3"
    },
    "language_info": {
      "name": "python"
    }
  },
  "cells": [
    {
      "cell_type": "markdown",
      "metadata": {
        "id": "view-in-github",
        "colab_type": "text"
      },
      "source": [
        "<a href=\"https://colab.research.google.com/github/Zypher44/100DaysOfCode/blob/main/SoldityPt2.ipynb\" target=\"_parent\"><img src=\"https://colab.research.google.com/assets/colab-badge.svg\" alt=\"Open In Colab\"/></a>"
      ]
    },
    {
      "cell_type": "code",
      "execution_count": null,
      "metadata": {
        "id": "4pQayAs3atyb"
      },
      "outputs": [],
      "source": [
        "// SPDX-License_Identifier: MIT \n",
        "\n",
        "pragma solidity ^0.6.0;\n",
        "\n",
        "import \"./Simplestorage.sol\";\n",
        "//importing other smart contracts \n",
        "\n",
        "contract StorageFactory is SimpleStorage {\n",
        "\n",
        "//inhertance with the is \n",
        "    SimpleStorage[] public simpleStorageArray;\n",
        "\n",
        "    function createSimpleStorageContract() public {\n",
        "        SimpleStorage simpleStorage = new SimpleStorage();\n",
        "        simpleStorageArray.push(simpleStorage);\n",
        "\n",
        "    }\n",
        "\n",
        "    function sfStore(uint256 _simpleStorageIndex, uint256 _simpleStorageNumber) public{\n",
        "        //need address \n",
        "        // need ABI application binary interface\n",
        "        SimpleStorage(address(simpleStorageArray[_simpleStorageIndex])).store(_simpleStorageNumber);\n",
        "\n",
        "\n",
        "    }\n",
        "\n",
        "    function sfGet(uint256 _simpleStorageIndex) public view returns (uint256) {\n",
        "        return SimpleStorage(address(simpleStorageArray[_simpleStorageIndex])).retrieve();\n",
        "        \n",
        "    }\n",
        "\n",
        "}"
      ]
    }
  ]
}