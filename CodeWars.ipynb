{
  "nbformat": 4,
  "nbformat_minor": 0,
  "metadata": {
    "colab": {
      "name": "CodeWars.ipynb",
      "provenance": [],
      "authorship_tag": "ABX9TyOgLPLBY+RTn32lWWX7MLUI",
      "include_colab_link": true
    },
    "kernelspec": {
      "name": "python3",
      "display_name": "Python 3"
    },
    "language_info": {
      "name": "python"
    }
  },
  "cells": [
    {
      "cell_type": "markdown",
      "metadata": {
        "id": "view-in-github",
        "colab_type": "text"
      },
      "source": [
        "<a href=\"https://colab.research.google.com/github/Zypher44/100DaysOfCode/blob/main/CodeWars.ipynb\" target=\"_parent\"><img src=\"https://colab.research.google.com/assets/colab-badge.svg\" alt=\"Open In Colab\"/></a>"
      ]
    },
    {
      "cell_type": "code",
      "metadata": {
        "id": "jlJgGNzqoV1M"
      },
      "source": [
        "Given: an array containing hashes of names\n",
        "\n",
        "Return: a string formatted as a list of names separated by commas except for the last two names, which should be separated by an ampersand.\n",
        "\n",
        "Example:\n",
        "namelist([ {'name': 'Bart'}, {'name': 'Lisa'}, {'name': 'Maggie'} ])\n",
        "# returns 'Bart, Lisa & Maggie'\n",
        "\n",
        "namelist([ {'name': 'Bart'}, {'name': 'Lisa'} ])\n",
        "# returns 'Bart & Lisa'\n",
        "\n",
        "namelist([ {'name': 'Bart'} ])\n",
        "# returns 'Bart'\n",
        "\n",
        "namelist([])\n",
        "# returns ''"
      ],
      "execution_count": null,
      "outputs": []
    },
    {
      "cell_type": "code",
      "metadata": {
        "id": "ptQw4sWtoYzb"
      },
      "source": [
        "import re"
      ],
      "execution_count": 1,
      "outputs": []
    },
    {
      "cell_type": "code",
      "metadata": {
        "id": "RSHqG5DVp4yg"
      },
      "source": [
        "c= re.compile(r'([A-Z][a-z]+)')\n",
        "#Dont want the name so you use ^ (gives everything bout the name), then I just want the next word(which should be the name \n",
        "# without the :\n",
        "\n"
      ],
      "execution_count": 57,
      "outputs": []
    },
    {
      "cell_type": "code",
      "metadata": {
        "id": "zPA3osM-qRP-"
      },
      "source": [
        "names = c.findall(\"{'name': 'Bart'}, {'name': 'Lisa'}, {'name': 'Maggie'}\")"
      ],
      "execution_count": 59,
      "outputs": []
    },
    {
      "cell_type": "code",
      "metadata": {
        "colab": {
          "base_uri": "https://localhost:8080/"
        },
        "id": "_i9hG-vH1Gcc",
        "outputId": "9f9f4488-b916-45fe-e8ed-29ea1716d180"
      },
      "source": [
        "for i in names:\n",
        "  print(str(i))"
      ],
      "execution_count": 62,
      "outputs": [
        {
          "output_type": "stream",
          "name": "stdout",
          "text": [
            "Bart\n",
            "Lisa\n",
            "Maggie\n"
          ]
        }
      ]
    },
    {
      "cell_type": "code",
      "metadata": {
        "colab": {
          "base_uri": "https://localhost:8080/"
        },
        "id": "87LHGgnj1HIM",
        "outputId": "1ded6219-2d46-4698-88c6-9c5e6b1312d5"
      },
      "source": [
        "names"
      ],
      "execution_count": 108,
      "outputs": [
        {
          "output_type": "execute_result",
          "data": {
            "text/plain": [
              "['Bart', 'Lisa', 'Maggie']"
            ]
          },
          "metadata": {},
          "execution_count": 108
        }
      ]
    },
    {
      "cell_type": "code",
      "metadata": {
        "colab": {
          "base_uri": "https://localhost:8080/"
        },
        "id": "kZoFlJt51G_Q",
        "outputId": "4d180919-500c-4d85-a749-073550231be5"
      },
      "source": [
        "type(names)"
      ],
      "execution_count": 109,
      "outputs": [
        {
          "output_type": "execute_result",
          "data": {
            "text/plain": [
              "list"
            ]
          },
          "metadata": {},
          "execution_count": 109
        }
      ]
    },
    {
      "cell_type": "code",
      "metadata": {
        "id": "luu3Jq2h1XuL"
      },
      "source": [
        "add = names[-1] + \" & \" + names[-2]"
      ],
      "execution_count": 80,
      "outputs": []
    },
    {
      "cell_type": "code",
      "metadata": {
        "id": "4nOWwT0M11ds"
      },
      "source": [
        "addlist = []\n",
        "\n",
        "for i in add:\n",
        "  addlist.append(i)"
      ],
      "execution_count": 81,
      "outputs": []
    },
    {
      "cell_type": "code",
      "metadata": {
        "colab": {
          "base_uri": "https://localhost:8080/"
        },
        "id": "fdQrTcQn19Ej",
        "outputId": "8e4e8ed7-3e22-4d1e-e087-e52478babbdc"
      },
      "source": [
        "addlist"
      ],
      "execution_count": 82,
      "outputs": [
        {
          "output_type": "execute_result",
          "data": {
            "text/plain": [
              "['M', 'a', 'g', 'g', 'i', 'e', ' ', '&', ' ', 'L', 'i', 's', 'a']"
            ]
          },
          "metadata": {},
          "execution_count": 82
        }
      ]
    },
    {
      "cell_type": "code",
      "metadata": {
        "colab": {
          "base_uri": "https://localhost:8080/",
          "height": 35
        },
        "id": "OM7dFuSJ1Xr5",
        "outputId": "93a556e7-810e-4ec3-f59a-2ae2cf83ef76"
      },
      "source": [
        "add"
      ],
      "execution_count": 84,
      "outputs": [
        {
          "output_type": "execute_result",
          "data": {
            "application/vnd.google.colaboratory.intrinsic+json": {
              "type": "string"
            },
            "text/plain": [
              "'Maggie & Lisa'"
            ]
          },
          "metadata": {},
          "execution_count": 84
        }
      ]
    },
    {
      "cell_type": "code",
      "metadata": {
        "id": "D6bg4ash3ajL"
      },
      "source": [
        "ct = str(names[:-2])"
      ],
      "execution_count": 97,
      "outputs": []
    },
    {
      "cell_type": "code",
      "metadata": {
        "colab": {
          "base_uri": "https://localhost:8080/",
          "height": 35
        },
        "id": "kJe6aWkv3e9h",
        "outputId": "e38d5957-8cfc-451a-fea2-58c440b8694d"
      },
      "source": [
        "ct + add"
      ],
      "execution_count": 99,
      "outputs": [
        {
          "output_type": "execute_result",
          "data": {
            "application/vnd.google.colaboratory.intrinsic+json": {
              "type": "string"
            },
            "text/plain": [
              "\"['Bart']Maggie & Lisa\""
            ]
          },
          "metadata": {},
          "execution_count": 99
        }
      ]
    },
    {
      "cell_type": "code",
      "metadata": {
        "colab": {
          "base_uri": "https://localhost:8080/"
        },
        "id": "_RcHnuy03e3u",
        "outputId": "92a898a8-dbc7-41bb-c6df-8bca23307e00"
      },
      "source": [
        "type(ct)"
      ],
      "execution_count": 101,
      "outputs": [
        {
          "output_type": "execute_result",
          "data": {
            "text/plain": [
              "str"
            ]
          },
          "metadata": {},
          "execution_count": 101
        }
      ]
    },
    {
      "cell_type": "code",
      "metadata": {
        "id": "R0wbfXAj1XqH"
      },
      "source": [
        "cc = str(names)"
      ],
      "execution_count": 87,
      "outputs": []
    },
    {
      "cell_type": "code",
      "metadata": {
        "colab": {
          "base_uri": "https://localhost:8080/"
        },
        "id": "knOcfIV-1XnB",
        "outputId": "e4ad228e-7329-4fff-eba3-2151fd66b871"
      },
      "source": [
        "type(cc)"
      ],
      "execution_count": 88,
      "outputs": [
        {
          "output_type": "execute_result",
          "data": {
            "text/plain": [
              "str"
            ]
          },
          "metadata": {},
          "execution_count": 88
        }
      ]
    },
    {
      "cell_type": "code",
      "metadata": {
        "colab": {
          "base_uri": "https://localhost:8080/",
          "height": 35
        },
        "id": "o0j5opqY1Xkf",
        "outputId": "b48a3c98-c335-46f1-e3b7-af5568f14685"
      },
      "source": [
        "cc + add"
      ],
      "execution_count": 90,
      "outputs": [
        {
          "output_type": "execute_result",
          "data": {
            "application/vnd.google.colaboratory.intrinsic+json": {
              "type": "string"
            },
            "text/plain": [
              "\"['Bart', 'Lisa', 'Maggie']Maggie & Lisa\""
            ]
          },
          "metadata": {},
          "execution_count": 90
        }
      ]
    },
    {
      "cell_type": "code",
      "metadata": {
        "colab": {
          "base_uri": "https://localhost:8080/"
        },
        "id": "5JsLrv8E22Cs",
        "outputId": "f61ce765-7453-4b1a-81e4-695949e540d6"
      },
      "source": [
        "names"
      ],
      "execution_count": 91,
      "outputs": [
        {
          "output_type": "execute_result",
          "data": {
            "text/plain": [
              "['Bart', 'Lisa', 'Maggie']"
            ]
          },
          "metadata": {},
          "execution_count": 91
        }
      ]
    },
    {
      "cell_type": "code",
      "metadata": {
        "id": "H882ZHsd22AS"
      },
      "source": [
        "empty = []\n",
        "empty.append(names[-1])\n",
        "empty.append(\"&\")\n",
        "empty.append(names[-2])"
      ],
      "execution_count": 95,
      "outputs": []
    },
    {
      "cell_type": "code",
      "metadata": {
        "colab": {
          "base_uri": "https://localhost:8080/"
        },
        "id": "QxCBXyJC218_",
        "outputId": "06483152-e876-4e4a-9b63-1c44dbcb1bf8"
      },
      "source": [
        "empty"
      ],
      "execution_count": 96,
      "outputs": [
        {
          "output_type": "execute_result",
          "data": {
            "text/plain": [
              "['Maggie', '&', 'Lisa']"
            ]
          },
          "metadata": {},
          "execution_count": 96
        }
      ]
    },
    {
      "cell_type": "code",
      "metadata": {
        "id": "wG1lR-CI216h"
      },
      "source": [
        ""
      ],
      "execution_count": null,
      "outputs": []
    },
    {
      "cell_type": "code",
      "metadata": {
        "id": "IE1znI5etAri"
      },
      "source": [
        "c.search(\"{'name': 'Bart'}, {'name': 'Lisa'}, {'name': 'Maggie'}\")"
      ],
      "execution_count": 49,
      "outputs": []
    },
    {
      "cell_type": "code",
      "metadata": {
        "id": "Q_nESnJdtekZ"
      },
      "source": [
        "for i in c.finditer(\"{'name': 'Bart'}, {'name': 'Lisa'}, {'name': 'Maggie'}\"):\n",
        "  print(i)"
      ],
      "execution_count": 50,
      "outputs": []
    },
    {
      "cell_type": "code",
      "metadata": {
        "colab": {
          "base_uri": "https://localhost:8080/"
        },
        "id": "zekCZdlxtiSe",
        "outputId": "ae3f2746-6fbf-4c3e-bf2b-16b1ae1fc074"
      },
      "source": [
        "c.match(\"{'name': 'Bart'}, {'name': 'Lisa'}, {'name': 'Maggie'}\")"
      ],
      "execution_count": 33,
      "outputs": [
        {
          "output_type": "execute_result",
          "data": {
            "text/plain": [
              "<re.Match object; span=(0, 10), match=\"{'name': '\">"
            ]
          },
          "metadata": {},
          "execution_count": 33
        }
      ]
    },
    {
      "cell_type": "code",
      "metadata": {
        "id": "pJ059sqVtqSO"
      },
      "source": [
        "m = c.match(\"{'name': 'Bart'}, {'name': 'Lisa'}, {'name': 'Maggie'}\")"
      ],
      "execution_count": 20,
      "outputs": []
    },
    {
      "cell_type": "code",
      "metadata": {
        "id": "KMDWRBUats5f"
      },
      "source": [
        "m = c.match('tempo')"
      ],
      "execution_count": 23,
      "outputs": []
    },
    {
      "cell_type": "code",
      "metadata": {
        "colab": {
          "base_uri": "https://localhost:8080/"
        },
        "id": "bKgxo0gXuMq8",
        "outputId": "d7601d88-916e-4e2c-a846-ffa80ed2abc0"
      },
      "source": [
        "m"
      ],
      "execution_count": 24,
      "outputs": [
        {
          "output_type": "execute_result",
          "data": {
            "text/plain": [
              "<re.Match object; span=(0, 5), match='tempo'>"
            ]
          },
          "metadata": {},
          "execution_count": 24
        }
      ]
    },
    {
      "cell_type": "code",
      "metadata": {
        "colab": {
          "base_uri": "https://localhost:8080/",
          "height": 35
        },
        "id": "kJWI_XqQuYVw",
        "outputId": "1223baaf-2690-4da7-a313-cdda2240ef92"
      },
      "source": [
        "m.group()"
      ],
      "execution_count": 25,
      "outputs": [
        {
          "output_type": "execute_result",
          "data": {
            "application/vnd.google.colaboratory.intrinsic+json": {
              "type": "string"
            },
            "text/plain": [
              "'tempo'"
            ]
          },
          "metadata": {},
          "execution_count": 25
        }
      ]
    },
    {
      "cell_type": "code",
      "metadata": {
        "colab": {
          "base_uri": "https://localhost:8080/"
        },
        "id": "Dd4el09guZU4",
        "outputId": "28250b4d-fc67-4b91-9ba5-1ce6d9919f69"
      },
      "source": [
        "m.start()"
      ],
      "execution_count": 26,
      "outputs": [
        {
          "output_type": "execute_result",
          "data": {
            "text/plain": [
              "0"
            ]
          },
          "metadata": {},
          "execution_count": 26
        }
      ]
    },
    {
      "cell_type": "code",
      "metadata": {
        "colab": {
          "base_uri": "https://localhost:8080/"
        },
        "id": "2ps_e4CUubFW",
        "outputId": "bce69c21-9e49-486f-d9cd-0b826d1d53d3"
      },
      "source": [
        "m.end()"
      ],
      "execution_count": 27,
      "outputs": [
        {
          "output_type": "execute_result",
          "data": {
            "text/plain": [
              "5"
            ]
          },
          "metadata": {},
          "execution_count": 27
        }
      ]
    },
    {
      "cell_type": "code",
      "metadata": {
        "colab": {
          "base_uri": "https://localhost:8080/"
        },
        "id": "fxMickWVucmG",
        "outputId": "700622fa-9268-4f31-e5bc-b0106ec3bf4f"
      },
      "source": [
        "m.span()"
      ],
      "execution_count": 28,
      "outputs": [
        {
          "output_type": "execute_result",
          "data": {
            "text/plain": [
              "(0, 5)"
            ]
          },
          "metadata": {},
          "execution_count": 28
        }
      ]
    },
    {
      "cell_type": "code",
      "metadata": {
        "colab": {
          "base_uri": "https://localhost:8080/"
        },
        "id": "e-UuwaOzud1T",
        "outputId": "d3781b84-da60-412d-8d98-c6b1090e7edd"
      },
      "source": [
        "names"
      ],
      "execution_count": 102,
      "outputs": [
        {
          "output_type": "execute_result",
          "data": {
            "text/plain": [
              "['Bart', 'Lisa', 'Maggie']"
            ]
          },
          "metadata": {},
          "execution_count": 102
        }
      ]
    },
    {
      "cell_type": "code",
      "metadata": {
        "colab": {
          "base_uri": "https://localhost:8080/",
          "height": 35
        },
        "id": "NLLDbWvV5xzS",
        "outputId": "8a6ca45a-2639-49f3-b650-4c67f63e5f49"
      },
      "source": [
        "add"
      ],
      "execution_count": 103,
      "outputs": [
        {
          "output_type": "execute_result",
          "data": {
            "application/vnd.google.colaboratory.intrinsic+json": {
              "type": "string"
            },
            "text/plain": [
              "'Maggie & Lisa'"
            ]
          },
          "metadata": {},
          "execution_count": 103
        }
      ]
    },
    {
      "cell_type": "code",
      "metadata": {
        "colab": {
          "base_uri": "https://localhost:8080/"
        },
        "id": "IdMC4Nln5ylh",
        "outputId": "6d8db3af-1945-4adb-c359-5a55b18bd83e"
      },
      "source": [
        "names[:-2]"
      ],
      "execution_count": 105,
      "outputs": [
        {
          "output_type": "execute_result",
          "data": {
            "text/plain": [
              "['Bart']"
            ]
          },
          "metadata": {},
          "execution_count": 105
        }
      ]
    },
    {
      "cell_type": "code",
      "metadata": {
        "colab": {
          "base_uri": "https://localhost:8080/"
        },
        "id": "lJajtNu750ht",
        "outputId": "3d610086-96fb-4f23-b2ae-44c90cfe9b80"
      },
      "source": [
        "for i in range(len(names)):\n",
        "  print(names[i])"
      ],
      "execution_count": 115,
      "outputs": [
        {
          "output_type": "stream",
          "name": "stdout",
          "text": [
            "Bart\n",
            "Lisa\n",
            "Maggie\n"
          ]
        }
      ]
    },
    {
      "cell_type": "code",
      "metadata": {
        "colab": {
          "base_uri": "https://localhost:8080/",
          "height": 35
        },
        "id": "p5ad1DAi55sn",
        "outputId": "9b526004-b4b4-4f12-e02c-d04783ecd34a"
      },
      "source": [
        "names[1]"
      ],
      "execution_count": 111,
      "outputs": [
        {
          "output_type": "execute_result",
          "data": {
            "application/vnd.google.colaboratory.intrinsic+json": {
              "type": "string"
            },
            "text/plain": [
              "'Lisa'"
            ]
          },
          "metadata": {},
          "execution_count": 111
        }
      ]
    },
    {
      "cell_type": "code",
      "metadata": {
        "id": "Mk3yGjmP6Dcp"
      },
      "source": [
        "def is_isogram(string):\n",
        "    char_list = []\n",
        "    for char in string:\n",
        "        if char.isalpha():\n",
        "            if char in char_list:\n",
        "                return False\n",
        "                char_list.append(char)\n",
        "    return True"
      ],
      "execution_count": 116,
      "outputs": []
    },
    {
      "cell_type": "code",
      "metadata": {
        "colab": {
          "base_uri": "https://localhost:8080/"
        },
        "id": "arT_89537DMp",
        "outputId": "3ff3f1ba-8647-46ce-b701-a95f41c86cd0"
      },
      "source": [
        "is_isogram('Educaationa')"
      ],
      "execution_count": 120,
      "outputs": [
        {
          "output_type": "execute_result",
          "data": {
            "text/plain": [
              "True"
            ]
          },
          "metadata": {},
          "execution_count": 120
        }
      ]
    },
    {
      "cell_type": "code",
      "metadata": {
        "id": "18ErmgGq7FJM"
      },
      "source": [
        "def is_isogram1(txt):\n",
        "    seen = set()\n",
        "    for char in txt.lower():\n",
        "        if char in seen:\n",
        "            return False\n",
        "        seen.add(char)\n",
        "    return True"
      ],
      "execution_count": 121,
      "outputs": []
    },
    {
      "cell_type": "code",
      "metadata": {
        "colab": {
          "base_uri": "https://localhost:8080/"
        },
        "id": "8ntfB_mI7jmc",
        "outputId": "18d8fb63-51f3-40ec-a141-69240943ecad"
      },
      "source": [
        "is_isogram1(\"Educaation\")"
      ],
      "execution_count": 123,
      "outputs": [
        {
          "output_type": "execute_result",
          "data": {
            "text/plain": [
              "False"
            ]
          },
          "metadata": {},
          "execution_count": 123
        }
      ]
    },
    {
      "cell_type": "markdown",
      "metadata": {
        "id": "fBJ0_7bh7lNX"
      },
      "source": [
        "Your team is writing a fancy new text editor and you've been tasked with implementing the line numbering.\n",
        "\n",
        "Write a function which takes a list of strings and returns each line prepended by the correct number.\n",
        "\n",
        "The numbering starts at 1. The format is n: string. Notice the colon and space in between."
      ]
    },
    {
      "cell_type": "markdown",
      "metadata": {
        "id": "DM0JZN8J89UV"
      },
      "source": [
        "number([]) # => []\n",
        "number([\"a\", \"b\", \"c\"]) # => [\"1: a\", \"2: b\", \"3: c\"]\n"
      ]
    },
    {
      "cell_type": "code",
      "metadata": {
        "id": "fVwAkSZz86-m"
      },
      "source": [
        "number = ([\"aaa\",\"bcs\",\"c\",\"d\"])"
      ],
      "execution_count": 142,
      "outputs": []
    },
    {
      "cell_type": "code",
      "metadata": {
        "colab": {
          "base_uri": "https://localhost:8080/"
        },
        "id": "cVQCMFEY87ku",
        "outputId": "e8c99575-5186-4f63-c69b-61e4dc3aeb3c"
      },
      "source": [
        "number"
      ],
      "execution_count": 130,
      "outputs": [
        {
          "output_type": "execute_result",
          "data": {
            "text/plain": [
              "['a', 'b', 'c', 'd']"
            ]
          },
          "metadata": {},
          "execution_count": 130
        }
      ]
    },
    {
      "cell_type": "code",
      "metadata": {
        "colab": {
          "base_uri": "https://localhost:8080/"
        },
        "id": "cMXljVSv87iF",
        "outputId": "5f5e49d1-4a3c-4d17-d318-1ac566f4b0d6"
      },
      "source": [
        "type(number)"
      ],
      "execution_count": 131,
      "outputs": [
        {
          "output_type": "execute_result",
          "data": {
            "text/plain": [
              "list"
            ]
          },
          "metadata": {},
          "execution_count": 131
        }
      ]
    },
    {
      "cell_type": "code",
      "metadata": {
        "colab": {
          "base_uri": "https://localhost:8080/"
        },
        "id": "wcTDH-ov87fr",
        "outputId": "b3c8581b-5843-4a1a-f7eb-00142323530d"
      },
      "source": [
        "[i for i in number ]"
      ],
      "execution_count": 148,
      "outputs": [
        {
          "output_type": "execute_result",
          "data": {
            "text/plain": [
              "['aaa', 'bcs', 'c', 'd']"
            ]
          },
          "metadata": {},
          "execution_count": 148
        }
      ]
    },
    {
      "cell_type": "code",
      "metadata": {
        "colab": {
          "base_uri": "https://localhost:8080/"
        },
        "id": "OC6ERzSw87dI",
        "outputId": "45202dbc-c39e-4e44-abad-73fc1be9a944"
      },
      "source": [
        ""
      ],
      "execution_count": 147,
      "outputs": [
        {
          "output_type": "execute_result",
          "data": {
            "text/plain": [
              "['aaa', 'bcs', 'c', 'd']"
            ]
          },
          "metadata": {},
          "execution_count": 147
        }
      ]
    },
    {
      "cell_type": "code",
      "metadata": {
        "id": "5UBC9QwjAwIR"
      },
      "source": [
        "count = 0 \n",
        "app = []\n",
        "def namez(number):\n",
        "  count = 0 \n",
        "  for i in number:\n",
        "    count +=1\n",
        "  print(i,count)"
      ],
      "execution_count": 193,
      "outputs": []
    },
    {
      "cell_type": "code",
      "metadata": {
        "colab": {
          "base_uri": "https://localhost:8080/"
        },
        "id": "2NjVOicgCorc",
        "outputId": "6efd61e3-8a24-4912-f6d9-09e54620d244"
      },
      "source": [
        "namez(number)"
      ],
      "execution_count": 195,
      "outputs": [
        {
          "output_type": "stream",
          "name": "stdout",
          "text": [
            "d 4\n"
          ]
        }
      ]
    },
    {
      "cell_type": "code",
      "metadata": {
        "colab": {
          "base_uri": "https://localhost:8080/"
        },
        "id": "LBE5yj-2DIsz",
        "outputId": "b40e9786-7417-4af6-aef3-a79405989f4b"
      },
      "source": [
        "len(app)"
      ],
      "execution_count": 182,
      "outputs": [
        {
          "output_type": "execute_result",
          "data": {
            "text/plain": [
              "0"
            ]
          },
          "metadata": {},
          "execution_count": 182
        }
      ]
    },
    {
      "cell_type": "code",
      "metadata": {
        "colab": {
          "base_uri": "https://localhost:8080/"
        },
        "id": "qAfIXMSgDgJX",
        "outputId": "34d90b65-5472-4a9c-bdad-5cb7abc7bd48"
      },
      "source": [
        ""
      ],
      "execution_count": 183,
      "outputs": [
        {
          "output_type": "execute_result",
          "data": {
            "text/plain": [
              "('d', 4)"
            ]
          },
          "metadata": {},
          "execution_count": 183
        }
      ]
    },
    {
      "cell_type": "markdown",
      "metadata": {
        "id": "oq0aWiBlDxDL"
      },
      "source": [
        "#Welcome.\n",
        "\n",
        "In this kata you are required to, given a string, replace every letter with its position in the alphabet.\n",
        "\n",
        "If anything in the text isn't a letter, ignore it and don't return it."
      ]
    },
    {
      "cell_type": "code",
      "metadata": {
        "id": "osDHTQ3DHREd"
      },
      "source": [
        "import string\n",
        "\n",
        "\n",
        "def alphabet_position(text):\n",
        "    text = text.lower()\n",
        "    alphabet = string.ascii_lowercase\n",
        "    return ' '.join([str(ord(char)-96) if char in alphabet else char for char in text])"
      ],
      "execution_count": 214,
      "outputs": []
    },
    {
      "cell_type": "code",
      "metadata": {
        "id": "L-sPulsjHTyI"
      },
      "source": [
        "text = 'aheCatwiththegat'"
      ],
      "execution_count": 215,
      "outputs": []
    },
    {
      "cell_type": "code",
      "metadata": {
        "colab": {
          "base_uri": "https://localhost:8080/",
          "height": 35
        },
        "id": "JthJWi_pHZjP",
        "outputId": "eeeb3505-3e93-4427-80e9-971de0a5cadb"
      },
      "source": [
        "alphabet_position(text)"
      ],
      "execution_count": 216,
      "outputs": [
        {
          "output_type": "execute_result",
          "data": {
            "application/vnd.google.colaboratory.intrinsic+json": {
              "type": "string"
            },
            "text/plain": [
              "'1 8 5 3 1 20 23 9 20 8 20 8 5 7 1 20'"
            ]
          },
          "metadata": {},
          "execution_count": 216
        }
      ]
    },
    {
      "cell_type": "code",
      "metadata": {
        "id": "6wexFM21HbCN"
      },
      "source": [
        "def alphabet_position23(text):\n",
        "\n",
        "    dict = {'a':'1','b':'2','c':'3','d':'4','e':'5','f':'6','g':'7','h':'8','i':'9','j':'10','k':'11','l':'12','m':'13','n':'14','o':'15','p':'16','q':'17','r':'18','s':'19','t':'20','u':'21','v':'22','w':'23','x':'24','y':'25','z':'26'}\n",
        "    new_text = text.lower()\n",
        "    for i in new_text:\n",
        "        if i in dict:\n",
        "            new_text = new_text.replace(i, dict[i])\n",
        "    print(new_text)"
      ],
      "execution_count": 226,
      "outputs": []
    },
    {
      "cell_type": "code",
      "metadata": {
        "colab": {
          "base_uri": "https://localhost:8080/"
        },
        "id": "27x_ZfTRHkOJ",
        "outputId": "3c507ae9-082a-4031-d805-2619a8464247"
      },
      "source": [
        "alphabet_position1(text)"
      ],
      "execution_count": 218,
      "outputs": [
        {
          "output_type": "stream",
          "name": "stdout",
          "text": [
            "185312023920820857120\n"
          ]
        }
      ]
    },
    {
      "cell_type": "code",
      "metadata": {
        "id": "BwRP0VGNHlfd"
      },
      "source": [
        "def alphabet_position22(text):\n",
        "\n",
        "    dict = {'a':'1','b':'2','c':'3','d':'4','e':'5','f':'6','g':'7','h':'8','i':'9','j':'10','k':'11','l':'12','m':'13','n':'14','o':'15','p':'16','q':'17','r':'18','s':'19','t':'20','u':'21','v':'22','w':'23','x':'24','y':'25','z':'26'}\n",
        "    new_text = text.lower()\n",
        "    \n",
        "    for i in new_text:\n",
        "        if i in dict:\n",
        "            new_text = new_text.replace(i, dict[i])\n",
        "    print (new_text)"
      ],
      "execution_count": 230,
      "outputs": []
    },
    {
      "cell_type": "code",
      "metadata": {
        "colab": {
          "base_uri": "https://localhost:8080/"
        },
        "id": "4sWQ61TFgt69",
        "outputId": "a110f808-8640-4f6f-fd80-af64b7472f9b"
      },
      "source": [
        "alphabet_position22('text')"
      ],
      "execution_count": 255,
      "outputs": [
        {
          "output_type": "stream",
          "name": "stdout",
          "text": [
            "2052420\n"
          ]
        }
      ]
    },
    {
      "cell_type": "code",
      "metadata": {
        "colab": {
          "base_uri": "https://localhost:8080/",
          "height": 35
        },
        "id": "QVHBBuk7gvPL",
        "outputId": "878b9598-53aa-4dac-f3a4-eb66ba093059"
      },
      "source": [
        "alphabet_position1(text)"
      ],
      "execution_count": 223,
      "outputs": [
        {
          "output_type": "execute_result",
          "data": {
            "application/vnd.google.colaboratory.intrinsic+json": {
              "type": "string"
            },
            "text/plain": [
              "' '"
            ]
          },
          "metadata": {},
          "execution_count": 223
        }
      ]
    },
    {
      "cell_type": "code",
      "metadata": {
        "colab": {
          "base_uri": "https://localhost:8080/",
          "height": 35
        },
        "id": "0g6gZIllg1By",
        "outputId": "adb9e746-bd13-47f4-d866-135bd7d99e86"
      },
      "source": [
        "alphabet_position2(text)"
      ],
      "execution_count": 224,
      "outputs": [
        {
          "output_type": "execute_result",
          "data": {
            "application/vnd.google.colaboratory.intrinsic+json": {
              "type": "string"
            },
            "text/plain": [
              "' '"
            ]
          },
          "metadata": {},
          "execution_count": 224
        }
      ]
    },
    {
      "cell_type": "code",
      "metadata": {
        "colab": {
          "base_uri": "https://localhost:8080/"
        },
        "id": "ky7sD6PJg2z_",
        "outputId": "d9be917d-3451-4c0c-8563-81bd93fc1a87"
      },
      "source": [
        "alphabet_position23(text)"
      ],
      "execution_count": 227,
      "outputs": [
        {
          "output_type": "stream",
          "name": "stdout",
          "text": [
            "185312023920820857120\n"
          ]
        }
      ]
    },
    {
      "cell_type": "code",
      "metadata": {
        "colab": {
          "base_uri": "https://localhost:8080/"
        },
        "id": "Yu95zu_jhHZD",
        "outputId": "e7bd8478-01dc-4433-a284-70f0d4fd402c"
      },
      "source": [
        "alphabet_position23(\"\")"
      ],
      "execution_count": 229,
      "outputs": [
        {
          "output_type": "stream",
          "name": "stdout",
          "text": [
            "\n"
          ]
        }
      ]
    },
    {
      "cell_type": "code",
      "metadata": {
        "colab": {
          "base_uri": "https://localhost:8080/"
        },
        "id": "IO1U2kabhNkM",
        "outputId": "5b9b1b10-49f2-429b-f2d5-5997ba2c41cc"
      },
      "source": [
        "alphabet_position22(\"15ijbujytbheqcajll15kthwtmwsebdqswqmuuuw15eleukxqglxkvqeyvwelbchxsvlqtpimixtatxjdswlckacxhzaxfbancz15epa\")"
      ],
      "execution_count": 256,
      "outputs": [
        {
          "output_type": "stream",
          "name": "stdout",
          "text": [
            "1591022110252028517311012121511208232013231952417192317132121212315512521112417712241122175252223512238241922121720169139242012024104192312311132482612462114326155161\n"
          ]
        }
      ]
    },
    {
      "cell_type": "code",
      "metadata": {
        "id": "FctfA0yChpUK"
      },
      "source": [
        "import string\n",
        "def alphabet_position_done(text):\n",
        "    text = text.lower()\n",
        "    if text == \"-\" or ',' or '.':\n",
        "       print('')\n",
        "    else:\n",
        "      alphabet = string.ascii_lowercase\n",
        "      return ''.join([str(ord(char)-96) if char in alphabet else char for char in text])"
      ],
      "execution_count": 248,
      "outputs": []
    },
    {
      "cell_type": "code",
      "metadata": {
        "colab": {
          "base_uri": "https://localhost:8080/"
        },
        "id": "Z0NQJj5Zh_8B",
        "outputId": "49dc6bc5-d58e-4ac3-d94e-b96938e297aa"
      },
      "source": [
        "alphabet_position_done(text)"
      ],
      "execution_count": 250,
      "outputs": [
        {
          "output_type": "stream",
          "name": "stdout",
          "text": [
            "\n"
          ]
        }
      ]
    },
    {
      "cell_type": "code",
      "metadata": {
        "id": "WNFWiTIViBvD"
      },
      "source": [
        ""
      ],
      "execution_count": 249,
      "outputs": []
    }
  ]
}