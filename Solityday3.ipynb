{
  "nbformat": 4,
  "nbformat_minor": 0,
  "metadata": {
    "colab": {
      "name": "Solityday3.ipynb",
      "provenance": [],
      "authorship_tag": "ABX9TyPdtu6Uj653ABm6729Ycs2Z",
      "include_colab_link": true
    },
    "kernelspec": {
      "name": "python3",
      "display_name": "Python 3"
    },
    "language_info": {
      "name": "python"
    }
  },
  "cells": [
    {
      "cell_type": "markdown",
      "metadata": {
        "id": "view-in-github",
        "colab_type": "text"
      },
      "source": [
        "<a href=\"https://colab.research.google.com/github/Zypher44/100DaysOfCode/blob/main/Solityday3.ipynb\" target=\"_parent\"><img src=\"https://colab.research.google.com/assets/colab-badge.svg\" alt=\"Open In Colab\"/></a>"
      ]
    },
    {
      "cell_type": "code",
      "execution_count": null,
      "metadata": {
        "id": "ZzVfWTqDI2xi"
      },
      "outputs": [],
      "source": [
        "pragma solidity >=0.6.6 <0.9.0;\n",
        "\n",
        "import '@chainlink/contracts/src/v0.6/interfaces/AggregatorV3Interface.sol'\n",
        "\n",
        "contract FundMe{\n",
        "\n",
        "    mapping(address => uint256) public addressToAmountFunded;\n",
        "\n",
        "    function fund() public payable{\n",
        "        addressToAmountFunded[msg.sender] += msg.value;\n",
        "        // what the eth -> usd conversion rate \n",
        "    }\n",
        "      \n",
        "\n",
        "}"
      ]
    }
  ]
}