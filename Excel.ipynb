{
  "nbformat": 4,
  "nbformat_minor": 0,
  "metadata": {
    "colab": {
      "name": "Excel.ipynb",
      "provenance": [],
      "authorship_tag": "ABX9TyPA6N5FBXPvbOY5WvPheFNG",
      "include_colab_link": true
    },
    "kernelspec": {
      "name": "python3",
      "display_name": "Python 3"
    },
    "language_info": {
      "name": "python"
    }
  },
  "cells": [
    {
      "cell_type": "markdown",
      "metadata": {
        "id": "view-in-github",
        "colab_type": "text"
      },
      "source": [
        "<a href=\"https://colab.research.google.com/github/Zypher44/100DaysOfCode/blob/main/Excel.ipynb\" target=\"_parent\"><img src=\"https://colab.research.google.com/assets/colab-badge.svg\" alt=\"Open In Colab\"/></a>"
      ]
    },
    {
      "cell_type": "code",
      "metadata": {
        "id": "zfZtrt-1EBn2"
      },
      "source": [
        "import openpyxl"
      ],
      "execution_count": 1,
      "outputs": []
    },
    {
      "cell_type": "code",
      "metadata": {
        "colab": {
          "base_uri": "https://localhost:8080/"
        },
        "id": "gwGxNzmwEGT0",
        "outputId": "96444bf2-1108-46c1-872e-45fc1756e9b0"
      },
      "source": [
        "wb = openpyxl.load_workbook('/example.xlsx')\n",
        "type(wb)"
      ],
      "execution_count": 4,
      "outputs": [
        {
          "output_type": "execute_result",
          "data": {
            "text/plain": [
              "openpyxl.workbook.workbook.Workbook"
            ]
          },
          "metadata": {},
          "execution_count": 4
        }
      ]
    },
    {
      "cell_type": "code",
      "metadata": {
        "colab": {
          "base_uri": "https://localhost:8080/"
        },
        "id": "dIhEJlK4FVUL",
        "outputId": "1bba5959-e25f-4340-a194-33400591e2a7"
      },
      "source": [
        "wb.get_sheet_names()"
      ],
      "execution_count": 5,
      "outputs": [
        {
          "output_type": "stream",
          "text": [
            "/usr/local/lib/python3.7/dist-packages/ipykernel_launcher.py:1: DeprecationWarning: Call to deprecated function get_sheet_names (Use wb.sheetnames).\n",
            "  \"\"\"Entry point for launching an IPython kernel.\n"
          ],
          "name": "stderr"
        },
        {
          "output_type": "execute_result",
          "data": {
            "text/plain": [
              "['Sheet1', 'Sheet2', 'Sheet3']"
            ]
          },
          "metadata": {},
          "execution_count": 5
        }
      ]
    },
    {
      "cell_type": "code",
      "metadata": {
        "colab": {
          "base_uri": "https://localhost:8080/"
        },
        "id": "UfR8qkvZFhrJ",
        "outputId": "db283b9c-2d23-4eb0-8224-36c4eed9b536"
      },
      "source": [
        "wb['Sheet1']"
      ],
      "execution_count": 6,
      "outputs": [
        {
          "output_type": "execute_result",
          "data": {
            "text/plain": [
              "<Worksheet \"Sheet1\">"
            ]
          },
          "metadata": {},
          "execution_count": 6
        }
      ]
    },
    {
      "cell_type": "code",
      "metadata": {
        "id": "96kwKLsuFqPc"
      },
      "source": [
        "sheet1 = wb['Sheet1']\n"
      ],
      "execution_count": 7,
      "outputs": []
    },
    {
      "cell_type": "code",
      "metadata": {
        "colab": {
          "base_uri": "https://localhost:8080/"
        },
        "id": "V0nPHIVeGCr9",
        "outputId": "20ea7082-b785-4e11-b112-cee001d06fb5"
      },
      "source": [
        "sheet1['A1'].value"
      ],
      "execution_count": 8,
      "outputs": [
        {
          "output_type": "execute_result",
          "data": {
            "text/plain": [
              "datetime.datetime(2015, 4, 5, 13, 34, 2)"
            ]
          },
          "metadata": {},
          "execution_count": 8
        }
      ]
    },
    {
      "cell_type": "code",
      "metadata": {
        "id": "QIV1Std0GFUv"
      },
      "source": [
        "c = sheet1['B1']"
      ],
      "execution_count": 9,
      "outputs": []
    },
    {
      "cell_type": "code",
      "metadata": {
        "colab": {
          "base_uri": "https://localhost:8080/"
        },
        "id": "3Hq23dikGLAE",
        "outputId": "33fd86f4-bb9e-4d61-ebc9-61e23c52f39a"
      },
      "source": [
        "c.row"
      ],
      "execution_count": 10,
      "outputs": [
        {
          "output_type": "execute_result",
          "data": {
            "text/plain": [
              "1"
            ]
          },
          "metadata": {},
          "execution_count": 10
        }
      ]
    },
    {
      "cell_type": "code",
      "metadata": {
        "colab": {
          "base_uri": "https://localhost:8080/",
          "height": 35
        },
        "id": "78a3h7E1HQsl",
        "outputId": "f5fd7272-f8a3-416e-e47a-6adcb99f7339"
      },
      "source": [
        "c.value"
      ],
      "execution_count": 11,
      "outputs": [
        {
          "output_type": "execute_result",
          "data": {
            "application/vnd.google.colaboratory.intrinsic+json": {
              "type": "string"
            },
            "text/plain": [
              "'Apples'"
            ]
          },
          "metadata": {},
          "execution_count": 11
        }
      ]
    },
    {
      "cell_type": "code",
      "metadata": {
        "colab": {
          "base_uri": "https://localhost:8080/",
          "height": 35
        },
        "id": "irZqckevHRXF",
        "outputId": "a88c75ec-1500-439e-9f92-360de5259dc8"
      },
      "source": [
        "c.column"
      ],
      "execution_count": 12,
      "outputs": [
        {
          "output_type": "execute_result",
          "data": {
            "application/vnd.google.colaboratory.intrinsic+json": {
              "type": "string"
            },
            "text/plain": [
              "'B'"
            ]
          },
          "metadata": {},
          "execution_count": 12
        }
      ]
    },
    {
      "cell_type": "code",
      "metadata": {
        "id": "-f7x3emgHSuX"
      },
      "source": [
        "c.comment"
      ],
      "execution_count": 13,
      "outputs": []
    },
    {
      "cell_type": "code",
      "metadata": {
        "colab": {
          "base_uri": "https://localhost:8080/"
        },
        "id": "z7HVHfslHTrY",
        "outputId": "4033bc1a-1bf4-4da7-f80e-ba8b49d2de0c"
      },
      "source": [
        "sheet1.cell(row=1, column=2)\n",
        "for i in range(1,8,2):\n",
        "  print(i, sheet1.cell(row=i,column=2).value)"
      ],
      "execution_count": 14,
      "outputs": [
        {
          "output_type": "stream",
          "text": [
            "1 Apples\n",
            "3 Pears\n",
            "5 Apples\n",
            "7 Strawberries\n"
          ],
          "name": "stdout"
        }
      ]
    },
    {
      "cell_type": "code",
      "metadata": {
        "colab": {
          "base_uri": "https://localhost:8080/",
          "height": 163
        },
        "id": "VB3Li4VxHx-9",
        "outputId": "79a3668f-ad22-4a90-f5de-8a6d5464f818"
      },
      "source": [
        "sheet1.get_highest_row()"
      ],
      "execution_count": 15,
      "outputs": [
        {
          "output_type": "error",
          "ename": "AttributeError",
          "evalue": "ignored",
          "traceback": [
            "\u001b[0;31m---------------------------------------------------------------------------\u001b[0m",
            "\u001b[0;31mAttributeError\u001b[0m                            Traceback (most recent call last)",
            "\u001b[0;32m<ipython-input-15-4d296febb705>\u001b[0m in \u001b[0;36m<module>\u001b[0;34m()\u001b[0m\n\u001b[0;32m----> 1\u001b[0;31m \u001b[0msheet1\u001b[0m\u001b[0;34m.\u001b[0m\u001b[0mget_highest_row\u001b[0m\u001b[0;34m(\u001b[0m\u001b[0;34m)\u001b[0m\u001b[0;34m\u001b[0m\u001b[0;34m\u001b[0m\u001b[0m\n\u001b[0m",
            "\u001b[0;31mAttributeError\u001b[0m: 'Worksheet' object has no attribute 'get_highest_row'"
          ]
        }
      ]
    },
    {
      "cell_type": "code",
      "metadata": {
        "colab": {
          "base_uri": "https://localhost:8080/",
          "height": 234
        },
        "id": "ts8kL8bxIhEN",
        "outputId": "846a380e-1e7d-4783-a6f6-3255869dfca4"
      },
      "source": [
        "sheet = wb.get_sheet_by_name('Sheet1')\n",
        "sheet.get_highest_row()\n"
      ],
      "execution_count": 16,
      "outputs": [
        {
          "output_type": "stream",
          "text": [
            "/usr/local/lib/python3.7/dist-packages/ipykernel_launcher.py:1: DeprecationWarning: Call to deprecated function get_sheet_by_name (Use wb[sheetname]).\n",
            "  \"\"\"Entry point for launching an IPython kernel.\n"
          ],
          "name": "stderr"
        },
        {
          "output_type": "error",
          "ename": "AttributeError",
          "evalue": "ignored",
          "traceback": [
            "\u001b[0;31m---------------------------------------------------------------------------\u001b[0m",
            "\u001b[0;31mAttributeError\u001b[0m                            Traceback (most recent call last)",
            "\u001b[0;32m<ipython-input-16-b6fb9e9bdc8b>\u001b[0m in \u001b[0;36m<module>\u001b[0;34m()\u001b[0m\n\u001b[1;32m      1\u001b[0m \u001b[0msheet\u001b[0m \u001b[0;34m=\u001b[0m \u001b[0mwb\u001b[0m\u001b[0;34m.\u001b[0m\u001b[0mget_sheet_by_name\u001b[0m\u001b[0;34m(\u001b[0m\u001b[0;34m'Sheet1'\u001b[0m\u001b[0;34m)\u001b[0m\u001b[0;34m\u001b[0m\u001b[0;34m\u001b[0m\u001b[0m\n\u001b[0;32m----> 2\u001b[0;31m \u001b[0msheet\u001b[0m\u001b[0;34m.\u001b[0m\u001b[0mget_highest_row\u001b[0m\u001b[0;34m(\u001b[0m\u001b[0;34m)\u001b[0m\u001b[0;34m\u001b[0m\u001b[0;34m\u001b[0m\u001b[0m\n\u001b[0m",
            "\u001b[0;31mAttributeError\u001b[0m: 'Worksheet' object has no attribute 'get_highest_row'"
          ]
        }
      ]
    },
    {
      "cell_type": "code",
      "metadata": {
        "colab": {
          "base_uri": "https://localhost:8080/",
          "height": 316
        },
        "id": "1GCBOysUIqAr",
        "outputId": "3bbb243d-54ee-4e79-b444-a0002c513106"
      },
      "source": [
        "from openpyxl.cell import get_column_letter, column_index_from_string"
      ],
      "execution_count": 22,
      "outputs": [
        {
          "output_type": "error",
          "ename": "ImportError",
          "evalue": "ignored",
          "traceback": [
            "\u001b[0;31m---------------------------------------------------------------------------\u001b[0m",
            "\u001b[0;31mImportError\u001b[0m                               Traceback (most recent call last)",
            "\u001b[0;32m<ipython-input-22-f6a7bd1c12f8>\u001b[0m in \u001b[0;36m<module>\u001b[0;34m()\u001b[0m\n\u001b[0;32m----> 1\u001b[0;31m \u001b[0;32mfrom\u001b[0m \u001b[0mopenpyxl\u001b[0m\u001b[0;34m.\u001b[0m\u001b[0mcell\u001b[0m \u001b[0;32mimport\u001b[0m \u001b[0mget_column_letter\u001b[0m\u001b[0;34m,\u001b[0m \u001b[0mcolumn_index_from_string\u001b[0m\u001b[0;34m\u001b[0m\u001b[0;34m\u001b[0m\u001b[0m\n\u001b[0m",
            "\u001b[0;31mImportError\u001b[0m: cannot import name 'get_column_letter' from 'openpyxl.cell' (/usr/local/lib/python3.7/dist-packages/openpyxl/cell/__init__.py)",
            "",
            "\u001b[0;31m---------------------------------------------------------------------------\u001b[0;32m\nNOTE: If your import is failing due to a missing package, you can\nmanually install dependencies using either !pip or !apt.\n\nTo view examples of installing some common dependencies, click the\n\"Open Examples\" button below.\n\u001b[0;31m---------------------------------------------------------------------------\u001b[0m\n"
          ],
          "errorDetails": {
            "actions": [
              {
                "action": "open_url",
                "actionText": "Open Examples",
                "url": "/notebooks/snippets/importing_libraries.ipynb"
              }
            ]
          }
        }
      ]
    },
    {
      "cell_type": "code",
      "metadata": {
        "colab": {
          "base_uri": "https://localhost:8080/"
        },
        "id": "LcXwujgs9gAK",
        "outputId": "7b2070dc-5adf-4af3-89e4-36ef6a7e2b74"
      },
      "source": [
        "import openpyxl\n",
        "wb = openpyxl.load_workbook('/example.xlsx')\n",
        "sheet = wb.get_sheet_by_name('Sheet1')\n",
        "tuple(sheet['A1':'C3'])"
      ],
      "execution_count": 24,
      "outputs": [
        {
          "output_type": "stream",
          "text": [
            "/usr/local/lib/python3.7/dist-packages/ipykernel_launcher.py:3: DeprecationWarning: Call to deprecated function get_sheet_by_name (Use wb[sheetname]).\n",
            "  This is separate from the ipykernel package so we can avoid doing imports until\n"
          ],
          "name": "stderr"
        },
        {
          "output_type": "execute_result",
          "data": {
            "text/plain": [
              "((<Cell 'Sheet1'.A1>, <Cell 'Sheet1'.B1>, <Cell 'Sheet1'.C1>),\n",
              " (<Cell 'Sheet1'.A2>, <Cell 'Sheet1'.B2>, <Cell 'Sheet1'.C2>),\n",
              " (<Cell 'Sheet1'.A3>, <Cell 'Sheet1'.B3>, <Cell 'Sheet1'.C3>))"
            ]
          },
          "metadata": {},
          "execution_count": 24
        }
      ]
    },
    {
      "cell_type": "code",
      "metadata": {
        "colab": {
          "base_uri": "https://localhost:8080/"
        },
        "id": "setEVYlO-JeP",
        "outputId": "a5e03b24-9e9e-47ae-9c5f-195f850957e7"
      },
      "source": [
        "for rowOfCellObjects in sheet['A1':'C3']:\n",
        "  for cellObj in rowOfCellObjects:\n",
        "    print(cellObj.coordinate, cellObj.value)\n",
        "  print(\"=====End of Row ======\")"
      ],
      "execution_count": 26,
      "outputs": [
        {
          "output_type": "stream",
          "text": [
            "A1 2015-04-05 13:34:02\n",
            "B1 Apples\n",
            "C1 73\n",
            "=====End of Row ======\n",
            "A2 2015-04-05 03:41:23\n",
            "B2 Cherries\n",
            "C2 85\n",
            "=====End of Row ======\n",
            "A3 2015-04-06 12:46:51\n",
            "B3 Pears\n",
            "C3 14\n",
            "=====End of Row ======\n"
          ],
          "name": "stdout"
        }
      ]
    },
    {
      "cell_type": "code",
      "metadata": {
        "colab": {
          "base_uri": "https://localhost:8080/",
          "height": 163
        },
        "id": "yRP22cYC-knj",
        "outputId": "b6c9a570-a944-408f-98bc-f2d693ec2dc0"
      },
      "source": [
        "sheet2 = wb.active()"
      ],
      "execution_count": 30,
      "outputs": [
        {
          "output_type": "error",
          "ename": "TypeError",
          "evalue": "ignored",
          "traceback": [
            "\u001b[0;31m---------------------------------------------------------------------------\u001b[0m",
            "\u001b[0;31mTypeError\u001b[0m                                 Traceback (most recent call last)",
            "\u001b[0;32m<ipython-input-30-7870fbd70d73>\u001b[0m in \u001b[0;36m<module>\u001b[0;34m()\u001b[0m\n\u001b[0;32m----> 1\u001b[0;31m \u001b[0msheet2\u001b[0m \u001b[0;34m=\u001b[0m \u001b[0mwb\u001b[0m\u001b[0;34m.\u001b[0m\u001b[0mactive\u001b[0m\u001b[0;34m(\u001b[0m\u001b[0;34m)\u001b[0m\u001b[0;34m\u001b[0m\u001b[0;34m\u001b[0m\u001b[0m\n\u001b[0m",
            "\u001b[0;31mTypeError\u001b[0m: 'Worksheet' object is not callable"
          ]
        }
      ]
    },
    {
      "cell_type": "code",
      "metadata": {
        "colab": {
          "base_uri": "https://localhost:8080/",
          "height": 163
        },
        "id": "5yg5dlyd_lP6",
        "outputId": "0d17a117-62b2-46d4-8f0a-84acec0a91ee"
      },
      "source": [
        "sheet.columns[1]"
      ],
      "execution_count": 34,
      "outputs": [
        {
          "output_type": "error",
          "ename": "TypeError",
          "evalue": "ignored",
          "traceback": [
            "\u001b[0;31m---------------------------------------------------------------------------\u001b[0m",
            "\u001b[0;31mTypeError\u001b[0m                                 Traceback (most recent call last)",
            "\u001b[0;32m<ipython-input-34-e35803fc260c>\u001b[0m in \u001b[0;36m<module>\u001b[0;34m()\u001b[0m\n\u001b[0;32m----> 1\u001b[0;31m \u001b[0msheet\u001b[0m\u001b[0;34m.\u001b[0m\u001b[0mcolumns\u001b[0m\u001b[0;34m[\u001b[0m\u001b[0;36m1\u001b[0m\u001b[0;34m]\u001b[0m\u001b[0;34m\u001b[0m\u001b[0;34m\u001b[0m\u001b[0m\n\u001b[0m",
            "\u001b[0;31mTypeError\u001b[0m: 'generator' object is not subscriptable"
          ]
        }
      ]
    },
    {
      "cell_type": "code",
      "metadata": {
        "colab": {
          "base_uri": "https://localhost:8080/"
        },
        "id": "SdybxVtV__ly",
        "outputId": "0b90ba2b-ad1c-486a-e111-ef2caf9681c8"
      },
      "source": [
        "sheet['A1'].value"
      ],
      "execution_count": 41,
      "outputs": [
        {
          "output_type": "execute_result",
          "data": {
            "text/plain": [
              "datetime.datetime(2015, 4, 5, 13, 34, 2)"
            ]
          },
          "metadata": {},
          "execution_count": 41
        }
      ]
    },
    {
      "cell_type": "code",
      "metadata": {
        "id": "xiVWe4OHASgL"
      },
      "source": [
        "import pprint\n",
        "wb1 = openpyxl.load_workbook('/censuspopdata.xlsx')\n",
        "sheet3 = wb1['Population by Census Tract']\n",
        "countData = {}\n"
      ],
      "execution_count": 53,
      "outputs": []
    },
    {
      "cell_type": "code",
      "metadata": {
        "colab": {
          "base_uri": "https://localhost:8080/"
        },
        "id": "x5tvyF7bBZM8",
        "outputId": "5a522240-bf7c-4a0b-d3d6-cec3d9a76b8c"
      },
      "source": [
        "print(\"Reading Rows\")\n",
        "for row in range(2, sheet3.max_row):\n",
        "  state = sheet3[\"B\" + str(row)].value\n",
        "  county = sheet3[\"C\" + str(row)].value\n",
        "  pop = sheet3['D' + str(row)].value\n",
        "\n",
        "  countData.setdefault(state,{})\n",
        "  countData[state].setdefault(county, {'tracts':0, 'pop':0})\n",
        "  countData[state][county]['tracts'] +=1\n",
        "  countData[state][county]['pop'] += int(pop)\n",
        "\n",
        "print(\"Writing Results\")\n",
        "resultFile = open('census2010.py','w')\n",
        "resultFile.write('allData = '+pprint.pformat(countData))\n",
        "resultFile.close()\n",
        "print(\"Done\")"
      ],
      "execution_count": 71,
      "outputs": [
        {
          "output_type": "stream",
          "text": [
            "Reading Rows\n",
            "Writing Results\n",
            "Done\n"
          ],
          "name": "stdout"
        }
      ]
    },
    {
      "cell_type": "code",
      "metadata": {
        "id": "ihw_c-tZCeUV"
      },
      "source": [
        "import census2010"
      ],
      "execution_count": 72,
      "outputs": []
    },
    {
      "cell_type": "code",
      "metadata": {
        "colab": {
          "base_uri": "https://localhost:8080/"
        },
        "id": "6NhjDcApEiQd",
        "outputId": "a3d8a459-6261-4e62-cfd0-f6146df059a2"
      },
      "source": [
        "census2010.allData['AK']['Anchorage']"
      ],
      "execution_count": 73,
      "outputs": [
        {
          "output_type": "execute_result",
          "data": {
            "text/plain": [
              "{'pop': 1167304, 'tracts': 220}"
            ]
          },
          "metadata": {},
          "execution_count": 73
        }
      ]
    },
    {
      "cell_type": "code",
      "metadata": {
        "colab": {
          "base_uri": "https://localhost:8080/"
        },
        "id": "ljA-quxqGFkn",
        "outputId": "e333c895-71af-4399-b773-6729ee479bd8"
      },
      "source": [
        "print(f\"The population of Ancorage is {census2010.allData['AK']['Anchorage']['pop']}\")"
      ],
      "execution_count": 74,
      "outputs": [
        {
          "output_type": "stream",
          "text": [
            "The population of Ancorage is 1167304\n"
          ],
          "name": "stdout"
        }
      ]
    },
    {
      "cell_type": "code",
      "metadata": {
        "id": "DaCCzFI1GWAi"
      },
      "source": [
        "newWb = openpyxl.Workbook()\n"
      ],
      "execution_count": 75,
      "outputs": []
    },
    {
      "cell_type": "code",
      "metadata": {
        "colab": {
          "base_uri": "https://localhost:8080/"
        },
        "id": "7kd_v1JTG6F4",
        "outputId": "46e1281a-f8e1-4b53-db41-ce96ec43574a"
      },
      "source": [
        "newWb.sheetnames"
      ],
      "execution_count": 77,
      "outputs": [
        {
          "output_type": "execute_result",
          "data": {
            "text/plain": [
              "['Sheet']"
            ]
          },
          "metadata": {},
          "execution_count": 77
        }
      ]
    },
    {
      "cell_type": "code",
      "metadata": {
        "id": "JpbxMyT6G85o"
      },
      "source": [
        "sheet4 = newWb['Sheet']\n"
      ],
      "execution_count": 78,
      "outputs": []
    },
    {
      "cell_type": "code",
      "metadata": {
        "colab": {
          "base_uri": "https://localhost:8080/"
        },
        "id": "fkBnEW-LHGNc",
        "outputId": "073c572d-b936-444c-b750-823d75d32b69"
      },
      "source": [
        "sheet4"
      ],
      "execution_count": 79,
      "outputs": [
        {
          "output_type": "execute_result",
          "data": {
            "text/plain": [
              "<Worksheet \"Sheet\">"
            ]
          },
          "metadata": {},
          "execution_count": 79
        }
      ]
    },
    {
      "cell_type": "code",
      "metadata": {
        "colab": {
          "base_uri": "https://localhost:8080/",
          "height": 35
        },
        "id": "IYjs6n7zHG9B",
        "outputId": "6fe15a6d-5906-4bc1-cab9-2439db14ceca"
      },
      "source": [
        "sheet4.title"
      ],
      "execution_count": 80,
      "outputs": [
        {
          "output_type": "execute_result",
          "data": {
            "application/vnd.google.colaboratory.intrinsic+json": {
              "type": "string"
            },
            "text/plain": [
              "'Sheet'"
            ]
          },
          "metadata": {},
          "execution_count": 80
        }
      ]
    },
    {
      "cell_type": "code",
      "metadata": {
        "id": "nLKgwEdhHIqU"
      },
      "source": [
        "sheet4.title = \"firstExcelSheetFromPython\""
      ],
      "execution_count": 82,
      "outputs": []
    },
    {
      "cell_type": "code",
      "metadata": {
        "colab": {
          "base_uri": "https://localhost:8080/",
          "height": 35
        },
        "id": "FfYFTiK2HMwb",
        "outputId": "2000bac5-c764-46f3-bf36-62d35c1017d5"
      },
      "source": [
        "sheet4.title"
      ],
      "execution_count": 83,
      "outputs": [
        {
          "output_type": "execute_result",
          "data": {
            "application/vnd.google.colaboratory.intrinsic+json": {
              "type": "string"
            },
            "text/plain": [
              "'firstExcelSheetFromPython'"
            ]
          },
          "metadata": {},
          "execution_count": 83
        }
      ]
    },
    {
      "cell_type": "code",
      "metadata": {
        "colab": {
          "base_uri": "https://localhost:8080/"
        },
        "id": "UeHoqym4HTTB",
        "outputId": "92bcf11d-18f9-42a6-c30c-2def74b5ab2c"
      },
      "source": [
        "newWb.create_sheet()"
      ],
      "execution_count": 84,
      "outputs": [
        {
          "output_type": "execute_result",
          "data": {
            "text/plain": [
              "<Worksheet \"Sheet\">"
            ]
          },
          "metadata": {},
          "execution_count": 84
        }
      ]
    },
    {
      "cell_type": "code",
      "metadata": {
        "colab": {
          "base_uri": "https://localhost:8080/"
        },
        "id": "JTdQmoObHmi3",
        "outputId": "deff017d-3b88-4d69-99fa-6e20383b65bf"
      },
      "source": [
        "newWb.active"
      ],
      "execution_count": 88,
      "outputs": [
        {
          "output_type": "execute_result",
          "data": {
            "text/plain": [
              "<Worksheet \"firstExcelSheetFromPython\">"
            ]
          },
          "metadata": {},
          "execution_count": 88
        }
      ]
    },
    {
      "cell_type": "code",
      "metadata": {
        "colab": {
          "base_uri": "https://localhost:8080/",
          "height": 35
        },
        "id": "OvfO2pawHrL0",
        "outputId": "23130e28-eff5-468f-8a7a-b00995b7dece"
      },
      "source": [
        "sheet4[\"A1\"] = \"hello World\"\n",
        "sheet4[\"A1\"].value"
      ],
      "execution_count": 90,
      "outputs": [
        {
          "output_type": "execute_result",
          "data": {
            "application/vnd.google.colaboratory.intrinsic+json": {
              "type": "string"
            },
            "text/plain": [
              "'hello World'"
            ]
          },
          "metadata": {},
          "execution_count": 90
        }
      ]
    },
    {
      "cell_type": "code",
      "metadata": {
        "id": "-woxbk-LIYuK"
      },
      "source": [
        "wb2 = openpyxl.load_workbook('/produceSales.xlsx')\n",
        "sheetNew = wb2[\"Sheet\"]"
      ],
      "execution_count": 92,
      "outputs": []
    },
    {
      "cell_type": "code",
      "metadata": {
        "id": "MMBul26XJMiI"
      },
      "source": [
        "price_updates = {\n",
        "    'Garlic':3.07,\n",
        "    \"Celery\": 1.19,\n",
        "    \"Lemon\": 1.27\n",
        "}\n",
        "\n",
        "for rowNum in range(2,sheetNew.max_row + 1 ):\n",
        "  proudceName = sheetNew.cell(row=rowNum, column=1).value\n",
        "  if proudceName in price_updates:\n",
        "    sheetNew.cell(row=rowNum, column=2).value = price_updates[proudceName]\n",
        "wb2.save('UpdatedProudceSalesNew1.xlsx')"
      ],
      "execution_count": 101,
      "outputs": []
    },
    {
      "cell_type": "code",
      "metadata": {
        "colab": {
          "base_uri": "https://localhost:8080/"
        },
        "id": "50Iqm7TzJ6I_",
        "outputId": "6b4f334e-0980-45ad-d083-32849846a14c"
      },
      "source": [
        "sheetNew.max_row"
      ],
      "execution_count": 102,
      "outputs": [
        {
          "output_type": "execute_result",
          "data": {
            "text/plain": [
              "23758"
            ]
          },
          "metadata": {},
          "execution_count": 102
        }
      ]
    },
    {
      "cell_type": "code",
      "metadata": {
        "id": "tvGNMLphMVmH"
      },
      "source": [
        "sheetNew[\"C9\"] = '=SUM(B1:B8)'"
      ],
      "execution_count": 104,
      "outputs": []
    },
    {
      "cell_type": "code",
      "metadata": {
        "id": "TBzHbHXUN87s"
      },
      "source": [
        ""
      ],
      "execution_count": null,
      "outputs": []
    }
  ]
}