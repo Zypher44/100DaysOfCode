{
  "nbformat": 4,
  "nbformat_minor": 0,
  "metadata": {
    "colab": {
      "name": "BinaryTree.ipynb",
      "provenance": [],
      "authorship_tag": "ABX9TyMV4/JpoLyS2SZbANi0VzHw",
      "include_colab_link": true
    },
    "kernelspec": {
      "name": "python3",
      "display_name": "Python 3"
    },
    "language_info": {
      "name": "python"
    }
  },
  "cells": [
    {
      "cell_type": "markdown",
      "metadata": {
        "id": "view-in-github",
        "colab_type": "text"
      },
      "source": [
        "<a href=\"https://colab.research.google.com/github/Zypher44/100DaysOfCode/blob/main/BinaryTree.ipynb\" target=\"_parent\"><img src=\"https://colab.research.google.com/assets/colab-badge.svg\" alt=\"Open In Colab\"/></a>"
      ]
    },
    {
      "cell_type": "code",
      "metadata": {
        "id": "KWghpBlbH9UM"
      },
      "source": [
        "A tree is anonlinear data structture with hierrcial relationships between its elements without having any cycle \n",
        "It is bassically reversed from a real life tree \n",
        "\n",
        "Properties:\n",
        "- Represent hierarchiacl data \n",
        "- Each Node has two compnents : data and a link to its sub category \n",
        "- Base category and sub categroies under it \n",
        "\n",
        "Why a tree?\n",
        "- Quicker and Easier access to the data \n",
        "- Store hierarchical data, like folding structure, organization structure, XML/HTML data \n",
        "- There are many different types of data structures which perfroms better in various situations \n",
        "      - Binary Search tree, AVL , Red black tree, Trie "
      ],
      "execution_count": null,
      "outputs": []
    },
    {
      "cell_type": "code",
      "metadata": {
        "id": "1wKr6pmy4s5H"
      },
      "source": [
        "Root : Top node without parent \n",
        "Edge : a link between parent and child \n",
        "Leaf : a node which does not have children \n",
        "Sibling : Children of same parent \n",
        "Ancestor : Parent, grandparent great grandparents of node \n",
        "Depth of node : a length of path from root to node\n",
        "Height of node :A length of the path from the node to the deepest node \n",
        "Depth of tree: depth of root node \n",
        "Height of tree: heigh of root node "
      ],
      "execution_count": null,
      "outputs": []
    },
    {
      "cell_type": "code",
      "metadata": {
        "id": "lDdT61-W6MZa"
      },
      "source": [
        "class TreeNode:\n",
        "  def __init__(self,data,children = []):\n",
        "    self.data = data\n",
        "    self.children = children \n",
        "  \n",
        "  \n",
        "  def __str__(self,level=0):\n",
        "    ret = ' ' * level + str(self.data) + '\\n'\n",
        "    for child in self.children:\n",
        "      ret += child.__str__(level + 1)\n",
        "    return ret\n",
        "  \n",
        "  def addchild(self,TreeNode):\n",
        "    self.children.append(TreeNode)\n",
        "     \n",
        "\n"
      ],
      "execution_count": 3,
      "outputs": []
    },
    {
      "cell_type": "code",
      "metadata": {
        "colab": {
          "base_uri": "https://localhost:8080/"
        },
        "id": "piqYAMWs8kpA",
        "outputId": "01a126cb-de53-4d5a-cd7d-a4081ae7a32f"
      },
      "source": [
        " tree = TreeNode('Drinks',[])\n",
        " cold = TreeNode('Cold',[])\n",
        " hot = TreeNode('hot',[])\n",
        " tree.addchild(cold)\n",
        " tree.addchild(hot)\n",
        " print(tree)"
      ],
      "execution_count": 4,
      "outputs": [
        {
          "output_type": "stream",
          "name": "stdout",
          "text": [
            "Drinks\n",
            " Cold\n",
            " hot\n",
            "\n"
          ]
        }
      ]
    },
    {
      "cell_type": "code",
      "metadata": {
        "id": "dk6wlVBbJHK3"
      },
      "source": [
        ""
      ],
      "execution_count": null,
      "outputs": []
    }
  ]
}