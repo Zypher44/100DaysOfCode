{
  "nbformat": 4,
  "nbformat_minor": 0,
  "metadata": {
    "colab": {
      "name": "Prototype.js",
      "provenance": [],
      "authorship_tag": "ABX9TyNrSkSO4W4zv/VsBOnPadTf",
      "include_colab_link": true
    },
    "kernelspec": {
      "name": "python3",
      "display_name": "Python 3"
    },
    "language_info": {
      "name": "python"
    }
  },
  "cells": [
    {
      "cell_type": "markdown",
      "metadata": {
        "id": "view-in-github",
        "colab_type": "text"
      },
      "source": [
        "<a href=\"https://colab.research.google.com/github/Zypher44/100DaysOfCode/blob/main/Prototype_js.ipynb\" target=\"_parent\"><img src=\"https://colab.research.google.com/assets/colab-badge.svg\" alt=\"Open In Colab\"/></a>"
      ]
    },
    {
      "cell_type": "code",
      "execution_count": null,
      "metadata": {
        "id": "J3bSCTZhFM7O"
      },
      "outputs": [],
      "source": [
        "function Book(title, author, pages, read){\n",
        "    this.title = title;\n",
        "    this.author = author;\n",
        "    this.pages = pages;\n",
        "    this.read = read;\n",
        "    this.online = false;\n",
        "    this.info = function (){\n",
        "        console.log(this.title,this.author,this.pages)\n",
        "    };\n",
        "    this.login = function(title){\n",
        "        console.log(this.title, \"has logged onb\")\n",
        "    };\n",
        "}\n",
        "\n",
        "var book1 = new Book('HarryPotter',\"Grime\",355,'Not read yet');\n",
        "\n",
        "\n",
        "\n",
        "// Object literal \n",
        "var userOne = {\n",
        "name:'radu',\n",
        "email: \"RaduIntuneric\",\n",
        "login(){\n",
        "    console.log(this.email,'has logged in');\n",
        "},\n",
        "logout(){\n",
        "    console.log(this.email,\"has loged out\");\n",
        "}\n",
        "\n",
        "\n",
        "};\n",
        "\n",
        "\n",
        "class User {\n",
        "    constructor(email,name){\n",
        "        this.email = email;\n",
        "        this.name = name;\n",
        "        this.score = 0;\n",
        "\n",
        "    }\n",
        "    //methods \n",
        "    login(){\n",
        "        console.log(this.email, \"Has logged in\");\n",
        "        return this;\n",
        "    }\n",
        "    logout(){\n",
        "        console.log(this.email,\"has been logged out\"); \n",
        "        return this;\n",
        "    }\n",
        "    updateScore(){\n",
        "        this.score++;\n",
        "        console.log(this.name,'Score is now', this.score);\n",
        "        return this; \n",
        "    }\n",
        "\n",
        "}\n",
        "\n",
        "var userTwo = new User('gmail.com','google');\n",
        "//method channing \n",
        "\n",
        "userTwo.login().updateScore().updateScore().logout();\n",
        "\n",
        "\n",
        "//class inheritance gives all User properties and methods \n",
        "\n",
        "class Admin extends User {\n",
        "    deleteUser(user){\n",
        "        users = users.filter(u => {\n",
        "            return u.email != user.email;\n",
        "        })\n",
        "\n",
        "    }\n",
        "\n",
        "}\n",
        "var admin = new Admin(\"RaduEmail\",'Radu');\n",
        "\n",
        "\n",
        "var users = [userOne, userTwo,admin];\n",
        "\n",
        "admin.deleteUser(userTwo);\n",
        "\n",
        "console.log(users);\n",
        "\n",
        "Book.prototype.login = function(){\n",
        "    this.online = True;\n",
        "}"
      ]
    }
  ]
}