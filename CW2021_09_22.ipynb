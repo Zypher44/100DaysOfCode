{
  "nbformat": 4,
  "nbformat_minor": 0,
  "metadata": {
    "colab": {
      "name": "CW2021-09-22.ipynb",
      "provenance": [],
      "authorship_tag": "ABX9TyO+8CvOhpHy7wyJYYy94k4j",
      "include_colab_link": true
    },
    "kernelspec": {
      "name": "python3",
      "display_name": "Python 3"
    },
    "language_info": {
      "name": "python"
    }
  },
  "cells": [
    {
      "cell_type": "markdown",
      "metadata": {
        "id": "view-in-github",
        "colab_type": "text"
      },
      "source": [
        "<a href=\"https://colab.research.google.com/github/Zypher44/100DaysOfCode/blob/main/CW2021_09_22.ipynb\" target=\"_parent\"><img src=\"https://colab.research.google.com/assets/colab-badge.svg\" alt=\"Open In Colab\"/></a>"
      ]
    },
    {
      "cell_type": "code",
      "metadata": {
        "id": "_gED53pIBwOs"
      },
      "source": [
        "You probably know the \"like\" system from Facebook and other pages. People can \"like\" blog posts, pictures or other items. We want to create the text that should be displayed next to such an item.\n",
        "\n",
        "Implement the function which takes an array containing the names of people that like an item. It must return the display text as shown in the examples:\n",
        "\n",
        "[]                                -->  \"no one likes this\"\n",
        "[\"Peter\"]                         -->  \"Peter likes this\"\n",
        "[\"Jacob\", \"Alex\"]                 -->  \"Jacob and Alex like this\"\n",
        "[\"Max\", \"John\", \"Mark\"]           -->  \"Max, John and Mark like this\"\n",
        "[\"Alex\", \"Jacob\", \"Mark\", \"Max\"]  -->  \"Alex, Jacob and 2 others like this"
      ],
      "execution_count": null,
      "outputs": []
    },
    {
      "cell_type": "code",
      "metadata": {
        "id": "3g8FaSVDB5Ha"
      },
      "source": [
        "test = [\"Max\", \"John\", \"Mark\",'Alex','Ed']  "
      ],
      "execution_count": 21,
      "outputs": []
    },
    {
      "cell_type": "code",
      "metadata": {
        "colab": {
          "base_uri": "https://localhost:8080/"
        },
        "id": "shlKOM3HB4_c",
        "outputId": "91b46d13-9df6-430d-da1e-31068ecaa3cf"
      },
      "source": [
        "len(test), test[0]"
      ],
      "execution_count": 5,
      "outputs": [
        {
          "output_type": "execute_result",
          "data": {
            "text/plain": [
              "(2, 'Jacob')"
            ]
          },
          "metadata": {},
          "execution_count": 5
        }
      ]
    },
    {
      "cell_type": "code",
      "metadata": {
        "colab": {
          "base_uri": "https://localhost:8080/"
        },
        "id": "gfM6fi42B9H7",
        "outputId": "525570d4-0eff-460b-c7f9-77cc28bb10b2"
      },
      "source": [
        "print(f\"This the one who did it {test[0]}\")"
      ],
      "execution_count": 6,
      "outputs": [
        {
          "output_type": "stream",
          "name": "stdout",
          "text": [
            "This the one who did it Jacob\n"
          ]
        }
      ]
    },
    {
      "cell_type": "code",
      "metadata": {
        "colab": {
          "base_uri": "https://localhost:8080/"
        },
        "id": "rGego-XOCGX7",
        "outputId": "aeaca83c-1111-4daf-8a62-3b9b00dd875c"
      },
      "source": [
        "empty = ['Radu']\n",
        "len(empty)"
      ],
      "execution_count": 9,
      "outputs": [
        {
          "output_type": "execute_result",
          "data": {
            "text/plain": [
              "1"
            ]
          },
          "metadata": {},
          "execution_count": 9
        }
      ]
    },
    {
      "cell_type": "code",
      "metadata": {
        "id": "6yuDHC1xCMGe"
      },
      "source": [
        "def likes(names):\n",
        "  if len(names) == 0:\n",
        "    return 'no one likes this'\n",
        "    \n",
        "  elif len(names) == 1:\n",
        "    return (f'{names[0]} likes this')\n",
        "  elif len(names) ==2:\n",
        "    return (f'{names[0]} and {names[1]} like this')\n",
        "  elif len(names) == 3:\n",
        "    return (f'{names[0]}, {names[1]} and {names[2]} like this')\n",
        "  else:\n",
        "    return (f\"{names[0]}, {names[1]} and {len(names)-2} others like this\")"
      ],
      "execution_count": 32,
      "outputs": []
    },
    {
      "cell_type": "code",
      "metadata": {
        "colab": {
          "base_uri": "https://localhost:8080/",
          "height": 35
        },
        "id": "OSBIg1ADCiKc",
        "outputId": "5f1d73c3-f3fa-4353-9cfa-b001288d7482"
      },
      "source": [
        "likes(test)"
      ],
      "execution_count": 33,
      "outputs": [
        {
          "output_type": "execute_result",
          "data": {
            "application/vnd.google.colaboratory.intrinsic+json": {
              "type": "string"
            },
            "text/plain": [
              "'Max, John and 3 others like this'"
            ]
          },
          "metadata": {},
          "execution_count": 33
        }
      ]
    },
    {
      "cell_type": "code",
      "metadata": {
        "colab": {
          "base_uri": "https://localhost:8080/"
        },
        "id": "BgpEX4q-DPtf",
        "outputId": "f9ad97a5-b695-431d-e8d5-8c5aa45681e6"
      },
      "source": [
        "likes(['Sylia Stingray', 'Priscilla S. Asagiri', 'Sylvie', 'Anri', 'Brian J. Mason', 'Leon McNichol', 'Linna Yamazaki', 'Nigel', 'Macky Stingray'])"
      ],
      "execution_count": 24,
      "outputs": [
        {
          "output_type": "stream",
          "name": "stdout",
          "text": [
            "Sylia Stingray, Priscilla S. Asagiri and 7 others like this\n"
          ]
        }
      ]
    },
    {
      "cell_type": "code",
      "metadata": {
        "colab": {
          "base_uri": "https://localhost:8080/"
        },
        "id": "kCI9NOgOENw4",
        "outputId": "c24cf655-a72c-466f-8033-fa214e02709c"
      },
      "source": [
        "c = print(f'This how i go')"
      ],
      "execution_count": 25,
      "outputs": [
        {
          "output_type": "stream",
          "name": "stdout",
          "text": [
            "This how i go\n"
          ]
        }
      ]
    },
    {
      "cell_type": "code",
      "metadata": {
        "colab": {
          "base_uri": "https://localhost:8080/"
        },
        "id": "dYqQll6aFS2A",
        "outputId": "0d74eb4c-cd04-40d5-8952-4acdc868803b"
      },
      "source": [
        "type(c)"
      ],
      "execution_count": 28,
      "outputs": [
        {
          "output_type": "execute_result",
          "data": {
            "text/plain": [
              "NoneType"
            ]
          },
          "metadata": {},
          "execution_count": 28
        }
      ]
    },
    {
      "cell_type": "code",
      "metadata": {
        "colab": {
          "base_uri": "https://localhost:8080/",
          "height": 35
        },
        "id": "v3V84m-EFTlc",
        "outputId": "6553ccfd-f53e-4889-db04-db14108295e5"
      },
      "source": [
        "def calculate(m,n):\n",
        "    result = m * n \n",
        "    return (f'the result is {result}') \n",
        "calculate(2,3)"
      ],
      "execution_count": 31,
      "outputs": [
        {
          "output_type": "execute_result",
          "data": {
            "application/vnd.google.colaboratory.intrinsic+json": {
              "type": "string"
            },
            "text/plain": [
              "'the result is 6'"
            ]
          },
          "metadata": {},
          "execution_count": 31
        }
      ]
    },
    {
      "cell_type": "code",
      "metadata": {
        "id": "RrC30j0FFyMB"
      },
      "source": [
        ""
      ],
      "execution_count": null,
      "outputs": []
    }
  ]
}