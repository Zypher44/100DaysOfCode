{
  "nbformat": 4,
  "nbformat_minor": 0,
  "metadata": {
    "colab": {
      "name": "Dictionaries.ipynb",
      "provenance": [],
      "authorship_tag": "ABX9TyOq1iIuArrzNfOIQiL6Gnvu",
      "include_colab_link": true
    },
    "kernelspec": {
      "name": "python3",
      "display_name": "Python 3"
    },
    "language_info": {
      "name": "python"
    }
  },
  "cells": [
    {
      "cell_type": "markdown",
      "metadata": {
        "id": "view-in-github",
        "colab_type": "text"
      },
      "source": [
        "<a href=\"https://colab.research.google.com/github/Zypher44/100DaysOfCode/blob/main/Dictionaries.ipynb\" target=\"_parent\"><img src=\"https://colab.research.google.com/assets/colab-badge.svg\" alt=\"Open In Colab\"/></a>"
      ]
    },
    {
      "cell_type": "code",
      "metadata": {
        "id": "wYV2-1nfJiSW"
      },
      "source": [
        "A Dictionary which is unordered, changeable and indexed, indexed \n",
        "\n",
        "A hash table is a way of doing key-value lookups. You store the values in an array, and then use a hash function to find the index of the array cell,\n",
        "that corresponds to your key-value pair #3 elemets of hash table are keys, array, and hash function, a good has function mimizes collision \n",
        "#Collison is when keys have same values "
      ],
      "execution_count": null,
      "outputs": []
    },
    {
      "cell_type": "code",
      "metadata": {
        "id": "s3VJIuwrK1oF"
      },
      "source": [
        "eng2span = {'one':'Uno','two':'Dos','three':'tres'}"
      ],
      "execution_count": 1,
      "outputs": []
    },
    {
      "cell_type": "code",
      "metadata": {
        "colab": {
          "base_uri": "https://localhost:8080/",
          "height": 35
        },
        "id": "2NGpNHNgK01S",
        "outputId": "ddfcff19-8401-4548-c496-0ccc0e6c02b4"
      },
      "source": [
        "eng2span['one'] # Timee complextiy is O(1)"
      ],
      "execution_count": 2,
      "outputs": [
        {
          "output_type": "execute_result",
          "data": {
            "application/vnd.google.colaboratory.intrinsic+json": {
              "type": "string"
            },
            "text/plain": [
              "'Uno'"
            ]
          },
          "metadata": {},
          "execution_count": 2
        }
      ]
    },
    {
      "cell_type": "code",
      "metadata": {
        "colab": {
          "base_uri": "https://localhost:8080/",
          "height": 35
        },
        "id": "SeSgdQ0gLBfV",
        "outputId": "b16777cd-28ca-47c8-ac75-8b516340d40f"
      },
      "source": [
        "eng2span['two']"
      ],
      "execution_count": 7,
      "outputs": [
        {
          "output_type": "execute_result",
          "data": {
            "application/vnd.google.colaboratory.intrinsic+json": {
              "type": "string"
            },
            "text/plain": [
              "'Dos'"
            ]
          },
          "metadata": {},
          "execution_count": 7
        }
      ]
    },
    {
      "cell_type": "code",
      "metadata": {
        "colab": {
          "base_uri": "https://localhost:8080/"
        },
        "id": "oxQFiceeLDQA",
        "outputId": "85b80079-1b31-41d4-999c-96a58c8bc165"
      },
      "source": [
        "for values in eng2span:\n",
        "  print(key)"
      ],
      "execution_count": 17,
      "outputs": [
        {
          "output_type": "stream",
          "name": "stdout",
          "text": [
            "three\n",
            "three\n",
            "three\n"
          ]
        }
      ]
    },
    {
      "cell_type": "code",
      "metadata": {
        "id": "yJiu4rHBMEkn"
      },
      "source": [
        " eng2span['two'] = 'Newnew' #time complexity = O(1), space complexity = O(n)"
      ],
      "execution_count": 18,
      "outputs": []
    },
    {
      "cell_type": "code",
      "metadata": {
        "colab": {
          "base_uri": "https://localhost:8080/"
        },
        "id": "06hoLxcNTcsM",
        "outputId": "e8482a7c-62ed-470b-e797-ca0695c4694c"
      },
      "source": [
        "eng2span"
      ],
      "execution_count": 19,
      "outputs": [
        {
          "output_type": "execute_result",
          "data": {
            "text/plain": [
              "{'one': 'Uno', 'three': 'tres', 'two': 'Newnew'}"
            ]
          },
          "metadata": {},
          "execution_count": 19
        }
      ]
    },
    {
      "cell_type": "code",
      "metadata": {
        "id": "cnZySiQXTdNB"
      },
      "source": [
        "eng2span['four'] = 'Addnew' #Time complexity for adding pairs is O(1), space complexity for adding is amortized O(1)"
      ],
      "execution_count": 20,
      "outputs": []
    },
    {
      "cell_type": "code",
      "metadata": {
        "colab": {
          "base_uri": "https://localhost:8080/"
        },
        "id": "7kdnaKkDT1AC",
        "outputId": "c30412b4-e428-4b47-8e26-6cf8e82cf726"
      },
      "source": [
        "eng2span"
      ],
      "execution_count": 21,
      "outputs": [
        {
          "output_type": "execute_result",
          "data": {
            "text/plain": [
              "{'four': 'Addnew', 'one': 'Uno', 'three': 'tres', 'two': 'Newnew'}"
            ]
          },
          "metadata": {},
          "execution_count": 21
        }
      ]
    },
    {
      "cell_type": "code",
      "metadata": {
        "id": "fKyGYizMT1co"
      },
      "source": [
        "#Traversing through a dict \n",
        "def traversing(dict): # time complexity print statement = O(1), looping is O(n) complexity, space complexity is O(1), cause we are not storing any\n",
        "# new values\n",
        "  for key in dict:\n",
        "    print(key,dict[key])"
      ],
      "execution_count": 24,
      "outputs": []
    },
    {
      "cell_type": "code",
      "metadata": {
        "colab": {
          "base_uri": "https://localhost:8080/"
        },
        "id": "9_9CjQyyUaNK",
        "outputId": "0e1bb7d8-76c4-4b96-aaa1-a217149ac521"
      },
      "source": [
        "traversing(eng2span)"
      ],
      "execution_count": 25,
      "outputs": [
        {
          "output_type": "stream",
          "name": "stdout",
          "text": [
            "one Uno\n",
            "two Newnew\n",
            "three tres\n",
            "four Addnew\n"
          ]
        }
      ]
    },
    {
      "cell_type": "code",
      "metadata": {
        "id": "jHbSHbucUbgc"
      },
      "source": [
        "def searchingdict(dict,value):\n",
        "  for key in dict: #O(n) time complexity \n",
        "    if dict[key] == value: #O(!) time complexity\n",
        "      return key,value #O(1) time complexity \n",
        "  return 'The value does not exist'\n",
        " #The time complexity for this function is O(n), sapce complexity = O(1)\n",
        "  "
      ],
      "execution_count": 27,
      "outputs": []
    },
    {
      "cell_type": "code",
      "metadata": {
        "colab": {
          "base_uri": "https://localhost:8080/"
        },
        "id": "UjFgjWwcVVE4",
        "outputId": "9876122a-196c-4b0d-9ab7-0cdb90e5bda9"
      },
      "source": [
        "searchingdict(eng2span,'Addnew')"
      ],
      "execution_count": 28,
      "outputs": [
        {
          "output_type": "execute_result",
          "data": {
            "text/plain": [
              "('four', 'Addnew')"
            ]
          },
          "metadata": {},
          "execution_count": 28
        }
      ]
    },
    {
      "cell_type": "code",
      "metadata": {
        "colab": {
          "base_uri": "https://localhost:8080/",
          "height": 35
        },
        "id": "Na_K96qXVePH",
        "outputId": "d65a2b49-d773-4cfe-bff9-9475cfdc4600"
      },
      "source": [
        "searchingdict(eng2span,'Addnews')"
      ],
      "execution_count": 29,
      "outputs": [
        {
          "output_type": "execute_result",
          "data": {
            "application/vnd.google.colaboratory.intrinsic+json": {
              "type": "string"
            },
            "text/plain": [
              "'The value does not exist'"
            ]
          },
          "metadata": {},
          "execution_count": 29
        }
      ]
    },
    {
      "cell_type": "code",
      "metadata": {
        "id": "MEWoSK6uVmtd"
      },
      "source": [
        "#use the pop method to get out values \n",
        "#pop()\n",
        "#popitem()\n",
        "#dict.clear() erases all elements in the dict\n",
        "#Can use Del to delete del dict['key']\n",
        "#Time complexity for deleteing is O(1) or time complexity could be amortized O(n)\n",
        "#Space complexity is O(1) no new space to delete "
      ],
      "execution_count": 30,
      "outputs": []
    },
    {
      "cell_type": "code",
      "metadata": {
        "id": "VqmhqxQThPEZ"
      },
      "source": [
        "newdict = {}.fromkeys([1,2,3],0)"
      ],
      "execution_count": 31,
      "outputs": []
    },
    {
      "cell_type": "code",
      "metadata": {
        "colab": {
          "base_uri": "https://localhost:8080/"
        },
        "id": "57IIOCdzhgkE",
        "outputId": "250039b7-fae3-4bed-a357-4bef32c6a99c"
      },
      "source": [
        "newdict"
      ],
      "execution_count": 32,
      "outputs": [
        {
          "output_type": "execute_result",
          "data": {
            "text/plain": [
              "{1: 0, 2: 0, 3: 0}"
            ]
          },
          "metadata": {},
          "execution_count": 32
        }
      ]
    },
    {
      "cell_type": "code",
      "metadata": {
        "colab": {
          "base_uri": "https://localhost:8080/"
        },
        "id": "_0s3tIyvhg-K",
        "outputId": "60de7402-8e76-462d-ee2d-72d298488f5a"
      },
      "source": [
        "eng2span.items()"
      ],
      "execution_count": 33,
      "outputs": [
        {
          "output_type": "execute_result",
          "data": {
            "text/plain": [
              "dict_items([('one', 'Uno'), ('two', 'Newnew'), ('three', 'tres'), ('four', 'Addnew')])"
            ]
          },
          "metadata": {},
          "execution_count": 33
        }
      ]
    },
    {
      "cell_type": "code",
      "metadata": {
        "colab": {
          "base_uri": "https://localhost:8080/"
        },
        "id": "Rl60l-RJhpEh",
        "outputId": "d5ff5715-c091-48c6-f2b9-9e1f36da35df"
      },
      "source": [
        "eng2span.keys()"
      ],
      "execution_count": 34,
      "outputs": [
        {
          "output_type": "execute_result",
          "data": {
            "text/plain": [
              "dict_keys(['one', 'two', 'three', 'four'])"
            ]
          },
          "metadata": {},
          "execution_count": 34
        }
      ]
    },
    {
      "cell_type": "code",
      "metadata": {
        "colab": {
          "base_uri": "https://localhost:8080/"
        },
        "id": "FXEfR7H1hqdf",
        "outputId": "afb14e51-a2da-4ae5-c90a-1daf8ed06215"
      },
      "source": [
        "eng2span.values()"
      ],
      "execution_count": 35,
      "outputs": [
        {
          "output_type": "execute_result",
          "data": {
            "text/plain": [
              "dict_values(['Uno', 'Newnew', 'tres', 'Addnew'])"
            ]
          },
          "metadata": {},
          "execution_count": 35
        }
      ]
    },
    {
      "cell_type": "code",
      "metadata": {
        "colab": {
          "base_uri": "https://localhost:8080/"
        },
        "id": "1JXJ36F7htTn",
        "outputId": "e033cee7-e521-4975-8f9a-78b18a9f3415"
      },
      "source": [
        "#in operator only takes keys, use values methods if you want values \n",
        "#Time complexity is O(1) when using in operator very efficent \n",
        "\n",
        "#All method if returns true if all values are true, returns false if all are false, if one is true returns false, if one false returns false,\n",
        "#Empty returns true \n",
        "\n",
        "all(eng2span)"
      ],
      "execution_count": 36,
      "outputs": [
        {
          "output_type": "execute_result",
          "data": {
            "text/plain": [
              "True"
            ]
          },
          "metadata": {},
          "execution_count": 36
        }
      ]
    },
    {
      "cell_type": "code",
      "metadata": {
        "colab": {
          "base_uri": "https://localhost:8080/"
        },
        "id": "qVVr54V5lZta",
        "outputId": "f6286e16-6fa3-42c8-e60f-ba3646963116"
      },
      "source": [
        "any(eng2span) #ALl methods are true returns true, returns false if all false, returns true if one is true and others are false, returns true if one\n",
        "#value is false (others are true). empty iterable returns False "
      ],
      "execution_count": 37,
      "outputs": [
        {
          "output_type": "execute_result",
          "data": {
            "text/plain": [
              "True"
            ]
          },
          "metadata": {},
          "execution_count": 37
        }
      ]
    },
    {
      "cell_type": "code",
      "metadata": {
        "colab": {
          "base_uri": "https://localhost:8080/"
        },
        "id": "4ebiDdC1lnbO",
        "outputId": "8c5dcf72-ed09-4ff6-b380-f2ff65b6c462"
      },
      "source": [
        "len(eng2span)"
      ],
      "execution_count": 38,
      "outputs": [
        {
          "output_type": "execute_result",
          "data": {
            "text/plain": [
              "4"
            ]
          },
          "metadata": {},
          "execution_count": 38
        }
      ]
    },
    {
      "cell_type": "code",
      "metadata": {
        "id": "Yd8kHh_Fl7mM"
      },
      "source": [
        "Differences between dicts and lists \n",
        "Dictionary \n",
        "1. Unordered\n",
        "2. Access via keys\n",
        "3. Collection of key value pairs \n",
        "4. Preferred when you have unique key values \n",
        "5.No duplicate members \n",
        "\n",
        "\n",
        "Lists \n",
        "1. Ordered\n",
        "2. Access via index\n",
        "3. Collection of elements \n",
        "4. Preferred when you have ordered data \n",
        "5.Allow duplicate members \n"
      ],
      "execution_count": null,
      "outputs": []
    },
    {
      "cell_type": "code",
      "metadata": {
        "id": "ncYtrEK4mc_X"
      },
      "source": [
        "Time and space complexity in Dicts \n",
        "\n",
        "Operation                             Time complexity                 Space complexity \n",
        "Creating a dict                       O(len(dict))                      O(n)\n",
        "Inserating a value in dict            O(1)|O(n)                         O(1)\n",
        "Traversing a given dict               O(n)                              O(1)\n",
        "Accessing a given cell                O(1)                              O(1)\n",
        "Searching a given value               O(n)                              O(1)\n",
        "Deleting a given value                O(1)                              O(1)"
      ],
      "execution_count": null,
      "outputs": []
    },
    {
      "cell_type": "code",
      "metadata": {
        "id": "Hzj797u6nV5U"
      },
      "source": [
        ""
      ],
      "execution_count": null,
      "outputs": []
    }
  ]
}