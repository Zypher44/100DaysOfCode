{
  "nbformat": 4,
  "nbformat_minor": 0,
  "metadata": {
    "colab": {
      "name": "ArraysDone.ipynb",
      "provenance": [],
      "authorship_tag": "ABX9TyNh26bO0M4DM1+9xUZ/HehX",
      "include_colab_link": true
    },
    "kernelspec": {
      "name": "python3",
      "display_name": "Python 3"
    },
    "language_info": {
      "name": "python"
    }
  },
  "cells": [
    {
      "cell_type": "markdown",
      "metadata": {
        "id": "view-in-github",
        "colab_type": "text"
      },
      "source": [
        "<a href=\"https://colab.research.google.com/github/Zypher44/100DaysOfCode/blob/main/ArraysDone.ipynb\" target=\"_parent\"><img src=\"https://colab.research.google.com/assets/colab-badge.svg\" alt=\"Open In Colab\"/></a>"
      ]
    },
    {
      "cell_type": "code",
      "metadata": {
        "id": "S3prTG_XcN3_"
      },
      "source": [
        "#Arrays in memory \n",
        "\n",
        "One dimensional array will be stored in the memory contiguize (stored next to one another)\n",
        "Two dimensional array will also be stored as a One dimensional (Combined rows into one row)\n",
        "Three dimensional array will also be stored as a One dimensional (Combined rows into one row)\n"
      ],
      "execution_count": null,
      "outputs": []
    },
    {
      "cell_type": "code",
      "metadata": {
        "id": "ERyYFBKNBNsq"
      },
      "source": [
        "from array import *"
      ],
      "execution_count": 1,
      "outputs": []
    },
    {
      "cell_type": "code",
      "metadata": {
        "id": "w081rxeABgFq"
      },
      "source": [
        "arr1= array('i',[1,2,34,5,6,7])"
      ],
      "execution_count": 2,
      "outputs": []
    },
    {
      "cell_type": "code",
      "metadata": {
        "colab": {
          "base_uri": "https://localhost:8080/"
        },
        "id": "9hnuaSRMBlOi",
        "outputId": "10cc2384-6bb6-4234-b91a-a7bd4a2993cd"
      },
      "source": [
        "arr1"
      ],
      "execution_count": 3,
      "outputs": [
        {
          "output_type": "execute_result",
          "data": {
            "text/plain": [
              "array('i', [1, 2, 34, 5, 6, 7])"
            ]
          },
          "metadata": {},
          "execution_count": 3
        }
      ]
    },
    {
      "cell_type": "code",
      "metadata": {
        "id": "BS-B4dl0Bl5m"
      },
      "source": [
        "arr2= array('d',[1.2,1.4,1.4])"
      ],
      "execution_count": 4,
      "outputs": []
    },
    {
      "cell_type": "code",
      "metadata": {
        "colab": {
          "base_uri": "https://localhost:8080/"
        },
        "id": "6OAxowHvB64w",
        "outputId": "107b8557-525a-415d-bf71-48bf80015de0"
      },
      "source": [
        "arr2"
      ],
      "execution_count": 5,
      "outputs": [
        {
          "output_type": "execute_result",
          "data": {
            "text/plain": [
              "array('d', [1.2, 1.4, 1.4])"
            ]
          },
          "metadata": {},
          "execution_count": 5
        }
      ]
    },
    {
      "cell_type": "code",
      "metadata": {
        "id": "5mZx_Sd9B7QR"
      },
      "source": [
        "arr1[5] = 12"
      ],
      "execution_count": 10,
      "outputs": []
    },
    {
      "cell_type": "code",
      "metadata": {
        "id": "rk6djgmRCJ7w"
      },
      "source": [
        "arr1.insert(3, 11) #First is index and second is value you want to add "
      ],
      "execution_count": 15,
      "outputs": []
    },
    {
      "cell_type": "code",
      "metadata": {
        "colab": {
          "base_uri": "https://localhost:8080/"
        },
        "id": "Io3S-IAmCKhG",
        "outputId": "d0cfb04e-0143-4244-c3f4-c3f61ba4bc00"
      },
      "source": [
        "arr1"
      ],
      "execution_count": 16,
      "outputs": [
        {
          "output_type": "execute_result",
          "data": {
            "text/plain": [
              "array('i', [1, 2, 34, 11, 12, 12, 6, 12])"
            ]
          },
          "metadata": {},
          "execution_count": 16
        }
      ]
    },
    {
      "cell_type": "code",
      "metadata": {
        "id": "KiMO8QCQCknP"
      },
      "source": [
        "# if we insert at begiing of array time complexity is O(n) elements have to go from left and right \n",
        "# if we inserat an elemeent at end of array it is constant time complexxity O(1) doesnt take as much time\n",
        "# if we inseart in middle it is O(n)\n",
        "# O(n) time complexity if array is full\n"
      ],
      "execution_count": null,
      "outputs": []
    },
    {
      "cell_type": "code",
      "metadata": {
        "colab": {
          "base_uri": "https://localhost:8080/"
        },
        "id": "o3Uc7-TiFJZW",
        "outputId": "fbd185e6-6162-4322-e10d-d1f73393284d"
      },
      "source": [
        "arr1[1]"
      ],
      "execution_count": 17,
      "outputs": [
        {
          "output_type": "execute_result",
          "data": {
            "text/plain": [
              "2"
            ]
          },
          "metadata": {},
          "execution_count": 17
        }
      ]
    },
    {
      "cell_type": "code",
      "metadata": {
        "id": "I2va0KTPFKPg"
      },
      "source": [
        "#Time and space complexity in One Dimeinsoanl arrays \n",
        "\n",
        "#Operation                       Time complexity     Space complexity \n",
        "Creating an empty array             O(1)                 O(n)\n",
        "Inserating a value in an array      O(1)|O(n)            O(1)\n",
        "Traversing a given array            O(n)                 O(1)\n",
        "Accessing a given cell              O(1)                 O(1)\n",
        "Searching a given value             O(n)                 O(1)\n",
        "Deleting a given value              O(1)|O(n)            O(1)\n"
      ],
      "execution_count": null,
      "outputs": []
    },
    {
      "cell_type": "code",
      "metadata": {
        "id": "El1GsWJwJzeT"
      },
      "source": [
        "#Time and space complexity in 2d arrays \n",
        "#Operation                       Time complexity     Space complexity \n",
        "Creating an empty array             O(1)                 O(mn) #O(mn) is the coloum and the row  \n",
        "Inserating a value in an array      O(1)|O(mn)            O(1)\n",
        "Traversing a given array            O(mn)                 O(1)\n",
        "Accessing a given cell              O(1)                 O(1)\n",
        "Searching a given value             O(mn)                 O(1)\n",
        "Deleting a given value              O(1)|O(mn)            O(1)"
      ],
      "execution_count": null,
      "outputs": []
    },
    {
      "cell_type": "code",
      "metadata": {
        "id": "QJ6_Ys6VQcPp"
      },
      "source": [
        "When to use Arrays \n",
        "- To store multiple vairables of same data type\n",
        "- Random Access\n",
        "\n",
        "\n",
        "When to avoid \n",
        "- Same data type elements \n",
        "- Reserve memory \n",
        "\n"
      ],
      "execution_count": null,
      "outputs": []
    }
  ]
}