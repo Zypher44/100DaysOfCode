{
  "nbformat": 4,
  "nbformat_minor": 0,
  "metadata": {
    "colab": {
      "name": "BigONotationppt1.ipynb",
      "provenance": [],
      "authorship_tag": "ABX9TyPrtb4VW7TJ3xHoRTELCXn8",
      "include_colab_link": true
    },
    "kernelspec": {
      "name": "python3",
      "display_name": "Python 3"
    },
    "language_info": {
      "name": "python"
    }
  },
  "cells": [
    {
      "cell_type": "markdown",
      "metadata": {
        "id": "view-in-github",
        "colab_type": "text"
      },
      "source": [
        "<a href=\"https://colab.research.google.com/github/Zypher44/100DaysOfCode/blob/main/BigONotationppt1.ipynb\" target=\"_parent\"><img src=\"https://colab.research.google.com/assets/colab-badge.svg\" alt=\"Open In Colab\"/></a>"
      ]
    },
    {
      "cell_type": "code",
      "metadata": {
        "id": "5X5uQYB7tp2g"
      },
      "source": [
        "Big 0 is the language and metric we use to descrive the efficeny of algorithems \n",
        "-worst case\n",
        "-Average case \n",
        "-Best case \n",
        "quick sort algorithem  \n",
        "\n",
        "Big O = It is a complexity that is going to be less or equal to the worst case [O(N)]\n",
        "Big Omega = It is a complexity that is going to be atleast more than the best \n",
        "Big Theta = It is a complexity that is within bounds of the worst and best cases [O(n/2)]\n",
        "\n",
        "\n",
        "O(1) constant time complexity = Accessing a specific element in array, equction time is constant \n",
        "O(N) linear = Loop through array elements \n",
        "O(LogN) Logarithmic = Find an element in sorted array \n",
        "O(N^2) Quadratic = Looking ar a every index in the array twice \n",
        "O(2n) exponential = double recursion in Fibonacci \n",
        "\n",
        "\n",
        "Space complexity - a measure of storage an alogirthem needs"
      ],
      "execution_count": null,
      "outputs": []
    },
    {
      "cell_type": "code",
      "metadata": {
        "id": "IX8Z5ECXjJcy"
      },
      "source": [
        "Drop Constant = O(2N) - O(N)\n",
        "\n",
        "Drop Non Dominat Terms \n",
        "O(N^2+N) - O(N2)\n",
        "O(N+logN) - O(N)\n",
        "O(2*2n+1000N^100) - O(2^n)\n"
      ],
      "execution_count": null,
      "outputs": []
    },
    {
      "cell_type": "code",
      "metadata": {
        "id": "4WsXYo4GjJZ1"
      },
      "source": [
        "Why do we drop constant and non dominat terms ?\n",
        "- It is very possible that O(N) code is faster than O(1) code for specific inputs \n",
        "- Differnet computers with differnet arcituctues have different constant factors \n",
        "- Different algorithems with the same basic idea and computational complexity might have slightly different constants \\\n",
        "- As n - infifty constant factors are not really a big deal "
      ],
      "execution_count": null,
      "outputs": []
    },
    {
      "cell_type": "code",
      "metadata": {
        "colab": {
          "base_uri": "https://localhost:8080/",
          "height": 231
        },
        "id": "I3f4NIDmlv38",
        "outputId": "c39ec89f-c30e-4c94-bc04-386383e8b763"
      },
      "source": [
        "for a in arrayA:\n",
        "  print(a)\n",
        "\n",
        "for b in arrayB:\n",
        "  print(b)\n",
        "\n",
        "#If your algorithem is in the from 'do this, then when you are all done do that, than you add the runtimes \n"
      ],
      "execution_count": 1,
      "outputs": [
        {
          "output_type": "error",
          "ename": "NameError",
          "evalue": "ignored",
          "traceback": [
            "\u001b[0;31m---------------------------------------------------------------------------\u001b[0m",
            "\u001b[0;31mNameError\u001b[0m                                 Traceback (most recent call last)",
            "\u001b[0;32m<ipython-input-1-09a7e005f315>\u001b[0m in \u001b[0;36m<module>\u001b[0;34m()\u001b[0m\n\u001b[0;32m----> 1\u001b[0;31m \u001b[0;32mfor\u001b[0m \u001b[0ma\u001b[0m \u001b[0;32min\u001b[0m \u001b[0marrayA\u001b[0m\u001b[0;34m:\u001b[0m\u001b[0;34m\u001b[0m\u001b[0;34m\u001b[0m\u001b[0m\n\u001b[0m\u001b[1;32m      2\u001b[0m   \u001b[0mprint\u001b[0m\u001b[0;34m(\u001b[0m\u001b[0ma\u001b[0m\u001b[0;34m)\u001b[0m\u001b[0;34m\u001b[0m\u001b[0;34m\u001b[0m\u001b[0m\n\u001b[1;32m      3\u001b[0m \u001b[0;34m\u001b[0m\u001b[0m\n\u001b[1;32m      4\u001b[0m \u001b[0;32mfor\u001b[0m \u001b[0mb\u001b[0m \u001b[0;32min\u001b[0m \u001b[0marrayB\u001b[0m\u001b[0;34m:\u001b[0m\u001b[0;34m\u001b[0m\u001b[0;34m\u001b[0m\u001b[0m\n\u001b[1;32m      5\u001b[0m   \u001b[0mprint\u001b[0m\u001b[0;34m(\u001b[0m\u001b[0mb\u001b[0m\u001b[0;34m)\u001b[0m\u001b[0;34m\u001b[0m\u001b[0;34m\u001b[0m\u001b[0m\n",
            "\u001b[0;31mNameError\u001b[0m: name 'arrayA' is not defined"
          ]
        }
      ]
    },
    {
      "cell_type": "code",
      "metadata": {
        "id": "E-FTRkqgl7qG"
      },
      "source": [
        "for a in arrayA:\n",
        "  for b in arrayB:\n",
        "    print(a,b)\n",
        "\n",
        "\n",
        "#If your algorithem is in the from ' do this for each time you do that ' then you multiply the runtimes \n",
        "\n"
      ],
      "execution_count": null,
      "outputs": []
    },
    {
      "cell_type": "code",
      "metadata": {
        "id": "Hk0iMUYVmKDB"
      },
      "source": [
        ""
      ],
      "execution_count": null,
      "outputs": []
    },
    {
      "cell_type": "code",
      "metadata": {
        "id": "0on57ChQmJ9c"
      },
      "source": [
        ""
      ],
      "execution_count": null,
      "outputs": []
    }
  ]
}