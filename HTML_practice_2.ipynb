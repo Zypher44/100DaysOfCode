{
  "nbformat": 4,
  "nbformat_minor": 0,
  "metadata": {
    "colab": {
      "name": "HTML practice 2",
      "provenance": [],
      "authorship_tag": "ABX9TyMOyfR+qbynBFdDy78FurB9",
      "include_colab_link": true
    },
    "kernelspec": {
      "name": "python3",
      "display_name": "Python 3"
    },
    "language_info": {
      "name": "python"
    }
  },
  "cells": [
    {
      "cell_type": "markdown",
      "metadata": {
        "id": "view-in-github",
        "colab_type": "text"
      },
      "source": [
        "<a href=\"https://colab.research.google.com/github/Zypher44/100DaysOfCode/blob/main/HTML_practice_2.ipynb\" target=\"_parent\"><img src=\"https://colab.research.google.com/assets/colab-badge.svg\" alt=\"Open In Colab\"/></a>"
      ]
    },
    {
      "cell_type": "code",
      "execution_count": null,
      "metadata": {
        "id": "754DeEzCv9WP"
      },
      "outputs": [],
      "source": [
        "<!DOCTYPE html>\n",
        "<html lang=\"en\">\n",
        "<head>\n",
        "  <meta charset=\"UTF-8\">\n",
        "  <meta http-equiv=\"X-UA-Compatible\" content=\"IE=edge\">\n",
        "  <meta name=\"viewport\" content=\"width=device-width, initial-scale=1.0\">\n",
        "  <title>Margin and Padding exercise 2</title>\n",
        "  <link rel=\"stylesheet\" href=\"style.css\">\n",
        "</head>\n",
        "<body>\n",
        "  <div class=\"card\">\n",
        "    <h1 class=\"title\">I'm a card</h1>\n",
        "    <div class=\"content\">I have content inside me..lorem ipsum blah blah blah. Here's some stuff you need to read.</div>\n",
        "    <div class=\"button-container\">and a <button>BIG BUTTON</button></div>\n",
        "  </div>\n",
        "</body>\n",
        "</html>\n",
        "\n"
      ]
    },
    {
      "cell_type": "code",
      "source": [
        "body {\n",
        "  background: #eee;\n",
        "  font-family: sans-serif;\n",
        "}\n",
        "\n",
        ".card {\n",
        "  padding: 8px\n",
        "}\n",
        "\n",
        ".title {\n",
        "  margin-top: 0;\n",
        "  margin-bottom: 8px;\n",
        "  font-size: 16px;\n",
        "  padding: 8px;\n",
        "}\n",
        "\n",
        ".content {\n",
        "  background: #e3f4ff;\n",
        "  padding: 16px 8px;\n",
        "  \n",
        "\n",
        "}\n",
        "\n",
        ".button-container {\n",
        "  background: #e3f4ff;\n",
        "  padding: 8px;\n",
        "  text-align: center;\n",
        "}\n",
        "\n",
        "button {\n",
        "  display: block;\n",
        "  margin: 0 auto;\n",
        "  padding: 8px 24px;\n",
        "}"
      ],
      "metadata": {
        "id": "0KDoqX3ZxKOh"
      },
      "execution_count": null,
      "outputs": []
    }
  ]
}