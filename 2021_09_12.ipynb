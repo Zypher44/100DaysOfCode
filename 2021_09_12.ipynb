{
  "nbformat": 4,
  "nbformat_minor": 0,
  "metadata": {
    "colab": {
      "name": "2021-09-12.ipynb",
      "provenance": [],
      "authorship_tag": "ABX9TyP3Wchthc4KMTbyoPcXG4JH",
      "include_colab_link": true
    },
    "kernelspec": {
      "name": "python3",
      "display_name": "Python 3"
    },
    "language_info": {
      "name": "python"
    }
  },
  "cells": [
    {
      "cell_type": "markdown",
      "metadata": {
        "id": "view-in-github",
        "colab_type": "text"
      },
      "source": [
        "<a href=\"https://colab.research.google.com/github/Zypher44/100DaysOfCode/blob/main/2021_09_12.ipynb\" target=\"_parent\"><img src=\"https://colab.research.google.com/assets/colab-badge.svg\" alt=\"Open In Colab\"/></a>"
      ]
    },
    {
      "cell_type": "code",
      "metadata": {
        "id": "iBLy7iP0lD_f"
      },
      "source": [
        "You have to extract a portion of the file name as follows:\n",
        "\n",
        "Assume it will start with date represented as long number\n",
        "Followed by an underscore\n",
        "You'll have then a filename with an extension\n",
        "it will always have an extra extension at the end\n",
        "Inputs:\n",
        "1231231223123131_FILE_NAME.EXTENSION.OTHEREXTENSION\n",
        "\n",
        "1_This_is_an_otherExample.mpg.OTHEREXTENSIONadasdassdassds34\n",
        "\n",
        "1231231223123131_myFile.tar.gz2\n",
        "Outputs\n",
        "FILE_NAME.EXTENSION\n",
        "\n",
        "This_is_an_otherExample.mpg\n",
        "\n",
        "myFile.tar"
      ],
      "execution_count": null,
      "outputs": []
    },
    {
      "cell_type": "code",
      "metadata": {
        "id": "wyOx4tWWlJ5c"
      },
      "source": [
        "import re \n",
        "search = re.compile(r'(?<=_)(.*)')"
      ],
      "execution_count": 1,
      "outputs": []
    },
    {
      "cell_type": "code",
      "metadata": {
        "id": "vlcWxYbflvRG"
      },
      "source": [
        "test = '1231231223123131_myFile.tar.gz2'\n",
        "\n",
        "ct = re.findall(search,test)"
      ],
      "execution_count": 3,
      "outputs": []
    },
    {
      "cell_type": "code",
      "metadata": {
        "colab": {
          "base_uri": "https://localhost:8080/"
        },
        "id": "T_McHtaUl5Z1",
        "outputId": "64b70193-ad77-4b0f-fa36-4e715b67d4c1"
      },
      "source": [
        "ct"
      ],
      "execution_count": 6,
      "outputs": [
        {
          "output_type": "execute_result",
          "data": {
            "text/plain": [
              "['myFile.tar.gz2']"
            ]
          },
          "metadata": {},
          "execution_count": 6
        }
      ]
    },
    {
      "cell_type": "code",
      "metadata": {
        "id": "UJlGeBiTl7J_"
      },
      "source": [
        "cs = re.findall(search,'1231231223123131_FILE_NAME.EXTENSION.OTHEREXTENSION')"
      ],
      "execution_count": 7,
      "outputs": []
    },
    {
      "cell_type": "code",
      "metadata": {
        "colab": {
          "base_uri": "https://localhost:8080/"
        },
        "id": "F4HR6vtqmGkv",
        "outputId": "439a5651-a748-4eda-aec6-4f4f3edc495f"
      },
      "source": [
        "cs"
      ],
      "execution_count": 8,
      "outputs": [
        {
          "output_type": "execute_result",
          "data": {
            "text/plain": [
              "['FILE_NAME.EXTENSION.OTHEREXTENSION']"
            ]
          },
          "metadata": {},
          "execution_count": 8
        }
      ]
    },
    {
      "cell_type": "code",
      "metadata": {
        "id": "_4G7g704obl9"
      },
      "source": [
        "newpattern= re.compile(r'^\\S{10,21}')"
      ],
      "execution_count": 36,
      "outputs": []
    },
    {
      "cell_type": "code",
      "metadata": {
        "id": "wh3tASrJmG0_"
      },
      "source": [
        "cst = re.findall(newpattern,str(cs))"
      ],
      "execution_count": 37,
      "outputs": []
    },
    {
      "cell_type": "code",
      "metadata": {
        "colab": {
          "base_uri": "https://localhost:8080/"
        },
        "id": "8u38jFghojHk",
        "outputId": "2ff850ef-93e7-4512-823e-efd9bffb8a82"
      },
      "source": [
        "type(cs)"
      ],
      "execution_count": 38,
      "outputs": [
        {
          "output_type": "execute_result",
          "data": {
            "text/plain": [
              "list"
            ]
          },
          "metadata": {},
          "execution_count": 38
        }
      ]
    },
    {
      "cell_type": "code",
      "metadata": {
        "colab": {
          "base_uri": "https://localhost:8080/"
        },
        "id": "ZOdQ1e1tokeg",
        "outputId": "19d5f41b-d0d5-49fc-b8ba-98820693ba1a"
      },
      "source": [
        "cst"
      ],
      "execution_count": 39,
      "outputs": [
        {
          "output_type": "execute_result",
          "data": {
            "text/plain": [
              "[\"['FILE_NAME.EXTENSION\"]"
            ]
          },
          "metadata": {},
          "execution_count": 39
        }
      ]
    },
    {
      "cell_type": "code",
      "metadata": {
        "colab": {
          "base_uri": "https://localhost:8080/"
        },
        "id": "BpLzTc5uop4s",
        "outputId": "4a22c2d5-4771-47df-937e-5d565e5357f7"
      },
      "source": [
        "searchs = re.compile(r'\\b^\\S{1,}(.)')\n",
        "css = re.findall(searchs,test)\n",
        "css"
      ],
      "execution_count": 42,
      "outputs": [
        {
          "output_type": "execute_result",
          "data": {
            "text/plain": [
              "['2']"
            ]
          },
          "metadata": {},
          "execution_count": 42
        }
      ]
    },
    {
      "cell_type": "code",
      "metadata": {
        "id": "6xgc2i18tceM"
      },
      "source": [
        ""
      ],
      "execution_count": null,
      "outputs": []
    }
  ]
}