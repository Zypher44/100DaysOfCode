{
  "nbformat": 4,
  "nbformat_minor": 0,
  "metadata": {
    "colab": {
      "name": "Codewars2021/09/16.ipynb",
      "provenance": [],
      "authorship_tag": "ABX9TyMcA4YR2aZBR+BgGoWWW1h5",
      "include_colab_link": true
    },
    "kernelspec": {
      "name": "python3",
      "display_name": "Python 3"
    },
    "language_info": {
      "name": "python"
    }
  },
  "cells": [
    {
      "cell_type": "markdown",
      "metadata": {
        "id": "view-in-github",
        "colab_type": "text"
      },
      "source": [
        "<a href=\"https://colab.research.google.com/github/Zypher44/100DaysOfCode/blob/main/Codewars2021_09_16.ipynb\" target=\"_parent\"><img src=\"https://colab.research.google.com/assets/colab-badge.svg\" alt=\"Open In Colab\"/></a>"
      ]
    },
    {
      "cell_type": "code",
      "metadata": {
        "id": "yrBwj4mbOUp4"
      },
      "source": [
        "Step 1: Create a function called encode() to replace all the lowercase vowels in a given string with numbers according to the following pattern:\n",
        "\n",
        "a -> 1\n",
        "e -> 2\n",
        "i -> 3\n",
        "o -> 4\n",
        "u -> 5\n",
        "For example, encode(\"hello\") would return \"h2ll4\". There is no need to worry about uppercase vowels in this kata.\n",
        "\n",
        "Step 2: Now create a function called decode() to turn the numbers back into vowels according to the same pattern shown above.\n",
        "\n",
        "For example, decode(\"h3 th2r2\") would return \"hi there\".\n",
        "\n",
        "For the sake of simplicity, you can assume that any numbers passed into the function will correspond to vowels.\n",
        "\n"
      ],
      "execution_count": null,
      "outputs": []
    },
    {
      "cell_type": "code",
      "metadata": {
        "colab": {
          "base_uri": "https://localhost:8080/",
          "height": 35
        },
        "id": "o-_PicbVOa_Z",
        "outputId": "4de51c10-6af0-44d9-f083-20b6c08c10dd"
      },
      "source": [
        "import re \n",
        "s = 'hello'\n",
        "c =re.sub('a','1',s)\n",
        "c = re.sub('e','2',c)\n",
        "c = re.sub('i','3',c)\n",
        "c = re.sub('o' ,'4',c)\n",
        "c = re.sub('u','5',c)\n",
        "c"
      ],
      "execution_count": 8,
      "outputs": [
        {
          "output_type": "execute_result",
          "data": {
            "application/vnd.google.colaboratory.intrinsic+json": {
              "type": "string"
            },
            "text/plain": [
              "'h2ll4'"
            ]
          },
          "metadata": {},
          "execution_count": 8
        }
      ]
    },
    {
      "cell_type": "code",
      "metadata": {
        "id": "QPHtlYuXPUM6"
      },
      "source": [
        "def encode(st):\n",
        "  st =re.sub('a','1',st)\n",
        "  st = re.sub('e','2',st)\n",
        "  st = re.sub('i','3',st)\n",
        "  st = re.sub('o' ,'4',st)\n",
        "  st = re.sub('u','5',st)\n",
        "  return st \n"
      ],
      "execution_count": 15,
      "outputs": []
    },
    {
      "cell_type": "code",
      "metadata": {
        "colab": {
          "base_uri": "https://localhost:8080/",
          "height": 35
        },
        "id": "7sUc9dshUHhF",
        "outputId": "a6bace02-05be-423f-b105-568bb99cea78"
      },
      "source": [
        "encode('How are you today?')"
      ],
      "execution_count": 11,
      "outputs": [
        {
          "output_type": "execute_result",
          "data": {
            "application/vnd.google.colaboratory.intrinsic+json": {
              "type": "string"
            },
            "text/plain": [
              "'H4w 1r2 y45 t4d1y?'"
            ]
          },
          "metadata": {},
          "execution_count": 11
        }
      ]
    },
    {
      "cell_type": "code",
      "metadata": {
        "id": "y4897WpMUIg6"
      },
      "source": [
        "def decode(st):\n",
        "  st =re.sub('1','a',st)\n",
        "  st = re.sub('2','e',st)\n",
        "  st = re.sub('3','i',st)\n",
        "  st = re.sub('4' ,'0',st)\n",
        "  st = re.sub('5','u',st)\n",
        "\n",
        "  return st \n",
        "  "
      ],
      "execution_count": 16,
      "outputs": []
    },
    {
      "cell_type": "code",
      "metadata": {
        "colab": {
          "base_uri": "https://localhost:8080/",
          "height": 35
        },
        "id": "qXl0HIWYUZS6",
        "outputId": "aadcf7a3-ee23-4c55-ee31-4d3b734ddc6f"
      },
      "source": [
        "decode('h3 th2r2')"
      ],
      "execution_count": 13,
      "outputs": [
        {
          "output_type": "execute_result",
          "data": {
            "application/vnd.google.colaboratory.intrinsic+json": {
              "type": "string"
            },
            "text/plain": [
              "'hi there'"
            ]
          },
          "metadata": {},
          "execution_count": 13
        }
      ]
    },
    {
      "cell_type": "code",
      "metadata": {
        "id": "y8oyguZ9UcFr"
      },
      "source": [
        "#Simpler way to do what we did \n",
        "tbl1 = str.maketrans(\"aeiou\", \"12345\")\n",
        "tbl2 = str.maketrans(\"12345\", \"aeiou\")\n",
        "\n",
        "\n",
        "def encode1(st):\n",
        "    return st.translate(tbl1)\n",
        "\n",
        "\n",
        "def decode1(st):\n",
        "    return st.translate(tbl2)"
      ],
      "execution_count": 17,
      "outputs": []
    },
    {
      "cell_type": "code",
      "metadata": {
        "colab": {
          "base_uri": "https://localhost:8080/",
          "height": 35
        },
        "id": "p-zbiJHWVZOL",
        "outputId": "0134d53c-1d77-4987-c04e-ba2b1808e53c"
      },
      "source": [
        "encode1('Hello')"
      ],
      "execution_count": 19,
      "outputs": [
        {
          "output_type": "execute_result",
          "data": {
            "application/vnd.google.colaboratory.intrinsic+json": {
              "type": "string"
            },
            "text/plain": [
              "'H2ll4'"
            ]
          },
          "metadata": {},
          "execution_count": 19
        }
      ]
    },
    {
      "cell_type": "code",
      "metadata": {
        "colab": {
          "base_uri": "https://localhost:8080/"
        },
        "id": "i13xzu8rVd7Z",
        "outputId": "51f4bf01-e51d-4686-f12d-2676e4527dca"
      },
      "source": [
        "testing = str.maketrans('aeiou','AEIOU')\n",
        "string ='hello'\n",
        "\n",
        "print(string.translate(testing))"
      ],
      "execution_count": 21,
      "outputs": [
        {
          "output_type": "stream",
          "name": "stdout",
          "text": [
            "hEllO\n"
          ]
        }
      ]
    },
    {
      "cell_type": "code",
      "metadata": {
        "id": "rHxK8gDlY29T"
      },
      "source": [
        "Complete the method which returns the number which is most frequent in the given input array. If there is a tie for most frequent number, return the largest number among them.\n",
        "\n",
        "Note: no empty arrays will be given.\n",
        "\n",
        "Examples\n",
        "[12, 10, 8, 12, 7, 6, 4, 10, 12]              -->  12\n",
        "[12, 10, 8, 12, 7, 6, 4, 10, 12, 10]          -->  12\n",
        "[12, 10, 8, 8, 3, 3, 3, 3, 2, 4, 10, 12, 10]  -->   3"
      ],
      "execution_count": null,
      "outputs": []
    },
    {
      "cell_type": "code",
      "metadata": {
        "id": "aXWKal9aaAU_"
      },
      "source": [
        "alist = [13, 12, 8, 13, 7, 6, 4, 10, 12, 13, 12]\n",
        "most = max(alist, key=alist.count)"
      ],
      "execution_count": 29,
      "outputs": []
    },
    {
      "cell_type": "code",
      "metadata": {
        "colab": {
          "base_uri": "https://localhost:8080/"
        },
        "id": "W-2Vi3HNaLoR",
        "outputId": "5fa0e405-5645-4346-b02d-0cadab23bce8"
      },
      "source": [
        "most"
      ],
      "execution_count": 30,
      "outputs": [
        {
          "output_type": "execute_result",
          "data": {
            "text/plain": [
              "13"
            ]
          },
          "metadata": {},
          "execution_count": 30
        }
      ]
    },
    {
      "cell_type": "code",
      "metadata": {
        "id": "L1WQGO2aaNZP"
      },
      "source": [
        "c =sorted(alist,reverse=True)"
      ],
      "execution_count": 36,
      "outputs": []
    },
    {
      "cell_type": "code",
      "metadata": {
        "colab": {
          "base_uri": "https://localhost:8080/"
        },
        "id": "SFS2b8ZhaxUG",
        "outputId": "e59c37c4-65f1-47b3-e0b1-46b00809f500"
      },
      "source": [
        "type(c)"
      ],
      "execution_count": 38,
      "outputs": [
        {
          "output_type": "execute_result",
          "data": {
            "text/plain": [
              "list"
            ]
          },
          "metadata": {},
          "execution_count": 38
        }
      ]
    },
    {
      "cell_type": "code",
      "metadata": {
        "id": "0Xd7wHASayfb"
      },
      "source": [
        "def highest_rank(arr):\n",
        "    most = sorted(arr,reverse=True)\n",
        "    most = max(most,key=arr.count)\n",
        "    return most\n"
      ],
      "execution_count": null,
      "outputs": []
    }
  ]
}