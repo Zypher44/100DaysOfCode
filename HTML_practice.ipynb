{
  "nbformat": 4,
  "nbformat_minor": 0,
  "metadata": {
    "colab": {
      "name": "HTML practice ",
      "provenance": [],
      "authorship_tag": "ABX9TyMk9UWugyuRT0vuINijfc74",
      "include_colab_link": true
    },
    "kernelspec": {
      "name": "python3",
      "display_name": "Python 3"
    },
    "language_info": {
      "name": "python"
    }
  },
  "cells": [
    {
      "cell_type": "markdown",
      "metadata": {
        "id": "view-in-github",
        "colab_type": "text"
      },
      "source": [
        "<a href=\"https://colab.research.google.com/github/Zypher44/100DaysOfCode/blob/main/HTML_practice.ipynb\" target=\"_parent\"><img src=\"https://colab.research.google.com/assets/colab-badge.svg\" alt=\"Open In Colab\"/></a>"
      ]
    },
    {
      "cell_type": "code",
      "execution_count": null,
      "metadata": {
        "id": "754DeEzCv9WP"
      },
      "outputs": [],
      "source": [
        "<!DOCTYPE html>\n",
        "<html lang=\"en\">\n",
        "<head>\n",
        "  <meta charset=\"UTF-8\">\n",
        "  <meta http-equiv=\"X-UA-Compatible\" content=\"IE=edge\">\n",
        "  <meta name=\"viewport\" content=\"width=device-width, initial-scale=1.0\">\n",
        "  <title>Margin and Padding exercise</title>\n",
        "  <link rel=\"stylesheet\" href=\"style.css\">\n",
        "</head>\n",
        "<body>\n",
        "  <div class=\"one\">\n",
        "    DIV ONE\n",
        "  </div>\n",
        "  <div class=\"two\">\n",
        "    DIV TWO\n",
        "  </div>\n",
        "  <div class=\"three\">\n",
        "    DIV THREE\n",
        "  </div>\n",
        "</body>\n",
        "</html>\n"
      ]
    },
    {
      "cell_type": "code",
      "source": [
        "body {\n",
        "  max-width: 600px;\n",
        "  margin: 0 auto;\n",
        "}\n",
        "\n",
        ".one {\n",
        "  background: pink;\n",
        "  border: 3px solid blue;\n",
        "  /* CHANGE ME */\n",
        "  padding: 32px;\n",
        "  margin: 12px;\n",
        "}\n",
        "\n",
        ".two {\n",
        "  background: lightblue;\n",
        "  border: 3px solid purple;\n",
        "  /* CHANGE ME */\n",
        "  margin-bottom: 42px;\n",
        "}\n",
        "\n",
        ".three {\n",
        "  background: peachpuff;\n",
        "  border: 3px solid brown;\n",
        "  width: 200px;\n",
        "  /* CHANGE ME */\n",
        "  padding: 30px;\n",
        "  margin-left: 300px \n",
        "}"
      ],
      "metadata": {
        "id": "0KDoqX3ZxKOh"
      },
      "execution_count": null,
      "outputs": []
    }
  ]
}