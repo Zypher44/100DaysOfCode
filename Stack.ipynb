{
  "nbformat": 4,
  "nbformat_minor": 0,
  "metadata": {
    "colab": {
      "name": "Stack.ipynb",
      "provenance": [],
      "authorship_tag": "ABX9TyPvGCLufcU1sKbpvHJGEHLd",
      "include_colab_link": true
    },
    "kernelspec": {
      "name": "python3",
      "display_name": "Python 3"
    },
    "language_info": {
      "name": "python"
    }
  },
  "cells": [
    {
      "cell_type": "markdown",
      "metadata": {
        "id": "view-in-github",
        "colab_type": "text"
      },
      "source": [
        "<a href=\"https://colab.research.google.com/github/Zypher44/100DaysOfCode/blob/main/Stack.ipynb\" target=\"_parent\"><img src=\"https://colab.research.google.com/assets/colab-badge.svg\" alt=\"Open In Colab\"/></a>"
      ]
    },
    {
      "cell_type": "code",
      "metadata": {
        "id": "0xpIcH_2H3rz"
      },
      "source": [
        "Stack is a data structure that stores items in a lastin first out manner (LIFO)\n",
        "\n",
        "Why do we need a stack?\n",
        "need it for a back button for a browser \n",
        "\n",
        "Stack operations \n",
        "-Create stack = customStack()\n",
        "-Push = insert cusmtomStack.push(1) == customStack[1]\n",
        "-Pop = delete customStack.pop() == 1, customStack[]\n",
        "-Peek = similar to pop, returns top element of stack, but top element will not be removed \n",
        "-isEmpty = customStack.isEmpty() == True\n",
        "-isFull = customStack.isFull() == False\n",
        "-deleteStack = customStack.delete()\n"
      ],
      "execution_count": null,
      "outputs": []
    },
    {
      "cell_type": "code",
      "metadata": {
        "id": "MkW_XKIBO5vu"
      },
      "source": [
        "Stack creation \n",
        "1) Stack using list \n",
        " - easy to emplement \n",
        " - Speed problem when it grows\n",
        "\n",
        "2) Stack using linked list \n",
        " - Fast performance  \n",
        " - Implmentation is not easy \n",
        "\n"
      ],
      "execution_count": null,
      "outputs": []
    },
    {
      "cell_type": "code",
      "metadata": {
        "id": "QHc_GIonQWwZ"
      },
      "source": [
        "\n",
        "class stack:\n",
        "  def __init__(self):\n",
        "    self.list = [] #O(1) sapce and time complexity\n",
        "  \n",
        "  def __str__(self):\n",
        "    values = self.list.reverse()\n",
        "    values = [str(x) for x in self.list]\n",
        "    return '\\n'.join(values)\n",
        "\n",
        "  #isEmpty\n",
        "  def isEmpty(self):\n",
        "    if self.list == []:\n",
        "      return True\n",
        "    else:\n",
        "      return False \n",
        "  #push\n",
        "   \n",
        "  def push(self,value):\n",
        "     self.list.append(value)\n",
        "     return 'The element has been sucessfully inserted'\n",
        "  \n",
        "  def pop(self):\n",
        "    if self.isEmpty():\n",
        "      return \"There are not any elements in this type\"\n",
        "    else:\n",
        "      return self.list.pop()\n",
        "\n",
        "  \n",
        "  def peek(self):\n",
        "    if self.isEmpty():\n",
        "      return \"There is no elements\"\n",
        "    else:\n",
        "      return self.list[len(self.list)-1]\n",
        "\n",
        "  def delete(self):\n",
        "    self.list = None\n"
      ],
      "execution_count": 54,
      "outputs": []
    },
    {
      "cell_type": "code",
      "metadata": {
        "id": "WURnszCCUTyj"
      },
      "source": [
        "customStack = stack()"
      ],
      "execution_count": 55,
      "outputs": []
    },
    {
      "cell_type": "code",
      "metadata": {
        "colab": {
          "base_uri": "https://localhost:8080/"
        },
        "id": "9BqpBDT7snZB",
        "outputId": "d02844b5-7bc7-4a87-eee6-51415f16c7bd"
      },
      "source": [
        "print(customStack.isEmpty())"
      ],
      "execution_count": 48,
      "outputs": [
        {
          "output_type": "stream",
          "name": "stdout",
          "text": [
            "True\n"
          ]
        }
      ]
    },
    {
      "cell_type": "code",
      "metadata": {
        "colab": {
          "base_uri": "https://localhost:8080/",
          "height": 35
        },
        "id": "pO81utz-srLj",
        "outputId": "e5675e58-39da-42ba-85c9-79d2793091e4"
      },
      "source": [
        "customStack.push(1)\n",
        "customStack.push(2)\n",
        "customStack.push(34)"
      ],
      "execution_count": 57,
      "outputs": [
        {
          "output_type": "execute_result",
          "data": {
            "application/vnd.google.colaboratory.intrinsic+json": {
              "type": "string"
            },
            "text/plain": [
              "'The element has been sucessfully inserted'"
            ]
          },
          "metadata": {},
          "execution_count": 57
        }
      ]
    },
    {
      "cell_type": "code",
      "metadata": {
        "colab": {
          "base_uri": "https://localhost:8080/"
        },
        "id": "MI4yzT80tRhP",
        "outputId": "5dc9ae4d-5a2f-4e72-ad9d-023cbbb8a90d"
      },
      "source": [
        "print(customStack)"
      ],
      "execution_count": 50,
      "outputs": [
        {
          "output_type": "stream",
          "name": "stdout",
          "text": [
            "34\n",
            "2\n",
            "1\n"
          ]
        }
      ]
    },
    {
      "cell_type": "code",
      "metadata": {
        "colab": {
          "base_uri": "https://localhost:8080/"
        },
        "id": "H4Jh5YIDteGP",
        "outputId": "9c56df73-0def-424a-eeea-a557d3164ff7"
      },
      "source": [
        "customStack.pop()"
      ],
      "execution_count": 51,
      "outputs": [
        {
          "output_type": "execute_result",
          "data": {
            "text/plain": [
              "1"
            ]
          },
          "metadata": {},
          "execution_count": 51
        }
      ]
    },
    {
      "cell_type": "code",
      "metadata": {
        "colab": {
          "base_uri": "https://localhost:8080/"
        },
        "id": "s2p6wOc6t1pq",
        "outputId": "5436c3b1-7143-4711-d0b1-e6489915dd9b"
      },
      "source": [
        "print(customStack)"
      ],
      "execution_count": 52,
      "outputs": [
        {
          "output_type": "stream",
          "name": "stdout",
          "text": [
            "2\n",
            "34\n"
          ]
        }
      ]
    },
    {
      "cell_type": "code",
      "metadata": {
        "colab": {
          "base_uri": "https://localhost:8080/"
        },
        "id": "G2lBEfg4t9OL",
        "outputId": "105d9cdb-9df8-4af9-a9c9-4aebe86000d3"
      },
      "source": [
        "customStack.peek()"
      ],
      "execution_count": 58,
      "outputs": [
        {
          "output_type": "execute_result",
          "data": {
            "text/plain": [
              "34"
            ]
          },
          "metadata": {},
          "execution_count": 58
        }
      ]
    },
    {
      "cell_type": "code",
      "metadata": {
        "id": "eTEFHWLyuOOJ"
      },
      "source": [
        "customStack.delete()"
      ],
      "execution_count": 59,
      "outputs": []
    },
    {
      "cell_type": "code",
      "metadata": {
        "colab": {
          "base_uri": "https://localhost:8080/",
          "height": 282
        },
        "id": "58zNeNT2ums7",
        "outputId": "439e6a8b-c938-4fb8-c51a-08435381169f"
      },
      "source": [
        "print(customStack)"
      ],
      "execution_count": 61,
      "outputs": [
        {
          "output_type": "error",
          "ename": "AttributeError",
          "evalue": "ignored",
          "traceback": [
            "\u001b[0;31m---------------------------------------------------------------------------\u001b[0m",
            "\u001b[0;31mAttributeError\u001b[0m                            Traceback (most recent call last)",
            "\u001b[0;32m<ipython-input-61-9d1c6d1efdac>\u001b[0m in \u001b[0;36m<module>\u001b[0;34m()\u001b[0m\n\u001b[0;32m----> 1\u001b[0;31m \u001b[0mprint\u001b[0m\u001b[0;34m(\u001b[0m\u001b[0mcustomStack\u001b[0m\u001b[0;34m)\u001b[0m\u001b[0;34m\u001b[0m\u001b[0;34m\u001b[0m\u001b[0m\n\u001b[0m",
            "\u001b[0;32m<ipython-input-54-2287c7cda957>\u001b[0m in \u001b[0;36m__str__\u001b[0;34m(self)\u001b[0m\n\u001b[1;32m      5\u001b[0m \u001b[0;34m\u001b[0m\u001b[0m\n\u001b[1;32m      6\u001b[0m   \u001b[0;32mdef\u001b[0m \u001b[0m__str__\u001b[0m\u001b[0;34m(\u001b[0m\u001b[0mself\u001b[0m\u001b[0;34m)\u001b[0m\u001b[0;34m:\u001b[0m\u001b[0;34m\u001b[0m\u001b[0;34m\u001b[0m\u001b[0m\n\u001b[0;32m----> 7\u001b[0;31m     \u001b[0mvalues\u001b[0m \u001b[0;34m=\u001b[0m \u001b[0mself\u001b[0m\u001b[0;34m.\u001b[0m\u001b[0mlist\u001b[0m\u001b[0;34m.\u001b[0m\u001b[0mreverse\u001b[0m\u001b[0;34m(\u001b[0m\u001b[0;34m)\u001b[0m\u001b[0;34m\u001b[0m\u001b[0;34m\u001b[0m\u001b[0m\n\u001b[0m\u001b[1;32m      8\u001b[0m     \u001b[0mvalues\u001b[0m \u001b[0;34m=\u001b[0m \u001b[0;34m[\u001b[0m\u001b[0mstr\u001b[0m\u001b[0;34m(\u001b[0m\u001b[0mx\u001b[0m\u001b[0;34m)\u001b[0m \u001b[0;32mfor\u001b[0m \u001b[0mx\u001b[0m \u001b[0;32min\u001b[0m \u001b[0mself\u001b[0m\u001b[0;34m.\u001b[0m\u001b[0mlist\u001b[0m\u001b[0;34m]\u001b[0m\u001b[0;34m\u001b[0m\u001b[0;34m\u001b[0m\u001b[0m\n\u001b[1;32m      9\u001b[0m     \u001b[0;32mreturn\u001b[0m \u001b[0;34m'\\n'\u001b[0m\u001b[0;34m.\u001b[0m\u001b[0mjoin\u001b[0m\u001b[0;34m(\u001b[0m\u001b[0mvalues\u001b[0m\u001b[0;34m)\u001b[0m\u001b[0;34m\u001b[0m\u001b[0;34m\u001b[0m\u001b[0m\n",
            "\u001b[0;31mAttributeError\u001b[0m: 'NoneType' object has no attribute 'reverse'"
          ]
        }
      ]
    },
    {
      "cell_type": "code",
      "metadata": {
        "id": "UFPZp9epunM1"
      },
      "source": [
        "class stack1:\n",
        "  def __init__(self,maxSize):\n",
        "    self.maxSize = maxSize\n",
        "    self.list = []\n",
        "\n",
        "  def __str__(self):\n",
        "    values = self.list.reverse()\n",
        "    values = [str(x) for x in self.list]\n",
        "    return '\\n'.join(values)\n",
        "  \n",
        "  def isEmpty(self):\n",
        "    if self.list == []:\n",
        "      return True\n",
        "    else:\n",
        "      return False \n",
        "  \n",
        "  def isfull(self): #Time complexity O(1) space is also O(1)\n",
        "    if len(self.list) == self.maxSize:\n",
        "      return True \n",
        "    else:\n",
        "      return False\n",
        "\n",
        "  def push(self, value):\n",
        "    if self.isfull():\n",
        "      return \"The stack is full\"\n",
        "    else:\n",
        "      self.list.append(value)\n",
        "      return 'Thje elemente has been succesfully inserted'\n",
        "  \n",
        "  def pop(self):\n",
        "    if self.isEmpty():\n",
        "      return 'There is no elements in the stack'\n",
        "    else:\n",
        "      return self.list.pop()\n",
        "  \n",
        "  def peek(self):\n",
        "    if self.isEmpty():\n",
        "      return 'No elements in stack'\n",
        "    else:\n",
        "      return self.list(len(self.list)-1)\n",
        "\n",
        "  \n",
        "  def delete(self):\n",
        "    self.list = None\n"
      ],
      "execution_count": 69,
      "outputs": []
    },
    {
      "cell_type": "code",
      "metadata": {
        "colab": {
          "base_uri": "https://localhost:8080/"
        },
        "id": "IP-ccjh8voYL",
        "outputId": "0d3d6090-fa88-4b5d-bffa-7e037c2e162e"
      },
      "source": [
        " stack1 = stack1(4)\n",
        "print(stack1.isEmpty())\n",
        "print(stack1.isfull())\n",
        "stack1.push(10)\n",
        "stack1.push(11)\n",
        "stack1.push(12)\n",
        "print(stack1)"
      ],
      "execution_count": 67,
      "outputs": [
        {
          "output_type": "stream",
          "name": "stdout",
          "text": [
            "True\n",
            "False\n",
            "12\n",
            "11\n",
            "10\n"
          ]
        }
      ]
    },
    {
      "cell_type": "code",
      "metadata": {
        "id": "2J77ZuSLv0k-"
      },
      "source": [
        "Time and space complexity of Stack operations with List \n",
        "                                                  Time complextiy           Space Complexity\n",
        "Create stack                                          O(1)                       O(1)\n",
        "Push                                                  O(1) | O(n^2)              O(1) \n",
        "Pop                                                   O(1)                       O(1)\n",
        "Peek                                                  O(1)                       O(1)\n",
        "isEmpty                                               O(1)                       O(1)\n",
        "Delete entire stack                                   O(1)                       O(1)"
      ],
      "execution_count": null,
      "outputs": []
    },
    {
      "cell_type": "code",
      "metadata": {
        "id": "dixSYy3wxhsb"
      },
      "source": [
        "Stack using linked list \n",
        "\n",
        "Create a stackCreate an object of linked list \n"
      ],
      "execution_count": null,
      "outputs": []
    },
    {
      "cell_type": "code",
      "metadata": {
        "id": "kLEfSeKty0oP"
      },
      "source": [
        "class Node:\n",
        "  def __init__(self,value=None):\n",
        "    self.value = value\n",
        "    self.next = next\n",
        "  \n",
        "\n",
        "class LinkedList:\n",
        "  def __init__(self):\n",
        "    self.head = None\n",
        "  \n",
        "  def __iter__(self):\n",
        "    curnode = self.head\n",
        "    while curnode:\n",
        "      yield curnode\n",
        "      curnode = curnode.next\n",
        "\n",
        "\n",
        "class Stackz:\n",
        "  def __init__(self):\n",
        "    self.LinkedList = LinkedList()\n",
        "  \n",
        "  def __str__(self):\n",
        "    values = [str(x.value) for x in self.LinkedList]\n",
        "    return '\\n'.join(values)\n",
        "\n",
        "  def isEmpty(self):\n",
        "    if self.LinkedList.head == None:\n",
        "      return True\n",
        "    else:\n",
        "      return False\n",
        "  \n",
        "  def push(self,value):\n",
        "    node = Node(value)\n",
        "    node.next = self.LinkedList.head\n",
        "    self.LinkedList.head = node\n",
        "\n",
        "  def pop(self):\n",
        "    if self.isEmpty():\n",
        "      return 'There is no element in the stack'\n",
        "    else:\n",
        "      nodeValue = self.LinkedList.head.value\n",
        "      self.LinkedList.head = self.LinkedList.head.next\n",
        "      return nodeValue\n",
        "  \n",
        "  def peek(self):\n",
        "    if self.isEmpty():\n",
        "      return \"There is no element in the stack\"\n",
        "    else:\n",
        "      nodeValue = self.LinkedList.head.value\n",
        "      return nodeValue\n",
        "  \n",
        "  def delete(self):\n",
        "    self.LinkedList.head = None\n"
      ],
      "execution_count": 109,
      "outputs": []
    },
    {
      "cell_type": "code",
      "metadata": {
        "id": "Q3oqt6XLzRGK"
      },
      "source": [
        "stacks = Stackz()"
      ],
      "execution_count": 110,
      "outputs": []
    },
    {
      "cell_type": "code",
      "metadata": {
        "colab": {
          "base_uri": "https://localhost:8080/"
        },
        "id": "WcTuaSvVzUlJ",
        "outputId": "273f5fd0-b261-492c-afca-24c24966ae58"
      },
      "source": [
        "print(stacks.isEmpty())"
      ],
      "execution_count": 111,
      "outputs": [
        {
          "output_type": "stream",
          "name": "stdout",
          "text": [
            "True\n"
          ]
        }
      ]
    },
    {
      "cell_type": "code",
      "metadata": {
        "id": "YXGEMZBfzXV2"
      },
      "source": [
        "stacks.push(12)\n",
        "stacks.push(13)\n",
        "stacks.push(22)\n",
        "stacks.push(112)"
      ],
      "execution_count": 112,
      "outputs": []
    },
    {
      "cell_type": "code",
      "metadata": {
        "colab": {
          "base_uri": "https://localhost:8080/"
        },
        "id": "IWboh1410Rn1",
        "outputId": "a6c3985b-bf1c-4987-b8f6-27ca5d816042"
      },
      "source": [
        "stacks.isEmpty()"
      ],
      "execution_count": 113,
      "outputs": [
        {
          "output_type": "execute_result",
          "data": {
            "text/plain": [
              "False"
            ]
          },
          "metadata": {},
          "execution_count": 113
        }
      ]
    },
    {
      "cell_type": "code",
      "metadata": {
        "colab": {
          "base_uri": "https://localhost:8080/"
        },
        "id": "9kQJBtsD0W7I",
        "outputId": "aa2b7e1b-b896-4603-fa9c-75245baf7e88"
      },
      "source": [
        "print(stacks)"
      ],
      "execution_count": 114,
      "outputs": [
        {
          "output_type": "stream",
          "name": "stdout",
          "text": [
            "112\n",
            "22\n",
            "13\n",
            "12\n"
          ]
        }
      ]
    },
    {
      "cell_type": "code",
      "metadata": {
        "colab": {
          "base_uri": "https://localhost:8080/"
        },
        "id": "qQVMouMK0nL7",
        "outputId": "2d9371fd-358b-4c56-e058-959f75d3bb34"
      },
      "source": [
        "stacks.pop()"
      ],
      "execution_count": 115,
      "outputs": [
        {
          "output_type": "execute_result",
          "data": {
            "text/plain": [
              "112"
            ]
          },
          "metadata": {},
          "execution_count": 115
        }
      ]
    },
    {
      "cell_type": "code",
      "metadata": {
        "colab": {
          "base_uri": "https://localhost:8080/"
        },
        "id": "CYJDRTew1UCG",
        "outputId": "dcc90adc-aa39-43ad-96b9-f11a3eaae9bb"
      },
      "source": [
        "print(stacks)"
      ],
      "execution_count": 116,
      "outputs": [
        {
          "output_type": "stream",
          "name": "stdout",
          "text": [
            "22\n",
            "13\n",
            "12\n"
          ]
        }
      ]
    },
    {
      "cell_type": "code",
      "metadata": {
        "colab": {
          "base_uri": "https://localhost:8080/"
        },
        "id": "1kwccQBv1Vyy",
        "outputId": "a7385723-f13e-4509-9736-1d3e4c0fd6a6"
      },
      "source": [
        "stacks.peek()"
      ],
      "execution_count": 117,
      "outputs": [
        {
          "output_type": "execute_result",
          "data": {
            "text/plain": [
              "22"
            ]
          },
          "metadata": {},
          "execution_count": 117
        }
      ]
    },
    {
      "cell_type": "code",
      "metadata": {
        "colab": {
          "base_uri": "https://localhost:8080/"
        },
        "id": "GEx3qPnW1rZo",
        "outputId": "1aa793b7-f07c-4d8c-d55b-5a5e1f098b71"
      },
      "source": [
        "print(stacks)"
      ],
      "execution_count": 118,
      "outputs": [
        {
          "output_type": "stream",
          "name": "stdout",
          "text": [
            "22\n",
            "13\n",
            "12\n"
          ]
        }
      ]
    },
    {
      "cell_type": "code",
      "metadata": {
        "id": "3D7mTpBv1sCE"
      },
      "source": [
        "stacks.delete()"
      ],
      "execution_count": 119,
      "outputs": []
    },
    {
      "cell_type": "code",
      "metadata": {
        "colab": {
          "base_uri": "https://localhost:8080/"
        },
        "id": "IgHi94Wq10WD",
        "outputId": "287f82a9-be69-42d8-a925-b92c5391c01e"
      },
      "source": [
        "print(stacks)"
      ],
      "execution_count": 120,
      "outputs": [
        {
          "output_type": "stream",
          "name": "stdout",
          "text": [
            "\n"
          ]
        }
      ]
    },
    {
      "cell_type": "code",
      "metadata": {
        "id": "6yq4jVuY11rG"
      },
      "source": [
        "Time and space complexity of Stack operations with  Linked List \n",
        "                                                  Time complextiy           Space Complexity\n",
        "Create stack                                          O(1)                       O(1)\n",
        "Push                                                  O(1)                       O(1) \n",
        "Pop                                                   O(1)                       O(1)\n",
        "Peek                                                  O(1)                       O(1)\n",
        "isEmpty                                               O(1)                       O(1)\n",
        "Delete entire stack                                   O(1)                       O(1)"
      ],
      "execution_count": null,
      "outputs": []
    },
    {
      "cell_type": "code",
      "metadata": {
        "id": "KAJYdo6O2EF6"
      },
      "source": [
        "When to use and avoid stack \n",
        "\n",
        "Use:\n",
        "- LIFO functionalty \n",
        "- The chacne of data corruption is minimun (since elements can only be inserted at end of stack)\n",
        "\n",
        "Avoid:\n",
        "- Random access is not possible(only able to access last elment)\n"
      ],
      "execution_count": null,
      "outputs": []
    }
  ]
}