{
  "nbformat": 4,
  "nbformat_minor": 0,
  "metadata": {
    "colab": {
      "name": "FlexBox.ipynb",
      "provenance": [],
      "authorship_tag": "ABX9TyP0Hxayih6oyZJt09lqMG3i",
      "include_colab_link": true
    },
    "kernelspec": {
      "name": "python3",
      "display_name": "Python 3"
    },
    "language_info": {
      "name": "python"
    }
  },
  "cells": [
    {
      "cell_type": "markdown",
      "metadata": {
        "id": "view-in-github",
        "colab_type": "text"
      },
      "source": [
        "<a href=\"https://colab.research.google.com/github/Zypher44/100DaysOfCode/blob/main/FlexBox2.ipynb\" target=\"_parent\"><img src=\"https://colab.research.google.com/assets/colab-badge.svg\" alt=\"Open In Colab\"/></a>"
      ]
    },
    {
      "cell_type": "code",
      "execution_count": null,
      "metadata": {
        "id": "dprHk3edZuJB"
      },
      "outputs": [],
      "source": [
        "<!DOCTYPE html>\n",
        "<html lang=\"en\">\n",
        "<head>\n",
        "  <meta charset=\"UTF-8\">\n",
        "  <meta http-equiv=\"X-UA-Compatible\" content=\"IE=edge\">\n",
        "  <meta name=\"viewport\" content=\"width=device-width, initial-scale=1.0\">\n",
        "  <title>Information</title>\n",
        "  <link rel=\"stylesheet\" href=\"solution.css\">\n",
        "</head>\n",
        "<body>\n",
        "  <div class=\"title\">Information!</div>\n",
        "\n",
        "  <div class=\"container\">\n",
        "    <div class=\"info\">\n",
        "      <img src=\"./images/barberry.png\" alt=\"barberry\">\n",
        "      <div class=\"text\">This is a type of plant. We love this one.</div>\n",
        "    </div>\n",
        "    <div class=\"info\">\n",
        "      <img src=\"./images/chilli.png\" alt=\"chili\">\n",
        "      <div class=\"text\">This is another type of plant. Isn't it nice</div>\n",
        "    </div>\n",
        "    <div class=\"info\">\n",
        "      <img src=\"./images/pepper.png\" alt=\"pepper\">\n",
        "      <div class=\"text\">We have so many plants. Yay plants.</div>\n",
        "    </div>\n",
        "    <div class=\"info\">\n",
        "      <img src=\"./images/saffron.png\" alt=\"saffron\">\n",
        "      <div class=\"text\">I'm running out of things to say about plants.</div>\n",
        "    </div>\n",
        "  </div>\n",
        "\n",
        "  <!-- disregard this section, it's here to give attribution to the creator of these icons -->\n",
        "  <div class=\"footer\">\n",
        "    <div>Icons made by <a href=\"https://www.flaticon.com/authors/icongeek26\" title=\"Icongeek26\">Icongeek26</a> from <a href=\"https://www.flaticon.com/\" title=\"Flaticon\">www.flaticon.com</a></div>\n",
        "  </div>\n",
        "</body>\n",
        "</html>"
      ]
    },
    {
      "cell_type": "code",
      "source": [
        "body {\n",
        "  font-family: 'Courier New', Courier, monospace;\n",
        "}\n",
        "\n",
        "img {\n",
        "  width: 100px;\n",
        "  height: 100px;\n",
        "}\n",
        "\n",
        ".title {\n",
        "  font-size: 36px;\n",
        "  font-weight: 900;\n",
        "}\n",
        "\n",
        "/* do not edit this footer */\n",
        ".footer {\n",
        "  position: fixed;\n",
        "  bottom: 0;\n",
        "  left: 0;\n",
        "  right: 0;\n",
        "  height: 52px;\n",
        "  display: flex;\n",
        "  align-items: center;;\n",
        "  justify-content: center;\n",
        "  background: #eee;\n",
        "}\n",
        "\n",
        "/* SOLUTION */\n",
        "\n",
        "body {\n",
        "  text-align: center;\n",
        "}\n",
        "\n",
        ".title {\n",
        "  margin-bottom: 32px;\n",
        "}\n",
        "\n",
        ".container {\n",
        "  display: flex;\n",
        "  justify-content: center;\n",
        "  gap: 52px;\n",
        "}\n",
        "\n",
        ".info {\n",
        "  max-width: 200px;\n",
        "}\n"
      ],
      "metadata": {
        "id": "MU4tR3D_Z4Cy"
      },
      "execution_count": null,
      "outputs": []
    }
  ]
}