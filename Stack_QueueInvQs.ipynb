{
  "nbformat": 4,
  "nbformat_minor": 0,
  "metadata": {
    "colab": {
      "name": "Stack/QueueInvQs.ipynb",
      "provenance": [],
      "authorship_tag": "ABX9TyNBAUZnKdtjjCtWxxQpM/8B",
      "include_colab_link": true
    },
    "kernelspec": {
      "name": "python3",
      "display_name": "Python 3"
    },
    "language_info": {
      "name": "python"
    }
  },
  "cells": [
    {
      "cell_type": "markdown",
      "metadata": {
        "id": "view-in-github",
        "colab_type": "text"
      },
      "source": [
        "<a href=\"https://colab.research.google.com/github/Zypher44/100DaysOfCode/blob/main/Stack_QueueInvQs.ipynb\" target=\"_parent\"><img src=\"https://colab.research.google.com/assets/colab-badge.svg\" alt=\"Open In Colab\"/></a>"
      ]
    },
    {
      "cell_type": "code",
      "metadata": {
        "id": "vMfm8RgtanGW"
      },
      "source": [
        "Three in One \n",
        "Describe how you could use a single Pythoin list to implement 3 stacks \n",
        "-> list with 3 stacks [0,n/3)"
      ],
      "execution_count": null,
      "outputs": []
    },
    {
      "cell_type": "code",
      "metadata": {
        "id": "mO-jRDqNbQYa"
      },
      "source": [
        "class multistack:\n",
        "  def __init__(self,stacksize):\n",
        "    self.numberstacks = 3\n",
        "    self.customList = [0] * (stacksize *self.numberstacks)\n",
        "    self.sizes = [0] * self.numberstacks \n",
        "    self.stacksize = stacksize\n",
        "  \n",
        "  def isFull(self,stacknum):\n",
        "    if self.sizes[stacknum] == self.stacksize:\n",
        "      return True \n",
        "    else:\n",
        "      return False \n",
        "\n",
        "  def isEmpty(self,stacknum):\n",
        "    if self.sizes[stacknum] == 0:\n",
        "      return True\n",
        "    else:\n",
        "      return False \n",
        "  \n",
        "  def indexofTop(self,stacknum):\n",
        "    offest = stacknum * self.stacksize\n",
        "    return offest + self.sizes[stacknum]-1\n",
        "  \n",
        "  def push(self,item,stacknum):\n",
        "    if self.isFull(stacknum):\n",
        "      return 'The stack is full'\n",
        "    else:\n",
        "      self.sizes[stacknum] += 1 \n",
        "      self.customList[self.indexofTop(stacknum)] = item \n",
        "  \n",
        "  def pop(self,stacknum):\n",
        "    if self.isEmpty(stacknum):\n",
        "      return \"Cant remove from empty stack\"\n",
        "    else:\n",
        "      value = self.customList[self.indexofTop(stacknum)]\n",
        "      self.custList[self.indexofTop(stacknum)] = 0\n",
        "      self.sizes[stacknum] -= 1\n",
        "      return value \n",
        "\n",
        "  def peek(self,stacknum):\n",
        "    if self.isEmpty(stacknum):\n",
        "      return \"Empty\"\n",
        "    else:\n",
        "      value = self.customList[self.indexOftop(stacknum)]\n",
        "      return value "
      ],
      "execution_count": 10,
      "outputs": []
    },
    {
      "cell_type": "code",
      "metadata": {
        "id": "-pQZ29wAdR7U"
      },
      "source": [
        "cstack = multistack(6)"
      ],
      "execution_count": 12,
      "outputs": []
    },
    {
      "cell_type": "code",
      "metadata": {
        "colab": {
          "base_uri": "https://localhost:8080/"
        },
        "id": "_j6MfD13dgM_",
        "outputId": "bf06a38e-ef71-4ea9-92ce-0cae7981eba7"
      },
      "source": [
        "cstack.isFull(0)"
      ],
      "execution_count": 13,
      "outputs": [
        {
          "output_type": "execute_result",
          "data": {
            "text/plain": [
              "False"
            ]
          },
          "metadata": {},
          "execution_count": 13
        }
      ]
    },
    {
      "cell_type": "code",
      "metadata": {
        "colab": {
          "base_uri": "https://localhost:8080/"
        },
        "id": "BoJx0LRzdjnX",
        "outputId": "a425f806-5714-4f40-b61e-760c2d05e569"
      },
      "source": [
        "cstack.isEmpty(1)"
      ],
      "execution_count": 14,
      "outputs": [
        {
          "output_type": "execute_result",
          "data": {
            "text/plain": [
              "True"
            ]
          },
          "metadata": {},
          "execution_count": 14
        }
      ]
    },
    {
      "cell_type": "code",
      "metadata": {
        "id": "HrXQQt5hdo5t"
      },
      "source": [
        "cstack.push(1,0)"
      ],
      "execution_count": 15,
      "outputs": []
    },
    {
      "cell_type": "code",
      "metadata": {
        "colab": {
          "base_uri": "https://localhost:8080/",
          "height": 163
        },
        "id": "h8etOHtwdteo",
        "outputId": "c5725f94-640a-489b-c513-c51ed25ba8a7"
      },
      "source": [
        "print(cstack)"
      ],
      "execution_count": 17,
      "outputs": [
        {
          "output_type": "error",
          "ename": "TypeError",
          "evalue": "ignored",
          "traceback": [
            "\u001b[0;31m---------------------------------------------------------------------------\u001b[0m",
            "\u001b[0;31mTypeError\u001b[0m                                 Traceback (most recent call last)",
            "\u001b[0;32m<ipython-input-17-fa7683b5bb0d>\u001b[0m in \u001b[0;36m<module>\u001b[0;34m()\u001b[0m\n\u001b[0;32m----> 1\u001b[0;31m \u001b[0mprint\u001b[0m\u001b[0;34m(\u001b[0m\u001b[0mcstack\u001b[0m\u001b[0;34m(\u001b[0m\u001b[0;34m)\u001b[0m\u001b[0;34m)\u001b[0m\u001b[0;34m\u001b[0m\u001b[0;34m\u001b[0m\u001b[0m\n\u001b[0m",
            "\u001b[0;31mTypeError\u001b[0m: 'multistack' object is not callable"
          ]
        }
      ]
    },
    {
      "cell_type": "code",
      "metadata": {
        "colab": {
          "base_uri": "https://localhost:8080/"
        },
        "id": "qQGXhK_Kd59j",
        "outputId": "b06b6781-1148-4bed-fd5a-153e6edbb0dd"
      },
      "source": [
        "print(cstack.peek(1))"
      ],
      "execution_count": 23,
      "outputs": [
        {
          "output_type": "stream",
          "name": "stdout",
          "text": [
            "Empty\n"
          ]
        }
      ]
    },
    {
      "cell_type": "code",
      "metadata": {
        "id": "nAHX3C5Wd_k0"
      },
      "source": [
        "How would you desgin a stack, with addition to push pop, also has a min function which returns a miminmu element \n",
        "push,pop,and min should all operate in O(1)\n"
      ],
      "execution_count": null,
      "outputs": []
    },
    {
      "cell_type": "code",
      "metadata": {
        "id": "M5aLdz-qeqU6"
      },
      "source": [
        ""
      ],
      "execution_count": null,
      "outputs": []
    }
  ]
}