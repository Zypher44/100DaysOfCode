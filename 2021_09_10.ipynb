{
  "nbformat": 4,
  "nbformat_minor": 0,
  "metadata": {
    "colab": {
      "name": "2021-09-10.ipynb",
      "provenance": [],
      "authorship_tag": "ABX9TyMFlpmTIQ3gCaF3HnB+YaBp",
      "include_colab_link": true
    },
    "kernelspec": {
      "name": "python3",
      "display_name": "Python 3"
    },
    "language_info": {
      "name": "python"
    }
  },
  "cells": [
    {
      "cell_type": "markdown",
      "metadata": {
        "id": "view-in-github",
        "colab_type": "text"
      },
      "source": [
        "<a href=\"https://colab.research.google.com/github/Zypher44/100DaysOfCode/blob/main/2021_09_10.ipynb\" target=\"_parent\"><img src=\"https://colab.research.google.com/assets/colab-badge.svg\" alt=\"Open In Colab\"/></a>"
      ]
    },
    {
      "cell_type": "markdown",
      "metadata": {
        "id": "7mm7FL62DJse"
      },
      "source": [
        "Write a function that takes an array of strings as an argument and returns a sorted array containing the same strings, ordered from shortest to longest.\n",
        "\n",
        "For example, if this array were passed as an argument:\n",
        "\n",
        "[\"Telescopes\", \"Glasses\", \"Eyes\", \"Monocles\"]\n",
        "\n",
        "Your function would return the following array:\n",
        "\n",
        "[\"Eyes\", \"Glasses\", \"Monocles\", \"Telescopes\"]\n",
        "\n",
        "All of the strings in the array passed to your function will be different lengths, so you will not have to decide how to order multiple strings of the same length.\n"
      ]
    },
    {
      "cell_type": "code",
      "metadata": {
        "colab": {
          "base_uri": "https://localhost:8080/"
        },
        "id": "Fh6rJo5ADHqf",
        "outputId": "0a745041-c75c-42c6-cca2-8d7fd68e9ea3"
      },
      "source": [
        "t = [\"Telescopes\", \"Glasses\", \"Eyes\", \"Monocles\"]\n",
        "ct = sorted(t)\n",
        "ct"
      ],
      "execution_count": 2,
      "outputs": [
        {
          "output_type": "execute_result",
          "data": {
            "text/plain": [
              "['Eyes', 'Glasses', 'Monocles', 'Telescopes']"
            ]
          },
          "metadata": {},
          "execution_count": 2
        }
      ]
    },
    {
      "cell_type": "code",
      "metadata": {
        "id": "GCTTG42hDTrp"
      },
      "source": [
        "def sort_by_length(arr):\n",
        "  return sorted(arr)"
      ],
      "execution_count": 3,
      "outputs": []
    },
    {
      "cell_type": "code",
      "metadata": {
        "colab": {
          "base_uri": "https://localhost:8080/"
        },
        "id": "WhMTthoQDaLM",
        "outputId": "ca480259-2ad6-4c0d-fe9f-dd985def6a92"
      },
      "source": [
        "sort_by_length(t)"
      ],
      "execution_count": 4,
      "outputs": [
        {
          "output_type": "execute_result",
          "data": {
            "text/plain": [
              "['Eyes', 'Glasses', 'Monocles', 'Telescopes']"
            ]
          },
          "metadata": {},
          "execution_count": 4
        }
      ]
    },
    {
      "cell_type": "code",
      "metadata": {
        "colab": {
          "base_uri": "https://localhost:8080/"
        },
        "id": "pzRI4If7DiBJ",
        "outputId": "3579a917-28ff-42b0-82f5-304ec731eb6a"
      },
      "source": [
        "sort_by_length(['beg', 'i', 'life', 'to'])"
      ],
      "execution_count": 5,
      "outputs": [
        {
          "output_type": "execute_result",
          "data": {
            "text/plain": [
              "['beg', 'i', 'life', 'to']"
            ]
          },
          "metadata": {},
          "execution_count": 5
        }
      ]
    },
    {
      "cell_type": "code",
      "metadata": {
        "id": "1LXQJm9uDu22"
      },
      "source": [
        "t.sort()"
      ],
      "execution_count": 7,
      "outputs": []
    },
    {
      "cell_type": "code",
      "metadata": {
        "colab": {
          "base_uri": "https://localhost:8080/"
        },
        "id": "W3MLr5qiD6pa",
        "outputId": "a209cc03-8fc0-4cb6-a64c-16d7b6a9f1f1"
      },
      "source": [
        "t"
      ],
      "execution_count": 8,
      "outputs": [
        {
          "output_type": "execute_result",
          "data": {
            "text/plain": [
              "['Eyes', 'Glasses', 'Monocles', 'Telescopes']"
            ]
          },
          "metadata": {},
          "execution_count": 8
        }
      ]
    },
    {
      "cell_type": "code",
      "metadata": {
        "colab": {
          "base_uri": "https://localhost:8080/"
        },
        "id": "0D8Hqi1XEMT8",
        "outputId": "075995c3-12e4-4a3f-c35d-e36766360fed"
      },
      "source": [
        "tt = ['beg', 'i', 'life', 'to']\n",
        "tt.sort()\n",
        "tt"
      ],
      "execution_count": 9,
      "outputs": [
        {
          "output_type": "execute_result",
          "data": {
            "text/plain": [
              "['beg', 'i', 'life', 'to']"
            ]
          },
          "metadata": {},
          "execution_count": 9
        }
      ]
    },
    {
      "cell_type": "code",
      "metadata": {
        "id": "LLRFemrmEVJY"
      },
      "source": [
        "cc = sorted(tt,key=lambda tt: len(tt))"
      ],
      "execution_count": 11,
      "outputs": []
    },
    {
      "cell_type": "code",
      "metadata": {
        "colab": {
          "base_uri": "https://localhost:8080/"
        },
        "id": "mPxGvYzbFL4e",
        "outputId": "85d1e8de-cabc-4d74-8ade-7d1d395aec71"
      },
      "source": [
        "cc"
      ],
      "execution_count": 12,
      "outputs": [
        {
          "output_type": "execute_result",
          "data": {
            "text/plain": [
              "['i', 'to', 'beg', 'life']"
            ]
          },
          "metadata": {},
          "execution_count": 12
        }
      ]
    },
    {
      "cell_type": "code",
      "metadata": {
        "id": "S7o4uqWeFPlr"
      },
      "source": [
        "Write Number in Expanded Form\n",
        "You will be given a number and you will need to return it as a string in Expanded Form. For example:\n",
        "\n",
        "expanded_form(12) # Should return '10 + 2'\n",
        "expanded_form(42) # Should return '40 + 2'\n",
        "expanded_form(70304) # Should return '70000 + 300 + 4'\n",
        "NOTE: All numbers will be whole numbers greater than 0.\n",
        "\n",
        "If you liked this kata, check out part 2!!"
      ],
      "execution_count": null,
      "outputs": []
    },
    {
      "cell_type": "code",
      "metadata": {
        "id": "CxbAsIaJGAtH"
      },
      "source": [
        "def expanded_form(num):\n",
        "  result = []\n",
        "\n",
        "  for index,digit in enumerate(str(num)[::-1]):\n",
        "    if int(digit) != 0:\n",
        "      result.append(digit + ('0' *index))\n",
        "  \n",
        "  return ' + '.join(result[::-1])"
      ],
      "execution_count": 13,
      "outputs": []
    },
    {
      "cell_type": "code",
      "metadata": {
        "colab": {
          "base_uri": "https://localhost:8080/",
          "height": 35
        },
        "id": "E0JLKzTMGr3E",
        "outputId": "1821c113-19cf-40df-8e47-e62b2e125857"
      },
      "source": [
        "expanded_form(22)"
      ],
      "execution_count": 15,
      "outputs": [
        {
          "output_type": "execute_result",
          "data": {
            "application/vnd.google.colaboratory.intrinsic+json": {
              "type": "string"
            },
            "text/plain": [
              "'20 + 2'"
            ]
          },
          "metadata": {},
          "execution_count": 15
        }
      ]
    },
    {
      "cell_type": "code",
      "metadata": {
        "id": "Ucbim3pTGsoz"
      },
      "source": [
        ""
      ],
      "execution_count": null,
      "outputs": []
    }
  ]
}