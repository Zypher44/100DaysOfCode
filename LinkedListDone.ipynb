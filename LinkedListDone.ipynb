{
  "nbformat": 4,
  "nbformat_minor": 0,
  "metadata": {
    "colab": {
      "name": "LinkedListDone.ipynb",
      "provenance": [],
      "authorship_tag": "ABX9TyOP97mKp3812FRkktJe0jgK",
      "include_colab_link": true
    },
    "kernelspec": {
      "name": "python3",
      "display_name": "Python 3"
    },
    "language_info": {
      "name": "python"
    }
  },
  "cells": [
    {
      "cell_type": "markdown",
      "metadata": {
        "id": "view-in-github",
        "colab_type": "text"
      },
      "source": [
        "<a href=\"https://colab.research.google.com/github/Zypher44/100DaysOfCode/blob/main/LinkedListDone.ipynb\" target=\"_parent\"><img src=\"https://colab.research.google.com/assets/colab-badge.svg\" alt=\"Open In Colab\"/></a>"
      ]
    },
    {
      "cell_type": "code",
      "metadata": {
        "id": "CcwQ2UYJ32ab"
      },
      "source": [
        "A linked list is made up of indepented nodes that may contatin any type of data and each node has a reference to the next node in the link \n",
        "Each car is independant(If you look at it like a train)\n",
        "Nodes in linked list are not connected together like a train \n",
        "Last node of linked list is called a tail \n",
        "Nodes will have reference to other nodes behind it \n",
        "O(n) time complexity for finding the tail \n",
        "\n",
        "\n",
        "Why do we use linked list instead of array?\n",
        "each elemenet of linked list is an indepented object, can delete object and linked list will still exist \n",
        "In an array we cant delete cells, only the values cell at the end will be empty \n",
        "\n",
        "Linked list variable size is not defined at begiging, not predefined no space restrictions \n",
        "In an array we need to declare size of array if capacity is full \n",
        "\n",
        "Inseration and removales of linked list as very efficent \n",
        "Arrays are very time consuming \n",
        "\n"
      ],
      "execution_count": null,
      "outputs": []
    },
    {
      "cell_type": "code",
      "metadata": {
        "id": "Bbg3lxYm6ox0"
      },
      "source": [
        "Types of linked list \n",
        "- Singly Linked list = each node stores data and reference to next node, first part is value of node, second part is reference to next node \n",
        "- Circular Singly Linked list = same as Singly list expect tail references the first node (pyhiscal location)\n",
        "- Double Linked list = Each node has two references, first is reference to pervious node and second is the reference to the next node, can traverse \n",
        "back, Since we know the locations \n",
        "- Circular doubly linked list  - Only difference between double linked list, last node has referene to first node. First node has referene to last \n",
        "node location. Gives us flexability between first and last node \n"
      ],
      "execution_count": null,
      "outputs": []
    },
    {
      "cell_type": "code",
      "metadata": {
        "id": "-QQHJUp-Ahmk"
      },
      "source": [
        "How linked list are stored in memory \n",
        "Arrays are stored next to one another \n",
        "Linked list are not sorted next to one another they all over the place "
      ],
      "execution_count": null,
      "outputs": []
    },
    {
      "cell_type": "code",
      "metadata": {
        "id": "404RUSmiBQVD"
      },
      "source": [
        "Creating a Singly linked list \n",
        "Create head and Tail initialize with null \n",
        "Create a blank node and assign a value to it and reference to null\n",
        "Link head and tail with these nodes\n",
        "\n"
      ],
      "execution_count": null,
      "outputs": []
    },
    {
      "cell_type": "code",
      "metadata": {
        "id": "g2Tyt_apEz8f"
      },
      "source": [
        "class Node:\n",
        "  def __init__(self,value=None):\n",
        "    self.value = value #O(1) time complexity \n",
        "    self.next = None \n",
        "\n",
        "class Slinkedlist:\n",
        "  def __init__(self):\n",
        "    self.head=None #O(1) time complexity  \n",
        "    self.tail=None #O(1) time complexity \n",
        "  \n",
        "  def __iter__(self):\n",
        "    node = self.head\n",
        "    while node:\n",
        "      yield node\n",
        "      node = node.next\n",
        "\n",
        "      #Insert a linked list\n",
        "  def insertSLL(self,value,location):\n",
        "    newNode = Node(value)\n",
        "    if self.head is None:\n",
        "      self.head = newNode\n",
        "      self.tail = newNode\n",
        "    \n",
        "    else:\n",
        "      if location == 0:\n",
        "        newNode.next = self.head\n",
        "        self.head = newNode\n",
        "      \n",
        "      elif location == 1:\n",
        "        newNode.next = Node\n",
        "        self.tail.next = newNode #lionk between last node and new node\n",
        "        self.tail = newNode \n",
        "      \n",
        "      else:\n",
        "        tempNode = self.head\n",
        "        index = 0\n",
        "        while index < location -1 :\n",
        "          tempNode = tempNode.next\n",
        "          index += 1 #Helps find current element \n",
        "        nextNode = tempNode.next\n",
        "        tempNode.next = newNode\n",
        "        newNode.next = nextNode\n",
        "\n",
        "\n",
        "\n",
        "singlylinkedlist = Slinkedlist()\n",
        "node1 = node(1)\n",
        "node2 = node(2)\n",
        "\n",
        "\n",
        "singlylinkedlist.head = node1 ##O(1) time complexity \n",
        "singlylinkedlist.head.next = node2 #O(1) time complexity \n",
        "singlylinkedlist.tail = node2 #O(1) time complexity \n",
        "\n",
        "#Space complexity = O(1)\n"
      ],
      "execution_count": 2,
      "outputs": []
    },
    {
      "cell_type": "code",
      "metadata": {
        "id": "xISHLIu_CwBr"
      },
      "source": [
        "Most effective way to add new element to the begiing of linked list is the most efficent \n",
        "print()"
      ],
      "execution_count": null,
      "outputs": []
    }
  ]
}