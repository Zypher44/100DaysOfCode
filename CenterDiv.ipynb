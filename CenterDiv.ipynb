{
  "nbformat": 4,
  "nbformat_minor": 0,
  "metadata": {
    "colab": {
      "name": "CenterDiv.ipynb",
      "provenance": [],
      "authorship_tag": "ABX9TyNZ4tdXG97aKFi9HpuFxZtD",
      "include_colab_link": true
    },
    "kernelspec": {
      "name": "python3",
      "display_name": "Python 3"
    },
    "language_info": {
      "name": "python"
    }
  },
  "cells": [
    {
      "cell_type": "markdown",
      "metadata": {
        "id": "view-in-github",
        "colab_type": "text"
      },
      "source": [
        "<a href=\"https://colab.research.google.com/github/Zypher44/100DaysOfCode/blob/main/CenterDiv.ipynb\" target=\"_parent\"><img src=\"https://colab.research.google.com/assets/colab-badge.svg\" alt=\"Open In Colab\"/></a>"
      ]
    },
    {
      "cell_type": "code",
      "execution_count": null,
      "metadata": {
        "id": "dprHk3edZuJB"
      },
      "outputs": [],
      "source": [
        "<!DOCTYPE html>\n",
        "<html lang=\"en\">\n",
        "<head>\n",
        "  <meta charset=\"UTF-8\">\n",
        "  <meta http-equiv=\"X-UA-Compatible\" content=\"IE=edge\">\n",
        "  <meta name=\"viewport\" content=\"width=device-width, initial-scale=1.0\">\n",
        "  <title>CENTER THIS DIV</title>\n",
        "  <link rel=\"stylesheet\" href=\"style.css\">\n",
        "</head>\n",
        "<body>\n",
        "  <div class=\"container\">\n",
        "    <div class=\"box\">center this div</div>\n",
        "  </div>\n",
        "</body>\n",
        "</html>"
      ]
    },
    {
      "cell_type": "code",
      "source": [
        ".container {\n",
        "  background: dodgerblue;\n",
        "  border: 4px solid midnightblue;\n",
        "  width: 400px;\n",
        "  height: 300px;\n",
        "  display: flex;\n",
        "  align-items: center;\n",
        "  justify-content: center;\n",
        "\n",
        "\n",
        "\n",
        "}\n",
        "\n",
        ".box {\n",
        "  background: palevioletred;\n",
        "  font-weight: bold;\n",
        "  text-align: center;\n",
        "  border: 6px solid maroon;\n",
        "  width: 80px;\n",
        "  height: 80px;\n",
        "\n",
        "}"
      ],
      "metadata": {
        "id": "MU4tR3D_Z4Cy"
      },
      "execution_count": null,
      "outputs": []
    }
  ]
}