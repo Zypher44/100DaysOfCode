{
  "nbformat": 4,
  "nbformat_minor": 0,
  "metadata": {
    "colab": {
      "name": "CodeWarsss.ipynb",
      "provenance": [],
      "authorship_tag": "ABX9TyNdAn/1E1B1R7PjYkdpKEwL",
      "include_colab_link": true
    },
    "kernelspec": {
      "name": "python3",
      "display_name": "Python 3"
    },
    "language_info": {
      "name": "python"
    }
  },
  "cells": [
    {
      "cell_type": "markdown",
      "metadata": {
        "id": "view-in-github",
        "colab_type": "text"
      },
      "source": [
        "<a href=\"https://colab.research.google.com/github/Zypher44/100DaysOfCode/blob/main/CodeWarsss.ipynb\" target=\"_parent\"><img src=\"https://colab.research.google.com/assets/colab-badge.svg\" alt=\"Open In Colab\"/></a>"
      ]
    },
    {
      "cell_type": "code",
      "metadata": {
        "id": "KqRphn7KVe8I"
      },
      "source": [
        "Complete the function that accepts a string parameter, and reverses each word in the string. All spaces in the string should be retained.\n",
        "\n",
        "Examples\n",
        "\"This is an example!\" ==> \"sihT si na !elpmaxe\"\n",
        "\"double  spaces\"      ==> \"elbuod  secaps\""
      ],
      "execution_count": null,
      "outputs": []
    },
    {
      "cell_type": "code",
      "metadata": {
        "id": "hleTtKR6Vaai"
      },
      "source": [
        "def reverse(sentence):\n",
        "  #Splitting sentence into list of words\n",
        "  words= sentence.split(\" \")\n",
        "  #Reversing each word and creating a new list of words\n",
        "  newWords = [word[::-1]for word in words]\n",
        "  #Joing the new list of words, for a new sentence \n",
        "  newSentence = ' '.join(newWords)\n",
        "\n",
        "  return newSentence\n",
        "\n"
      ],
      "execution_count": 12,
      "outputs": []
    },
    {
      "cell_type": "code",
      "metadata": {
        "id": "li7jnPL2WQOr"
      },
      "source": [
        "test= 'This is an example'"
      ],
      "execution_count": 13,
      "outputs": []
    },
    {
      "cell_type": "code",
      "metadata": {
        "colab": {
          "base_uri": "https://localhost:8080/",
          "height": 35
        },
        "id": "kXpbajGuWXsd",
        "outputId": "21090e55-bdc8-4edd-ea68-32f62c161cdb"
      },
      "source": [
        "reverse(test)"
      ],
      "execution_count": 14,
      "outputs": [
        {
          "output_type": "execute_result",
          "data": {
            "application/vnd.google.colaboratory.intrinsic+json": {
              "type": "string"
            },
            "text/plain": [
              "'sihT si na elpmaxe'"
            ]
          },
          "metadata": {},
          "execution_count": 14
        }
      ]
    },
    {
      "cell_type": "code",
      "metadata": {
        "colab": {
          "base_uri": "https://localhost:8080/"
        },
        "id": "4BL6TOS5W4on",
        "outputId": "0e68b41e-ec47-4ca2-b3da-ef9f1c63ba75"
      },
      "source": [
        "type(test)"
      ],
      "execution_count": 9,
      "outputs": [
        {
          "output_type": "execute_result",
          "data": {
            "text/plain": [
              "str"
            ]
          },
          "metadata": {},
          "execution_count": 9
        }
      ]
    },
    {
      "cell_type": "code",
      "metadata": {
        "id": "VzinpClAXeIa"
      },
      "source": [
        "Your job is to write a function which increments a string, to create a new string.\n",
        "\n",
        "If the string already ends with a number, the number should be incremented by 1.\n",
        "If the string does not end with a number. the number 1 should be appended to the new string.\n",
        "Examples:\n",
        "\n",
        "foo -> foo1\n",
        "\n",
        "foobar23 -> foobar24\n",
        "\n",
        "foo0042 -> foo0043\n",
        "\n",
        "foo9 -> foo10\n",
        "\n",
        "foo099 -> foo100\n",
        "\n",
        "Attention: If the number has leading zeros the amount of digits should be considered."
      ],
      "execution_count": null,
      "outputs": []
    },
    {
      "cell_type": "code",
      "metadata": {
        "id": "6AkPOpWTYIea"
      },
      "source": [
        "import re \n",
        "\n",
        "c = re.compile(r'\\d+$')"
      ],
      "execution_count": 46,
      "outputs": []
    },
    {
      "cell_type": "code",
      "metadata": {
        "colab": {
          "base_uri": "https://localhost:8080/"
        },
        "id": "Smh_4q0BaHrU",
        "outputId": "df7b80b2-ddd5-4631-c899-8d71c887e2c7"
      },
      "source": [
        "text = 'foo1'\n",
        "dc = c.findall(text)\n",
        "type(dc)"
      ],
      "execution_count": 48,
      "outputs": [
        {
          "output_type": "execute_result",
          "data": {
            "text/plain": [
              "list"
            ]
          },
          "metadata": {},
          "execution_count": 48
        }
      ]
    },
    {
      "cell_type": "code",
      "metadata": {
        "colab": {
          "base_uri": "https://localhost:8080/",
          "height": 163
        },
        "id": "qMbuscaRaQ9f",
        "outputId": "19c76593-c74f-4693-9b68-de0c1dd6c4c6"
      },
      "source": [
        "int(dc)"
      ],
      "execution_count": 51,
      "outputs": [
        {
          "output_type": "error",
          "ename": "TypeError",
          "evalue": "ignored",
          "traceback": [
            "\u001b[0;31m---------------------------------------------------------------------------\u001b[0m",
            "\u001b[0;31mTypeError\u001b[0m                                 Traceback (most recent call last)",
            "\u001b[0;32m<ipython-input-51-b1b73497e6f2>\u001b[0m in \u001b[0;36m<module>\u001b[0;34m()\u001b[0m\n\u001b[0;32m----> 1\u001b[0;31m \u001b[0mint\u001b[0m\u001b[0;34m(\u001b[0m\u001b[0mdc\u001b[0m\u001b[0;34m)\u001b[0m\u001b[0;34m\u001b[0m\u001b[0;34m\u001b[0m\u001b[0m\n\u001b[0m",
            "\u001b[0;31mTypeError\u001b[0m: int() argument must be a string, a bytes-like object or a number, not 'list'"
          ]
        }
      ]
    },
    {
      "cell_type": "code",
      "metadata": {
        "id": "inS4GsrLaTp2"
      },
      "source": [
        "m = re.search(r'\\d+$',text)"
      ],
      "execution_count": 37,
      "outputs": []
    },
    {
      "cell_type": "code",
      "metadata": {
        "id": "N1EYtTbkbC7m"
      },
      "source": [
        "m = text[-1].isdigit()\n",
        "c = []\n",
        "if m == True:\n",
        "   c.append(text)\n",
        "else:\n",
        "  print(\"False\")"
      ],
      "execution_count": 59,
      "outputs": []
    },
    {
      "cell_type": "code",
      "metadata": {
        "colab": {
          "base_uri": "https://localhost:8080/"
        },
        "id": "GnUMAJK8bDSg",
        "outputId": "178d9dd3-e9a1-46bf-da49-feb5098cd397"
      },
      "source": [
        "for i in range(len(c)):\n",
        "  print(i)"
      ],
      "execution_count": 78,
      "outputs": [
        {
          "output_type": "stream",
          "name": "stdout",
          "text": [
            "0\n"
          ]
        }
      ]
    },
    {
      "cell_type": "code",
      "metadata": {
        "colab": {
          "base_uri": "https://localhost:8080/",
          "height": 35
        },
        "id": "JPFUnrq5bVW8",
        "outputId": "620c07d3-8105-4369-853e-f3a6a602f808"
      },
      "source": [
        "c[0]"
      ],
      "execution_count": 75,
      "outputs": [
        {
          "output_type": "execute_result",
          "data": {
            "application/vnd.google.colaboratory.intrinsic+json": {
              "type": "string"
            },
            "text/plain": [
              "'foo1'"
            ]
          },
          "metadata": {},
          "execution_count": 75
        }
      ]
    },
    {
      "cell_type": "code",
      "metadata": {
        "colab": {
          "base_uri": "https://localhost:8080/"
        },
        "id": "yVttzZ0tgBo7",
        "outputId": "63d39480-8d51-4432-9e71-b0c87a60d46a"
      },
      "source": [
        "dc\n"
      ],
      "execution_count": 73,
      "outputs": [
        {
          "output_type": "execute_result",
          "data": {
            "text/plain": [
              "['foo1']"
            ]
          },
          "metadata": {},
          "execution_count": 73
        }
      ]
    },
    {
      "cell_type": "code",
      "metadata": {
        "id": "PUhIZupOgIHc"
      },
      "source": [
        "cc = 'foo1'"
      ],
      "execution_count": 79,
      "outputs": []
    },
    {
      "cell_type": "code",
      "metadata": {
        "id": "2D2czDQ0hP6r"
      },
      "source": [
        "dc = int(cc[-1])"
      ],
      "execution_count": 82,
      "outputs": []
    },
    {
      "cell_type": "code",
      "metadata": {
        "id": "oEznSA96hQ3Q"
      },
      "source": [
        "dc = dc + 1"
      ],
      "execution_count": 87,
      "outputs": []
    },
    {
      "cell_type": "code",
      "metadata": {
        "colab": {
          "base_uri": "https://localhost:8080/"
        },
        "id": "2j2jk6VQhUfG",
        "outputId": "20982587-1572-46af-f016-961df9939a96"
      },
      "source": [
        "print(cc+str(dc))"
      ],
      "execution_count": 88,
      "outputs": [
        {
          "output_type": "stream",
          "name": "stdout",
          "text": [
            "foo12\n"
          ]
        }
      ]
    },
    {
      "cell_type": "code",
      "metadata": {
        "id": "wS2YBYNQhX4X"
      },
      "source": [
        "fouror6 = re.compile(r'\\b\\d{4,6}\\b')"
      ],
      "execution_count": 115,
      "outputs": []
    },
    {
      "cell_type": "code",
      "metadata": {
        "id": "CjRNM42ViSzg"
      },
      "source": [
        "text = '1234a'\n",
        "\n",
        "c = fouror6.search(text)"
      ],
      "execution_count": 165,
      "outputs": []
    },
    {
      "cell_type": "code",
      "metadata": {
        "colab": {
          "base_uri": "https://localhost:8080/"
        },
        "id": "pKosJbZfifEl",
        "outputId": "c1aeafe2-a901-4d39-ab34-65db64982732"
      },
      "source": [
        "len(c.group())"
      ],
      "execution_count": 151,
      "outputs": [
        {
          "output_type": "execute_result",
          "data": {
            "text/plain": [
              "4"
            ]
          },
          "metadata": {},
          "execution_count": 151
        }
      ]
    },
    {
      "cell_type": "code",
      "metadata": {
        "colab": {
          "base_uri": "https://localhost:8080/",
          "height": 129
        },
        "id": "ELwQdWxIifQP",
        "outputId": "279cb761-d7c4-4c23-fad9-48f7931049d4"
      },
      "source": [
        "ATM machines allow 4 or 6 digit PIN codes and PIN codes cannot contain anything but exactly 4 digits or exactly 6 digits.\n",
        "\n",
        "If the function is passed a valid PIN string, return true, else return false.\n",
        "\n",
        "Examples\n",
        "\"1234\"   -->  true\n",
        "\"12345\"  -->  false\n",
        "\"a234\"   -->  false"
      ],
      "execution_count": 133,
      "outputs": [
        {
          "output_type": "error",
          "ename": "SyntaxError",
          "evalue": "ignored",
          "traceback": [
            "\u001b[0;36m  File \u001b[0;32m\"<ipython-input-133-f99ecdd3ca8d>\"\u001b[0;36m, line \u001b[0;32m1\u001b[0m\n\u001b[0;31m    ATM machines allow 4 or 6 digit PIN codes and PIN codes cannot contain anything but exactly 4 digits or exactly 6 digits.\u001b[0m\n\u001b[0m               ^\u001b[0m\n\u001b[0;31mSyntaxError\u001b[0m\u001b[0;31m:\u001b[0m invalid syntax\n"
          ]
        }
      ]
    },
    {
      "cell_type": "code",
      "metadata": {
        "id": "ypU2Z2JRjOkF"
      },
      "source": [
        "import re \n",
        "def validatePin(pin):\n",
        "  fouror6 = re.compile(r'\\b\\d{4,6}\\b')\n",
        "  lookingForchars = re.compile(r'[A-Za-z]')\n",
        "  c = fouror6.search(pin)\n",
        "  c = filter(None,c)\n",
        "  d = lookingForchars.search(pin)\n",
        "  if len(c.group()) == 4:\n",
        "    return True\n",
        "  elif len(c.group()) ==6:\n",
        "    return True\n",
        "  elif len(c.group()) <= 5:\n",
        "    return False\n",
        "  elif len(c.group()) <= 3:\n",
        "    return False\n",
        "  elif len(d.group()) >= 1:\n",
        "    return False\n",
        "  "
      ],
      "execution_count": 213,
      "outputs": []
    },
    {
      "cell_type": "code",
      "metadata": {
        "id": "pcNHoaqNmh5b"
      },
      "source": [
        "import re\n",
        "def checkpin(pin):\n",
        "  fouror6 = re.compile(r'\\b\\d{4,6}\\b')\n",
        "  nondigits = re.compile(r'/D{,10}')\n",
        "  c = fouror6.search(pin)\n",
        "  non = nondigits.search(pin)\n",
        "  try:\n",
        "    if len(non.group()) > 1:\n",
        "      print(len(non.group()))\n",
        "      return len(non.group()),False\n",
        "    elif len(c.group()) ==4:\n",
        "      return True\n",
        "    elif len(c.group()) == 6:\n",
        "      return True\n",
        "    elif len(c.group()) == 5:\n",
        "      return False\n",
        "  except:\n",
        "        return False"
      ],
      "execution_count": 310,
      "outputs": []
    },
    {
      "cell_type": "code",
      "metadata": {
        "colab": {
          "base_uri": "https://localhost:8080/"
        },
        "id": "m_DbMRi6t-os",
        "outputId": "adb8e9a1-7efe-4270-d96b-eaca688abd55"
      },
      "source": [
        "\n",
        "text1 = \"1111\"\n",
        "checkpin(text1)"
      ],
      "execution_count": 311,
      "outputs": [
        {
          "output_type": "execute_result",
          "data": {
            "text/plain": [
              "False"
            ]
          },
          "metadata": {},
          "execution_count": 311
        }
      ]
    },
    {
      "cell_type": "code",
      "metadata": {
        "id": "I3zcMzSG0bST"
      },
      "source": [
        "def checks(pin):\n",
        "  fouror6 = re.compile(r'\\b\\d{4,6}\\b')\n",
        "  nondigits = re.compile(r'\\D{,10}|\\.')\n",
        "  c = fouror6.search(pin)\n",
        "  non = nondigits.search(pin)\n",
        "  try:\n",
        "    if len(non.group()) > 0:\n",
        "      return False\n",
        "    elif len(c.group()) ==4:\n",
        "      return True\n",
        "    elif len(c.group()) ==6:\n",
        "      return True\n",
        "    elif len(c.group()) == 5:\n",
        "      return False \n",
        "  except:\n",
        "    return False\n"
      ],
      "execution_count": 477,
      "outputs": []
    },
    {
      "cell_type": "code",
      "metadata": {
        "colab": {
          "base_uri": "https://localhost:8080/"
        },
        "id": "HktaF6Rk0bQh",
        "outputId": "ebc0b5a9-5c9d-4bec-fa66-5ec7276ca34c"
      },
      "source": [
        "text1 = '1111'\n",
        "checks(text1)"
      ],
      "execution_count": 478,
      "outputs": [
        {
          "output_type": "execute_result",
          "data": {
            "text/plain": [
              "True"
            ]
          },
          "metadata": {},
          "execution_count": 478
        }
      ]
    },
    {
      "cell_type": "code",
      "metadata": {
        "colab": {
          "base_uri": "https://localhost:8080/"
        },
        "id": "C5_Zjswf0bO4",
        "outputId": "9301696a-bc8d-40b0-af44-8cfef494909f"
      },
      "source": [
        "checks('12340')"
      ],
      "execution_count": 481,
      "outputs": [
        {
          "output_type": "execute_result",
          "data": {
            "text/plain": [
              "False"
            ]
          },
          "metadata": {},
          "execution_count": 481
        }
      ]
    },
    {
      "cell_type": "code",
      "metadata": {
        "id": "ZzwWiYMv0bNG"
      },
      "source": [
        ""
      ],
      "execution_count": null,
      "outputs": []
    },
    {
      "cell_type": "code",
      "metadata": {
        "id": "TTBlUkbe0bLT"
      },
      "source": [
        ""
      ],
      "execution_count": null,
      "outputs": []
    },
    {
      "cell_type": "code",
      "metadata": {
        "id": "Ei21Fu9a0bIN"
      },
      "source": [
        ""
      ],
      "execution_count": null,
      "outputs": []
    },
    {
      "cell_type": "code",
      "metadata": {
        "id": "Ry14_QGr0bFv"
      },
      "source": [
        ""
      ],
      "execution_count": null,
      "outputs": []
    },
    {
      "cell_type": "code",
      "metadata": {
        "id": "WTtqLpyy0bDU"
      },
      "source": [
        ""
      ],
      "execution_count": null,
      "outputs": []
    },
    {
      "cell_type": "code",
      "metadata": {
        "id": "VVqjn9Odt-mX"
      },
      "source": [
        "nondigits = re.compile(r'\\D{,10}|\\.')"
      ],
      "execution_count": 450,
      "outputs": []
    },
    {
      "cell_type": "code",
      "metadata": {
        "id": "_HFkUi35t-jX"
      },
      "source": [
        "non = nondigits.search('1233:0')"
      ],
      "execution_count": 474,
      "outputs": []
    },
    {
      "cell_type": "code",
      "metadata": {
        "colab": {
          "base_uri": "https://localhost:8080/",
          "height": 163
        },
        "id": "nQSicp6rt-gr",
        "outputId": "48d4d213-5f98-4049-f074-42317646062b"
      },
      "source": [
        "len(non.group())"
      ],
      "execution_count": 476,
      "outputs": [
        {
          "output_type": "error",
          "ename": "AttributeError",
          "evalue": "ignored",
          "traceback": [
            "\u001b[0;31m---------------------------------------------------------------------------\u001b[0m",
            "\u001b[0;31mAttributeError\u001b[0m                            Traceback (most recent call last)",
            "\u001b[0;32m<ipython-input-476-36c463afb1c8>\u001b[0m in \u001b[0;36m<module>\u001b[0;34m()\u001b[0m\n\u001b[0;32m----> 1\u001b[0;31m \u001b[0mlen\u001b[0m\u001b[0;34m(\u001b[0m\u001b[0mnon\u001b[0m\u001b[0;34m.\u001b[0m\u001b[0mgroup\u001b[0m\u001b[0;34m(\u001b[0m\u001b[0;34m)\u001b[0m\u001b[0;34m)\u001b[0m\u001b[0;34m\u001b[0m\u001b[0;34m\u001b[0m\u001b[0m\n\u001b[0m",
            "\u001b[0;31mAttributeError\u001b[0m: 'NoneType' object has no attribute 'group'"
          ]
        }
      ]
    },
    {
      "cell_type": "code",
      "metadata": {
        "colab": {
          "base_uri": "https://localhost:8080/"
        },
        "id": "RhJTbpB8t-aE",
        "outputId": "99a662ac-f95b-4ed5-c31a-f60e149e912f"
      },
      "source": [
        "len(non.group())"
      ],
      "execution_count": 413,
      "outputs": [
        {
          "output_type": "execute_result",
          "data": {
            "text/plain": [
              "1"
            ]
          },
          "metadata": {},
          "execution_count": 413
        }
      ]
    },
    {
      "cell_type": "code",
      "metadata": {
        "id": "Sd-28Llnt-YZ"
      },
      "source": [
        ""
      ],
      "execution_count": null,
      "outputs": []
    },
    {
      "cell_type": "code",
      "metadata": {
        "id": "G7VEi79bmjQg"
      },
      "source": [
        "lookingForchars = re.compile(r'[A-Za-z]')"
      ],
      "execution_count": 161,
      "outputs": []
    },
    {
      "cell_type": "code",
      "metadata": {
        "id": "ikJHEBM9nEn0"
      },
      "source": [
        "cd = lookingForchars.search(text)"
      ],
      "execution_count": 166,
      "outputs": []
    },
    {
      "cell_type": "code",
      "metadata": {
        "colab": {
          "base_uri": "https://localhost:8080/",
          "height": 35
        },
        "id": "1io8rUDenG2o",
        "outputId": "34dc2184-a9ca-4318-bf3e-511a783d5da2"
      },
      "source": [
        "cd.group()"
      ],
      "execution_count": 169,
      "outputs": [
        {
          "output_type": "execute_result",
          "data": {
            "application/vnd.google.colaboratory.intrinsic+json": {
              "type": "string"
            },
            "text/plain": [
              "'a'"
            ]
          },
          "metadata": {},
          "execution_count": 169
        }
      ]
    },
    {
      "cell_type": "code",
      "metadata": {
        "colab": {
          "base_uri": "https://localhost:8080/"
        },
        "id": "0gbPzuXQo6YX",
        "outputId": "b4d55b77-2cb9-4d34-b483-05d7cda62408"
      },
      "source": [
        "len(cd.group())"
      ],
      "execution_count": 171,
      "outputs": [
        {
          "output_type": "execute_result",
          "data": {
            "text/plain": [
              "1"
            ]
          },
          "metadata": {},
          "execution_count": 171
        }
      ]
    },
    {
      "cell_type": "code",
      "metadata": {
        "colab": {
          "base_uri": "https://localhost:8080/"
        },
        "id": "nvZ2uIaepD28",
        "outputId": "2ee28527-be02-47fe-c2fa-bc6fffa40af3"
      },
      "source": [
        "filter(None,text)"
      ],
      "execution_count": 211,
      "outputs": [
        {
          "output_type": "execute_result",
          "data": {
            "text/plain": [
              "<filter at 0x7f71cb479cd0>"
            ]
          },
          "metadata": {},
          "execution_count": 211
        }
      ]
    },
    {
      "cell_type": "code",
      "metadata": {
        "id": "9lpypn-hsslH"
      },
      "source": [
        ""
      ],
      "execution_count": null,
      "outputs": []
    }
  ]
}