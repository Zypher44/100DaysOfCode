{
  "nbformat": 4,
  "nbformat_minor": 0,
  "metadata": {
    "colab": {
      "name": "Queue.ipynb",
      "provenance": [],
      "authorship_tag": "ABX9TyN/Wo73DlYm/B8KUMnTr2r0",
      "include_colab_link": true
    },
    "kernelspec": {
      "name": "python3",
      "display_name": "Python 3"
    },
    "language_info": {
      "name": "python"
    }
  },
  "cells": [
    {
      "cell_type": "markdown",
      "metadata": {
        "id": "view-in-github",
        "colab_type": "text"
      },
      "source": [
        "<a href=\"https://colab.research.google.com/github/Zypher44/100DaysOfCode/blob/main/Queue.ipynb\" target=\"_parent\"><img src=\"https://colab.research.google.com/assets/colab-badge.svg\" alt=\"Open In Colab\"/></a>"
      ]
    },
    {
      "cell_type": "code",
      "metadata": {
        "id": "rSSZ_2A14AnW"
      },
      "source": [
        "Queue is a data structure that stores items in a first in first out manner FIFO\n",
        "- Point of sale system of a restarunt \n",
        "- Printer Queue \n",
        "\n",
        "Queue Operations \n",
        "- Create Queue = []\n",
        "- Enqueue = custom.enqueue(1) = [1]\n",
        "- Dequeue = custom.dequeue() = returns first element in list removes from memory\n",
        "- Peek = custom.peek() = returns first element but does not remove from memory\n",
        "- isEmpty =custom.isEmpty() = returns True or False\n",
        "- isFull = custom.isFull() = returns True or False\n",
        "- deleteQueue = custom.delete() = returns empty queue \n",
        "\n",
        "Implemention \n",
        "python = with and without capacity(circular Queue)\n",
        "Linked list "
      ],
      "execution_count": null,
      "outputs": []
    },
    {
      "cell_type": "code",
      "metadata": {
        "id": "yf1NyJ6vfK42"
      },
      "source": [
        "#Queue no size \n",
        "\n",
        "class Queue:\n",
        "  \n",
        "  def __init__(self):\n",
        "    self.items = [] # Time complexity and space complexity is O(1)\n",
        "\n",
        "  def __str__(self):\n",
        "    values = [str(x) for x in self.items]\n",
        "    return ' '.join(values)\n",
        "\n",
        "  def isEmpty(self): #Time complexity O(1) since we are checking over the list\n",
        "    if self.items == []:\n",
        "      return True\n",
        "    else:\n",
        "      return False\n",
        "  \n",
        "  def enqueue(self,value): # Time complexity O(n) | O(n^2) space complexity is O(1)\n",
        "    self.items.append(value)\n",
        "    return \"The elemet is inserted at the end of queue\"\n",
        "\n",
        "  def dequeue(self):\n",
        "    if self.isEmpty():\n",
        "      return 'No element in queue'\n",
        "    else:\n",
        "      return self.items.pop(0) #Remeoves first element in list # Time complexity O(n) | O(n^2) space complexity is O(1)\n",
        "  \n",
        "  def peek(self):\n",
        "    if self.isEmpty():\n",
        "      return \"No elemnt in queue\"\n",
        "    else:\n",
        "      return self.items[0] #Time complexity O(1) since we are checking over the list Space also O(1)\n",
        "  \n",
        "  def delete(self): #Time complexity O(1) since we are checking over the list Space also O(1)\n",
        "    self.items = None"
      ],
      "execution_count": 17,
      "outputs": []
    },
    {
      "cell_type": "code",
      "metadata": {
        "id": "RoyQZUJggTEV"
      },
      "source": [
        "cq = Queue()"
      ],
      "execution_count": 18,
      "outputs": []
    },
    {
      "cell_type": "code",
      "metadata": {
        "colab": {
          "base_uri": "https://localhost:8080/"
        },
        "id": "26rjM2ptgVbI",
        "outputId": "4a88cf5a-30dd-4dce-d63e-f364ede483e5"
      },
      "source": [
        "print(cq.isEmpty())"
      ],
      "execution_count": 19,
      "outputs": [
        {
          "output_type": "stream",
          "name": "stdout",
          "text": [
            "True\n"
          ]
        }
      ]
    },
    {
      "cell_type": "code",
      "metadata": {
        "colab": {
          "base_uri": "https://localhost:8080/",
          "height": 35
        },
        "id": "qIGu9b7fgXIx",
        "outputId": "bba4ee1f-e92e-4758-d58e-a065fdc708ea"
      },
      "source": [
        "cq.enqueue(1)\n",
        "cq.enqueue(13)\n",
        "cq.enqueue(11)\n"
      ],
      "execution_count": 20,
      "outputs": [
        {
          "output_type": "execute_result",
          "data": {
            "application/vnd.google.colaboratory.intrinsic+json": {
              "type": "string"
            },
            "text/plain": [
              "'The elemet is inserted at the end of queue'"
            ]
          },
          "metadata": {},
          "execution_count": 20
        }
      ]
    },
    {
      "cell_type": "code",
      "metadata": {
        "colab": {
          "base_uri": "https://localhost:8080/"
        },
        "id": "IQEuYAOBga7O",
        "outputId": "e4d84086-5eb1-4134-c278-23c370529c4a"
      },
      "source": [
        "print(cq)"
      ],
      "execution_count": 21,
      "outputs": [
        {
          "output_type": "stream",
          "name": "stdout",
          "text": [
            "1 13 11\n"
          ]
        }
      ]
    },
    {
      "cell_type": "code",
      "metadata": {
        "colab": {
          "base_uri": "https://localhost:8080/"
        },
        "id": "MK21BDozgcbz",
        "outputId": "90eca95d-ff71-4bb2-9d13-59e5aee8ac72"
      },
      "source": [
        "cq.dequeue()"
      ],
      "execution_count": 22,
      "outputs": [
        {
          "output_type": "execute_result",
          "data": {
            "text/plain": [
              "1"
            ]
          },
          "metadata": {},
          "execution_count": 22
        }
      ]
    },
    {
      "cell_type": "code",
      "metadata": {
        "colab": {
          "base_uri": "https://localhost:8080/"
        },
        "id": "KpsJBBLig6j5",
        "outputId": "40e3d7d3-e6ad-4b9a-fd7a-e243d9e7df86"
      },
      "source": [
        "print(cq)"
      ],
      "execution_count": 23,
      "outputs": [
        {
          "output_type": "stream",
          "name": "stdout",
          "text": [
            "13 11\n"
          ]
        }
      ]
    },
    {
      "cell_type": "code",
      "metadata": {
        "colab": {
          "base_uri": "https://localhost:8080/"
        },
        "id": "7K7SogvGg97U",
        "outputId": "afe5e800-6ea8-4cd6-a17d-9ce93c68c1a0"
      },
      "source": [
        "cq.peek()"
      ],
      "execution_count": 24,
      "outputs": [
        {
          "output_type": "execute_result",
          "data": {
            "text/plain": [
              "13"
            ]
          },
          "metadata": {},
          "execution_count": 24
        }
      ]
    },
    {
      "cell_type": "code",
      "metadata": {
        "colab": {
          "base_uri": "https://localhost:8080/"
        },
        "id": "c4nAHMpNhqV5",
        "outputId": "0f080e2b-ffe9-4aa6-f622-7a8195fa4c40"
      },
      "source": [
        "print(cq)"
      ],
      "execution_count": 25,
      "outputs": [
        {
          "output_type": "stream",
          "name": "stdout",
          "text": [
            "13 11\n"
          ]
        }
      ]
    },
    {
      "cell_type": "code",
      "metadata": {
        "id": "Rz28lERshrSY"
      },
      "source": [
        "cq.delete()"
      ],
      "execution_count": 26,
      "outputs": []
    },
    {
      "cell_type": "code",
      "metadata": {
        "colab": {
          "base_uri": "https://localhost:8080/",
          "height": 282
        },
        "id": "JeEqdmfphsRI",
        "outputId": "77474894-3adf-407f-d318-8c2e1a7eab45"
      },
      "source": [
        "print(cq)"
      ],
      "execution_count": 28,
      "outputs": [
        {
          "output_type": "error",
          "ename": "TypeError",
          "evalue": "ignored",
          "traceback": [
            "\u001b[0;31m---------------------------------------------------------------------------\u001b[0m",
            "\u001b[0;31mTypeError\u001b[0m                                 Traceback (most recent call last)",
            "\u001b[0;32m<ipython-input-28-12cfbbd698d0>\u001b[0m in \u001b[0;36m<module>\u001b[0;34m()\u001b[0m\n\u001b[0;32m----> 1\u001b[0;31m \u001b[0mprint\u001b[0m\u001b[0;34m(\u001b[0m\u001b[0mcq\u001b[0m\u001b[0;34m)\u001b[0m\u001b[0;34m\u001b[0m\u001b[0;34m\u001b[0m\u001b[0m\n\u001b[0m",
            "\u001b[0;32m<ipython-input-17-ec67a062fd50>\u001b[0m in \u001b[0;36m__str__\u001b[0;34m(self)\u001b[0m\n\u001b[1;32m      7\u001b[0m \u001b[0;34m\u001b[0m\u001b[0m\n\u001b[1;32m      8\u001b[0m   \u001b[0;32mdef\u001b[0m \u001b[0m__str__\u001b[0m\u001b[0;34m(\u001b[0m\u001b[0mself\u001b[0m\u001b[0;34m)\u001b[0m\u001b[0;34m:\u001b[0m\u001b[0;34m\u001b[0m\u001b[0;34m\u001b[0m\u001b[0m\n\u001b[0;32m----> 9\u001b[0;31m     \u001b[0mvalues\u001b[0m \u001b[0;34m=\u001b[0m \u001b[0;34m[\u001b[0m\u001b[0mstr\u001b[0m\u001b[0;34m(\u001b[0m\u001b[0mx\u001b[0m\u001b[0;34m)\u001b[0m \u001b[0;32mfor\u001b[0m \u001b[0mx\u001b[0m \u001b[0;32min\u001b[0m \u001b[0mself\u001b[0m\u001b[0;34m.\u001b[0m\u001b[0mitems\u001b[0m\u001b[0;34m]\u001b[0m\u001b[0;34m\u001b[0m\u001b[0;34m\u001b[0m\u001b[0m\n\u001b[0m\u001b[1;32m     10\u001b[0m     \u001b[0;32mreturn\u001b[0m \u001b[0;34m' '\u001b[0m\u001b[0;34m.\u001b[0m\u001b[0mjoin\u001b[0m\u001b[0;34m(\u001b[0m\u001b[0mvalues\u001b[0m\u001b[0;34m)\u001b[0m\u001b[0;34m\u001b[0m\u001b[0;34m\u001b[0m\u001b[0m\n\u001b[1;32m     11\u001b[0m \u001b[0;34m\u001b[0m\u001b[0m\n",
            "\u001b[0;31mTypeError\u001b[0m: 'NoneType' object is not iterable"
          ]
        }
      ]
    },
    {
      "cell_type": "code",
      "metadata": {
        "id": "9KRXfsg-hsjJ"
      },
      "source": [
        "Time and space complexity of Queue operations with Python lists \n",
        "\n",
        "                                                      Time Complexity        Space complexity \n",
        "Create Queue                                           O(1)                     O(1)\n",
        "Enqueue                                                O(n)                     O(1)\n",
        "Dequeue                                                O(n)                     O(1)\n",
        "Peek                                                   O(1)                     O(1)\n",
        "IsEmpty                                                O(1)                     O(1)\n",
        "Delete                                                 O(1)                     O(1)\n",
        "                                                     "
      ],
      "execution_count": null,
      "outputs": []
    },
    {
      "cell_type": "code",
      "metadata": {
        "id": "zvBEqdY2imFB"
      },
      "source": [
        "Queue with fixed capactiy (circular Queue)\n",
        "\n",
        "\n"
      ],
      "execution_count": null,
      "outputs": []
    },
    {
      "cell_type": "code",
      "metadata": {
        "id": "kQ98M1iQkIVu"
      },
      "source": [
        "class fixQueue:\n",
        "  def __init__(self, maxSize): #O(1) time and O(n) space complexity \n",
        "    self.items = maxSize * [None] #Have to set all cells to none\n",
        "    self.maxSize = maxSize\n",
        "    self.start = -1\n",
        "    self.top = -1\n",
        "  \n",
        "  def __str__(self):\n",
        "    values = [str(x) for x in self.items]\n",
        "    return ' '.join(values)\n",
        "  \n",
        "  def isFull(self):#O(1) time and O(1) space complexity \n",
        "    if self.top + 1 == self.start: # no blank cells in list\n",
        "      return True \n",
        "    elif self.start == 0 and self.top +1 == self.maxSize:\n",
        "      return True \n",
        "    else:\n",
        "      return False\n",
        "\n",
        "  def isEmpty(self):#O(1) time and O(1) space complexity \n",
        "    if self.top == -1:\n",
        "      return True \n",
        "    else:\n",
        "      return False \n",
        "\n",
        "  def enqueue(self,value): #O(1) time and O(1) space complexity \n",
        "    if self.isFull():\n",
        "      return \"is full\"\n",
        "    else:\n",
        "      if self.top + 1 == self.maxSize:\n",
        "        self.top=0\n",
        "      else:\n",
        "        self.top += 1\n",
        "        if self.start == -1:\n",
        "          self.start = 0 \n",
        "      self.items[self.top] = value\n",
        "      return 'The elemet is inserated at the end of queue'\n",
        "\n",
        "  def dequeue(self): #O(1) time and O(1) space complexity \n",
        "    if self.isEmpty():\n",
        "      return 'No elemetes in queue'\n",
        "    else:\n",
        "      firstElement = self.items[self.start]\n",
        "      start = self.start\n",
        "      if self.start == self.top:\n",
        "        self.start = -1\n",
        "        self.top = -1\n",
        "      elif self.start + 1 == self.maxSize:\n",
        "        self.start = 0\n",
        "      else:\n",
        "        self.start += 1 \n",
        "      self.items[start] = None\n",
        "      return firstElement \n",
        "\n",
        "  def peek(self):#O(1) time and O(1) space complexity \n",
        "    if self.isEmpty():\n",
        "      return 'It is empty'\n",
        "    else:\n",
        "      return self.items[self.start]\n",
        "  \n",
        "  def delete(self):#O(1) time and O(1) space complexity \n",
        "    self.items = self.maxSize * [None]\n",
        "    self.top = -1\n",
        "    self.start = -1\n"
      ],
      "execution_count": 76,
      "outputs": []
    },
    {
      "cell_type": "code",
      "metadata": {
        "id": "kucU04sdpM1R"
      },
      "source": [
        "fq = fixQueue(3)"
      ],
      "execution_count": 77,
      "outputs": []
    },
    {
      "cell_type": "code",
      "metadata": {
        "colab": {
          "base_uri": "https://localhost:8080/"
        },
        "id": "z0XuguNQpYwv",
        "outputId": "4e79b3b6-186a-4a0e-d471-41958a231637"
      },
      "source": [
        "fq.isEmpty()"
      ],
      "execution_count": 78,
      "outputs": [
        {
          "output_type": "execute_result",
          "data": {
            "text/plain": [
              "True"
            ]
          },
          "metadata": {},
          "execution_count": 78
        }
      ]
    },
    {
      "cell_type": "code",
      "metadata": {
        "colab": {
          "base_uri": "https://localhost:8080/",
          "height": 35
        },
        "id": "squQ_oxxpbgk",
        "outputId": "560cd5af-7591-42d9-e91c-c865165d0bc2"
      },
      "source": [
        "fq.enqueue(23)\n",
        "fq.enqueue(22)\n"
      ],
      "execution_count": 79,
      "outputs": [
        {
          "output_type": "execute_result",
          "data": {
            "application/vnd.google.colaboratory.intrinsic+json": {
              "type": "string"
            },
            "text/plain": [
              "'The elemet is inserated at the end of queue'"
            ]
          },
          "metadata": {},
          "execution_count": 79
        }
      ]
    },
    {
      "cell_type": "code",
      "metadata": {
        "colab": {
          "base_uri": "https://localhost:8080/"
        },
        "id": "1CPYuBTtptjt",
        "outputId": "6b3264ef-0084-4db4-c724-f44e5d1cc98f"
      },
      "source": [
        "print(fq)"
      ],
      "execution_count": 80,
      "outputs": [
        {
          "output_type": "stream",
          "name": "stdout",
          "text": [
            "23 22 None\n"
          ]
        }
      ]
    },
    {
      "cell_type": "code",
      "metadata": {
        "colab": {
          "base_uri": "https://localhost:8080/"
        },
        "id": "V50EelLBpz61",
        "outputId": "6ed75e85-5f4f-42aa-f13f-4edee0aeef5c"
      },
      "source": [
        "fq.isFull()"
      ],
      "execution_count": 81,
      "outputs": [
        {
          "output_type": "execute_result",
          "data": {
            "text/plain": [
              "False"
            ]
          },
          "metadata": {},
          "execution_count": 81
        }
      ]
    },
    {
      "cell_type": "code",
      "metadata": {
        "colab": {
          "base_uri": "https://localhost:8080/"
        },
        "id": "6eP26SZpp2MM",
        "outputId": "07716ccf-2718-4387-f2f9-e42d6dfc3df0"
      },
      "source": [
        "fq.dequeue()"
      ],
      "execution_count": 82,
      "outputs": [
        {
          "output_type": "execute_result",
          "data": {
            "text/plain": [
              "23"
            ]
          },
          "metadata": {},
          "execution_count": 82
        }
      ]
    },
    {
      "cell_type": "code",
      "metadata": {
        "colab": {
          "base_uri": "https://localhost:8080/"
        },
        "id": "6bNVEU33qAuA",
        "outputId": "764be855-6ad7-47da-c654-3200e30383db"
      },
      "source": [
        "print(fq)"
      ],
      "execution_count": 83,
      "outputs": [
        {
          "output_type": "stream",
          "name": "stdout",
          "text": [
            "None 22 None\n"
          ]
        }
      ]
    },
    {
      "cell_type": "code",
      "metadata": {
        "colab": {
          "base_uri": "https://localhost:8080/"
        },
        "id": "HVQLGIaHqBfz",
        "outputId": "ac064fcb-3042-4250-dbec-590665a3d271"
      },
      "source": [
        "fq.peek()"
      ],
      "execution_count": 84,
      "outputs": [
        {
          "output_type": "execute_result",
          "data": {
            "text/plain": [
              "22"
            ]
          },
          "metadata": {},
          "execution_count": 84
        }
      ]
    },
    {
      "cell_type": "code",
      "metadata": {
        "id": "TY9fAkEnqDfx"
      },
      "source": [
        "fq.delete()"
      ],
      "execution_count": 85,
      "outputs": []
    },
    {
      "cell_type": "code",
      "metadata": {
        "colab": {
          "base_uri": "https://localhost:8080/"
        },
        "id": "hT6lTxScqFif",
        "outputId": "d346635b-7767-44e0-bebc-15507e914084"
      },
      "source": [
        "print(fq)"
      ],
      "execution_count": 86,
      "outputs": [
        {
          "output_type": "stream",
          "name": "stdout",
          "text": [
            "None None None\n"
          ]
        }
      ]
    },
    {
      "cell_type": "code",
      "metadata": {
        "id": "4rMhDjuTqGY_"
      },
      "source": [
        "Time and space complexity of Circular Queue operations\n",
        "\n",
        "                                                      Time Complexity        Space complexity \n",
        "Create Queue                                           O(1)                     O(n)\n",
        "Enqueue                                                O(1)                     O(1)\n",
        "Dequeue                                                O(1)                     O(1)\n",
        "Peek                                                   O(1)                     O(1)\n",
        "IsEmpty                                                O(1)                     O(1)\n",
        "Delete                                                 O(1)                     O(1)\n",
        "isFull                                                 O(1)                     O(1)                                                     "
      ],
      "execution_count": 62,
      "outputs": []
    },
    {
      "cell_type": "code",
      "metadata": {
        "id": "_SpoFWWGqhFG"
      },
      "source": [
        "#Queue Using linked list \n",
        "class Node:\n",
        "  def __init__(self,values=None):\n",
        "    self.value = value \n",
        "    self.next = None \n",
        "\n",
        "  def __str__(self):\n",
        "    return str(self.value)\n",
        "  \n",
        "\n",
        "class LinkedList:\n",
        "\n",
        "  def __init__(self):\n",
        "    self.head = None\n",
        "    self.tail = None\n",
        "  \n",
        "  def __iter__(self):\n",
        "    curNode = self.head\n",
        "    while curNode:\n",
        "      yield curNode\n",
        "      curNode = curNode.next\n",
        "\n",
        "\n",
        "class queue: # time complexity is O(1) as well as space complexity O(1)\n",
        "  def __init__(self):\n",
        "    self.linkedlist = LinkedList()\n",
        "    \n",
        "  def __str__(self):\n",
        "    values = [str(x) for x in self.linkedlist]\n",
        "    return ' '.join(values)\n",
        "  \n",
        "  def enqueue(self,value): # time complexity is O(1) as well as space complexity O(1)\n",
        "    newNode = node(value)\n",
        "    if self.linkedlist.head == None:\n",
        "      self.linkedlist.head = newNode\n",
        "      self.linkedlist.tail = newNode\n",
        "    else:\n",
        "      self.linkedlist.tail.next = newNode\n",
        "      self.linkedlist.tail = newNode \n",
        "  \n",
        "  def isEmpty(self): # time complexity is O(1) as well as space complexity O(1)\n",
        "    if self.linkedlist.head == None:\n",
        "      return True \n",
        "    else:\n",
        "      return False \n",
        "  \n",
        "  def dequeue(self):  # time complexity is O(1) as well as space complexity O(1) \n",
        "    if self.isEmpty():\n",
        "      return \"Nothing in queue\"\n",
        "    else:\n",
        "      tempNode = self.linkedlist.head\n",
        "      if self.linkedlist.head == self.linkedlist.tail:\n",
        "        self.linkedlist.head = None\n",
        "        self.linkedlist.tail = None \n",
        "      else:\n",
        "        self.linkedlist.head = self.linkedlist.head.next\n",
        "      return tempNode \n",
        "  \n",
        "  def peek(self): # time complexity is O(1) as well as space complexity O(1)\n",
        "    if self.isEmpty():\n",
        "      return \"Nothing in queue\"\n",
        "    else:\n",
        "      return self.linkedlist.head\n",
        "  \n",
        "  def delete(self):  # time complexity is O(1) as well as space complexity O(1) \n",
        "    self.linkedlist.head = None\n",
        "    self.linkedlist.tail = None "
      ],
      "execution_count": null,
      "outputs": []
    },
    {
      "cell_type": "code",
      "metadata": {
        "id": "Xuqd0qVZSC9b"
      },
      "source": [
        "Time and space complexity of Queue operations using linked List \n",
        "\n",
        "                                                      Time Complexity        Space complexity \n",
        "Create Queue                                           O(1)                     O(1)\n",
        "Enqueue                                                O(1)                     O(1)\n",
        "Dequeue                                                O(1)                     O(1)\n",
        "Peek                                                   O(1)                     O(1)\n",
        "IsEmpty                                                O(1)                     O(1)\n",
        "Delete                                                 O(1)                     O(1)\n",
        "isFull                                                 O(1)                     O(1)"
      ],
      "execution_count": null,
      "outputs": []
    },
    {
      "cell_type": "code",
      "metadata": {
        "id": "ws9EpdoGTbg_"
      },
      "source": [
        "Python Queue modules \n",
        "\n",
        "Collections module\n",
        "Queue Module \n",
        "Multiprocessing Module"
      ],
      "execution_count": null,
      "outputs": []
    },
    {
      "cell_type": "code",
      "metadata": {
        "id": "XKYdoNtaT7Pu"
      },
      "source": [
        "\n",
        "Collections module =  the collections.deque Class \n",
        "methods \n",
        "  -deque()\n",
        "  -append()\n",
        "  -popleft()\n",
        "  -clear()"
      ],
      "execution_count": null,
      "outputs": []
    },
    {
      "cell_type": "code",
      "metadata": {
        "colab": {
          "base_uri": "https://localhost:8080/"
        },
        "id": "g6PKsIUTUc3_",
        "outputId": "8feb7882-96ea-4f72-a47e-4f5ab13279a9"
      },
      "source": [
        "#use collections.deque as FIFO queue \n",
        "\n",
        "from collections import deque\n",
        "\n",
        "cq = deque(maxlen=3)\n",
        "print(cq)\n",
        "\n",
        "cq.append(23)\n",
        "cq.append(44)\n",
        "cq.append(22)"
      ],
      "execution_count": 1,
      "outputs": [
        {
          "output_type": "stream",
          "name": "stdout",
          "text": [
            "deque([], maxlen=3)\n"
          ]
        }
      ]
    },
    {
      "cell_type": "code",
      "metadata": {
        "colab": {
          "base_uri": "https://localhost:8080/"
        },
        "id": "cnzwBsRCUvsa",
        "outputId": "f84c5680-6878-4903-f49c-5f751d78b6a1"
      },
      "source": [
        "print(cq)"
      ],
      "execution_count": 2,
      "outputs": [
        {
          "output_type": "stream",
          "name": "stdout",
          "text": [
            "deque([23, 44, 22], maxlen=3)\n"
          ]
        }
      ]
    },
    {
      "cell_type": "code",
      "metadata": {
        "colab": {
          "base_uri": "https://localhost:8080/"
        },
        "id": "uP7xZRLiUyuZ",
        "outputId": "bb07fdc6-2c7e-45b6-992a-de11aebc3703"
      },
      "source": [
        "print(cq.popleft())"
      ],
      "execution_count": 3,
      "outputs": [
        {
          "output_type": "stream",
          "name": "stdout",
          "text": [
            "23\n"
          ]
        }
      ]
    },
    {
      "cell_type": "code",
      "metadata": {
        "colab": {
          "base_uri": "https://localhost:8080/"
        },
        "id": "BcAO14swU9xx",
        "outputId": "b8bfb0e3-0aaf-4da4-f2fe-01c326eb5066"
      },
      "source": [
        "print(cq)"
      ],
      "execution_count": 5,
      "outputs": [
        {
          "output_type": "stream",
          "name": "stdout",
          "text": [
            "deque([44, 22], maxlen=3)\n"
          ]
        }
      ]
    },
    {
      "cell_type": "code",
      "metadata": {
        "id": "31zxiURVU-uS"
      },
      "source": [
        "cq.clear()"
      ],
      "execution_count": 6,
      "outputs": []
    },
    {
      "cell_type": "code",
      "metadata": {
        "colab": {
          "base_uri": "https://localhost:8080/"
        },
        "id": "xQYYXMaEVD_n",
        "outputId": "e2815405-3ceb-4bb5-d8ca-abdf627455b8"
      },
      "source": [
        "print(cq)"
      ],
      "execution_count": 7,
      "outputs": [
        {
          "output_type": "stream",
          "name": "stdout",
          "text": [
            "deque([], maxlen=3)\n"
          ]
        }
      ]
    },
    {
      "cell_type": "code",
      "metadata": {
        "id": "IyzCxgcyVE0O"
      },
      "source": [
        "Queue Module \n",
        "FIFO queue --- Queue(maxsize=0)\n",
        "LIFO queue --- Stack \n",
        "Priority queue \n",
        "\n",
        "Methods \n",
        "-qsize()\n",
        "-empty()\n",
        "-full()\n",
        "-put()#adding elements at end of queue \n",
        "-get()#removing elements at begiing of queue\n",
        "-task_done()\n",
        "-join()"
      ],
      "execution_count": null,
      "outputs": []
    },
    {
      "cell_type": "code",
      "metadata": {
        "colab": {
          "base_uri": "https://localhost:8080/"
        },
        "id": "QRSwlv8WV6wJ",
        "outputId": "cbbac4c6-6bba-46da-b0bb-a59953a58879"
      },
      "source": [
        "import queue as q \n",
        "\n",
        "cq1 = q.Queue(maxsize=3)\n",
        "print(cq1.qsize())\n"
      ],
      "execution_count": 9,
      "outputs": [
        {
          "output_type": "stream",
          "name": "stdout",
          "text": [
            "0\n"
          ]
        }
      ]
    },
    {
      "cell_type": "code",
      "metadata": {
        "id": "sqOSUpDfWGTy"
      },
      "source": [
        "cq1.put(12)\n",
        "cq1.put(89)\n",
        "cq1.put(45)"
      ],
      "execution_count": 10,
      "outputs": []
    },
    {
      "cell_type": "code",
      "metadata": {
        "colab": {
          "base_uri": "https://localhost:8080/"
        },
        "id": "hhziZtEsWPOc",
        "outputId": "bdc46494-a00b-4b54-a55e-ed16e3b8c54a"
      },
      "source": [
        "cq1"
      ],
      "execution_count": 11,
      "outputs": [
        {
          "output_type": "execute_result",
          "data": {
            "text/plain": [
              "<queue.Queue at 0x7f9b377e3190>"
            ]
          },
          "metadata": {},
          "execution_count": 11
        }
      ]
    },
    {
      "cell_type": "code",
      "metadata": {
        "colab": {
          "base_uri": "https://localhost:8080/"
        },
        "id": "S4PPfjBSWP4d",
        "outputId": "d237fa50-5835-42bb-ad67-413d71c9b200"
      },
      "source": [
        "print(cq1.full())"
      ],
      "execution_count": 17,
      "outputs": [
        {
          "output_type": "stream",
          "name": "stdout",
          "text": [
            "True\n"
          ]
        }
      ]
    },
    {
      "cell_type": "code",
      "metadata": {
        "colab": {
          "base_uri": "https://localhost:8080/"
        },
        "id": "dVSvQOPdWRL-",
        "outputId": "befcf759-35a8-4919-eb2d-817901a201e7"
      },
      "source": [
        "print(cq1.empty())"
      ],
      "execution_count": 18,
      "outputs": [
        {
          "output_type": "stream",
          "name": "stdout",
          "text": [
            "False\n"
          ]
        }
      ]
    },
    {
      "cell_type": "code",
      "metadata": {
        "colab": {
          "base_uri": "https://localhost:8080/"
        },
        "id": "pObuDfPMWcrF",
        "outputId": "49f004a3-1e51-49a6-b25b-0a898ef099a3"
      },
      "source": [
        "cq1.get()"
      ],
      "execution_count": 19,
      "outputs": [
        {
          "output_type": "execute_result",
          "data": {
            "text/plain": [
              "12"
            ]
          },
          "metadata": {},
          "execution_count": 19
        }
      ]
    },
    {
      "cell_type": "code",
      "metadata": {
        "colab": {
          "base_uri": "https://localhost:8080/"
        },
        "id": "_YIZJYH7WfFO",
        "outputId": "aa4e5119-052a-426e-972e-38148bbc46c3"
      },
      "source": [
        "print(cq1.task_done())"
      ],
      "execution_count": 22,
      "outputs": [
        {
          "output_type": "stream",
          "name": "stdout",
          "text": [
            "None\n"
          ]
        }
      ]
    },
    {
      "cell_type": "code",
      "metadata": {
        "id": "wYLKNsNnWga3"
      },
      "source": [
        "#multiprocessing.Queue as a FIFO queue \n",
        "\n",
        "from multiprocessing import Queue\n",
        "\n",
        "customq = Queue(maxsize=3)"
      ],
      "execution_count": 23,
      "outputs": []
    },
    {
      "cell_type": "code",
      "metadata": {
        "id": "mfQo5_5aW4LH"
      },
      "source": [
        "customq.put(12)\n",
        "customq.put(122)"
      ],
      "execution_count": 24,
      "outputs": []
    },
    {
      "cell_type": "code",
      "metadata": {
        "colab": {
          "base_uri": "https://localhost:8080/"
        },
        "id": "MkzJWQt7W9o6",
        "outputId": "b3aa3785-b7f2-4f10-a4f5-643f9918fedb"
      },
      "source": [
        "customq.get()"
      ],
      "execution_count": 25,
      "outputs": [
        {
          "output_type": "execute_result",
          "data": {
            "text/plain": [
              "12"
            ]
          },
          "metadata": {},
          "execution_count": 25
        }
      ]
    },
    {
      "cell_type": "code",
      "metadata": {
        "id": "1mXv0HnDW_g2"
      },
      "source": [
        ""
      ],
      "execution_count": null,
      "outputs": []
    }
  ]
}