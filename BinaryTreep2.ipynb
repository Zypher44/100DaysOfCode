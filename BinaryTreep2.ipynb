{
  "nbformat": 4,
  "nbformat_minor": 0,
  "metadata": {
    "colab": {
      "name": "BinaryTreep2.ipynb",
      "provenance": [],
      "authorship_tag": "ABX9TyMmQufYGB1ob+dPxqn6SFvc",
      "include_colab_link": true
    },
    "kernelspec": {
      "name": "python3",
      "display_name": "Python 3"
    },
    "language_info": {
      "name": "python"
    }
  },
  "cells": [
    {
      "cell_type": "markdown",
      "metadata": {
        "id": "view-in-github",
        "colab_type": "text"
      },
      "source": [
        "<a href=\"https://colab.research.google.com/github/Zypher44/100DaysOfCode/blob/main/BinaryTreep2.ipynb\" target=\"_parent\"><img src=\"https://colab.research.google.com/assets/colab-badge.svg\" alt=\"Open In Colab\"/></a>"
      ]
    },
    {
      "cell_type": "code",
      "metadata": {
        "id": "KWghpBlbH9UM"
      },
      "source": [
        "A tree is anonlinear data structture with hierrcial relationships between its elements without having any cycle \n",
        "It is bassically reversed from a real life tree \n",
        "\n",
        "Properties:\n",
        "- Represent hierarchiacl data \n",
        "- Each Node has two compnents : data and a link to its sub category \n",
        "- Base category and sub categroies under it \n",
        "\n",
        "Why a tree?\n",
        "- Quicker and Easier access to the data \n",
        "- Store hierarchical data, like folding structure, organization structure, XML/HTML data \n",
        "- There are many different types of data structures which perfroms better in various situations \n",
        "      - Binary Search tree, AVL , Red black tree, Trie "
      ],
      "execution_count": null,
      "outputs": []
    },
    {
      "cell_type": "code",
      "metadata": {
        "id": "1wKr6pmy4s5H"
      },
      "source": [
        "Root : Top node without parent \n",
        "Edge : a link between parent and child \n",
        "Leaf : a node which does not have children \n",
        "Sibling : Children of same parent \n",
        "Ancestor : Parent, grandparent great grandparents of node \n",
        "Depth of node : a length of path from root to node\n",
        "Height of node :A length of the path from the node to the deepest node \n",
        "Depth of tree: depth of root node \n",
        "Height of tree: heigh of root node "
      ],
      "execution_count": null,
      "outputs": []
    },
    {
      "cell_type": "code",
      "metadata": {
        "id": "lDdT61-W6MZa"
      },
      "source": [
        "class TreeNode:\n",
        "  def __init__(self,data,children = []):\n",
        "    self.data = data\n",
        "    self.children = children \n",
        "  \n",
        "  \n",
        "  def __str__(self,level=0):\n",
        "    ret = ' ' * level + str(self.data) + '\\n'\n",
        "    for child in self.children:\n",
        "      ret += child.__str__(level + 1)\n",
        "    return ret\n",
        "  \n",
        "  def addchild(self,TreeNode):\n",
        "    self.children.append(TreeNode)\n",
        "     \n",
        "\n"
      ],
      "execution_count": null,
      "outputs": []
    },
    {
      "cell_type": "code",
      "metadata": {
        "colab": {
          "base_uri": "https://localhost:8080/"
        },
        "id": "piqYAMWs8kpA",
        "outputId": "3b8f3b4c-086e-43d1-e55b-d1994cc802a3"
      },
      "source": [
        " tree = TreeNode('Drinks',[])\n",
        " cold = TreeNode('Cold',[])\n",
        " hot = TreeNode('hot',[])\n",
        " tree.addchild(cold)\n",
        " tree.addchild(hot)\n",
        " print(tree)"
      ],
      "execution_count": null,
      "outputs": [
        {
          "output_type": "stream",
          "name": "stdout",
          "text": [
            "Drinks\n",
            " Cold\n",
            " hot\n",
            "\n"
          ]
        }
      ]
    },
    {
      "cell_type": "code",
      "metadata": {
        "id": "dk6wlVBbJHK3"
      },
      "source": [
        "fanta = TreeNode('Fanta',[])\n",
        "tea = TreeNode('Tea',[])\n",
        "hot.addchild(tea)\n",
        "cold.addchild(fanta)"
      ],
      "execution_count": null,
      "outputs": []
    },
    {
      "cell_type": "code",
      "metadata": {
        "colab": {
          "base_uri": "https://localhost:8080/"
        },
        "id": "MO_A9a40Zkce",
        "outputId": "bb4857f8-739d-4ca5-9f7e-b03bac12b98e"
      },
      "source": [
        "print(tree)"
      ],
      "execution_count": null,
      "outputs": [
        {
          "output_type": "stream",
          "name": "stdout",
          "text": [
            "Drinks\n",
            " Cold\n",
            "  Fanta\n",
            "  Fanta\n",
            " hot\n",
            "  Tea\n",
            "\n"
          ]
        }
      ]
    },
    {
      "cell_type": "code",
      "metadata": {
        "id": "ssb5zq0zZlff"
      },
      "source": [
        "Binary tree are data structures in whihc each node has at most two children,\n",
        "often referred to as the left and right child \n",
        "\n",
        "- Binary tree is a family of data structures (BST, Heap tree, AVL, red black trees, syntax trees)\n",
        "\n",
        "\n",
        "Why do we need binary trees?\n",
        "Binary trees are a prerequsite for mode advanced trees like BST, AVL, Red black Trees \n",
        "\n",
        "- Huffman coding problem, heap priority probelm and expression parsing problems can be solved efficently using binary trees"
      ],
      "execution_count": null,
      "outputs": []
    },
    {
      "cell_type": "code",
      "metadata": {
        "id": "ItJP9AAparxX"
      },
      "source": [
        "Types of Binary Tree \n",
        "Full Binary tree each node has a child or two \n",
        "\n",
        "Perfect Binary tree = all nodes in the same level and two children and all leaf nodes are in the same level \n",
        "\n",
        "Complete Binary Tree = All nodes as left as possible \n",
        "\n",
        "Balenced Binary tree = Each leaf is not more then a certian distance from the root distance "
      ],
      "execution_count": null,
      "outputs": []
    },
    {
      "cell_type": "code",
      "metadata": {
        "id": "-QmYuGOwbhfM"
      },
      "source": [
        "#Binary tree Linked list \n",
        "- Creation of tree \n",
        "- Insertion of a node \n",
        "- Deletion of a node \n",
        "- Search for a value \n",
        "- Traverse all nodes \n",
        "- Deletion of tree \n",
        "\n",
        "\n"
      ],
      "execution_count": null,
      "outputs": []
    },
    {
      "cell_type": "code",
      "metadata": {
        "id": "LXg0FaHwdUaW"
      },
      "source": [
        "class Treenode:\n",
        "  \n",
        "  def __init__(self,data): #Time complexity O(1), space complexity O(1)\n",
        "    self.data = data \n",
        "    self.leftChild = None\n",
        "    self.rightChild = None \n",
        "  \n",
        "\n",
        " "
      ],
      "execution_count": null,
      "outputs": []
    },
    {
      "cell_type": "code",
      "metadata": {
        "id": "7jeoZQJgjmgC"
      },
      "source": [
        "Traversal of Binary Tree \n",
        "Depth first search \n",
        "- Preorder traversal = Root node, left subtree, right subtree\n",
        "- Inorder Traversal = Left subtree, Rootnode , Right Subtree\n",
        "- Post Order traversal = left subtree, right subtree, Rootnode \n",
        "\n",
        "Bredth first search \n",
        "- Level order traversal = search level by level "
      ],
      "execution_count": null,
      "outputs": []
    },
    {
      "cell_type": "code",
      "metadata": {
        "id": "sQFwk0AElQEi"
      },
      "source": [
        "newBT = Treenode('Drinks')\n",
        "leftchild = Treenode(\"Hot\")\n",
        "rightchild = Treenode(\"Cold\")\n",
        "newBT.leftChild = leftchild\n",
        "newBT.rightChild = rightchild"
      ],
      "execution_count": null,
      "outputs": []
    },
    {
      "cell_type": "code",
      "metadata": {
        "colab": {
          "base_uri": "https://localhost:8080/"
        },
        "id": "RV_fT4q4lkXn",
        "outputId": "150103a9-c430-4674-9e45-d6a8cd061b8f"
      },
      "source": [
        "print(newBT)"
      ],
      "execution_count": null,
      "outputs": [
        {
          "output_type": "stream",
          "name": "stdout",
          "text": [
            "<__main__.Treenode object at 0x7f67a69c9190>\n"
          ]
        }
      ]
    },
    {
      "cell_type": "code",
      "metadata": {
        "id": "yMuyQEsBlrQ5"
      },
      "source": [
        "def preorderTraversal(rootNode):#Time complexity O(n), space is also O(n)\n",
        "  if not rootNode:#Time complexity O(1)\n",
        "    return \n",
        "  print(rootNode.data)\n",
        "  preorderTraversal(rootNode.leftChild)#Time complexity O(n/2)\n",
        "  preorderTraversal(rootNode.rightChild)#Time complexity O(n/2)\n"
      ],
      "execution_count": null,
      "outputs": []
    },
    {
      "cell_type": "code",
      "metadata": {
        "colab": {
          "base_uri": "https://localhost:8080/"
        },
        "id": "SLxW-coumNEH",
        "outputId": "3b2cd9b0-1536-4379-c4d5-4967c2560487"
      },
      "source": [
        "preorderTraversal(newBT)"
      ],
      "execution_count": null,
      "outputs": [
        {
          "output_type": "stream",
          "name": "stdout",
          "text": [
            "Drinks\n",
            "Hot\n",
            "Cold\n"
          ]
        }
      ]
    },
    {
      "cell_type": "code",
      "metadata": {
        "id": "__WDIAR5mTlQ"
      },
      "source": [
        "def inorderTraversal(rootNode):#Time complexity O(n), space is also O(n)\n",
        "  if not rootNode:\n",
        "    return \n",
        "  inorderTraversal(rootNode.leftChild)\n",
        "  print(rootNode.data)\n",
        "  inorderTraversal(rootNode.rightChild)\n"
      ],
      "execution_count": null,
      "outputs": []
    },
    {
      "cell_type": "code",
      "metadata": {
        "colab": {
          "base_uri": "https://localhost:8080/"
        },
        "id": "nhsOb2tXoXpV",
        "outputId": "00423079-0dbf-43ce-a335-b9ec6aaa712f"
      },
      "source": [
        "inorderTraversal(newBT)"
      ],
      "execution_count": null,
      "outputs": [
        {
          "output_type": "stream",
          "name": "stdout",
          "text": [
            "Hot\n",
            "Drinks\n",
            "Cold\n"
          ]
        }
      ]
    },
    {
      "cell_type": "code",
      "metadata": {
        "id": "tlXiU2EmoZor"
      },
      "source": [
        "def postorder(rootNode):#Time complexity O(n), space is also O(n)\n",
        "  if not rootNode:\n",
        "    return \n",
        "  postorder(rootNode.leftChild)\n",
        "  postorder(rootNode.rightChild)\n",
        "  print(rootNode.data)"
      ],
      "execution_count": null,
      "outputs": []
    },
    {
      "cell_type": "code",
      "metadata": {
        "colab": {
          "base_uri": "https://localhost:8080/"
        },
        "id": "HWzGxQrWs_Yi",
        "outputId": "e59ef1f5-5b8c-47b5-d1c9-29543dbd69b2"
      },
      "source": [
        "postorder(newBT)"
      ],
      "execution_count": null,
      "outputs": [
        {
          "output_type": "stream",
          "name": "stdout",
          "text": [
            "Hot\n",
            "Cold\n",
            "Drinks\n"
          ]
        }
      ]
    },
    {
      "cell_type": "code",
      "metadata": {
        "id": "dAft_Td8tBV9"
      },
      "source": [
        "def "
      ],
      "execution_count": null,
      "outputs": []
    }
  ]
}