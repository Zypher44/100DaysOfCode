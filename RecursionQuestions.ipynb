{
  "nbformat": 4,
  "nbformat_minor": 0,
  "metadata": {
    "colab": {
      "name": "RecursionQuestions.ipynb",
      "provenance": [],
      "authorship_tag": "ABX9TyMIqPwLl5EWnjJoFoiCsmOx",
      "include_colab_link": true
    },
    "kernelspec": {
      "name": "python3",
      "display_name": "Python 3"
    },
    "language_info": {
      "name": "python"
    }
  },
  "cells": [
    {
      "cell_type": "markdown",
      "metadata": {
        "id": "view-in-github",
        "colab_type": "text"
      },
      "source": [
        "<a href=\"https://colab.research.google.com/github/Zypher44/100DaysOfCode/blob/main/RecursionQuestions.ipynb\" target=\"_parent\"><img src=\"https://colab.research.google.com/assets/colab-badge.svg\" alt=\"Open In Colab\"/></a>"
      ]
    },
    {
      "cell_type": "code",
      "metadata": {
        "id": "QQhIOm7nqr1d"
      },
      "source": [
        "#Find the sum of digits using recursion \n",
        "\n",
        "def sumofdigits(n):\n",
        "  assert n >= 0 and int(n) == n, \"Needs to be a positive number\"\n",
        "  if n == 0:\n",
        "    return 0 \n",
        "  else:\n",
        "    return int(n%10) + sumofdigits(int((n/10)))"
      ],
      "execution_count": 1,
      "outputs": []
    },
    {
      "cell_type": "code",
      "metadata": {
        "id": "GkUapE1hqvaw"
      },
      "source": [
        "#Find the power using recursion \n",
        "\n",
        "def power(base, exp):\n",
        "  assert exp>=0 and int(exp) ==exp, 'Give me a positive number for exp'\n",
        "  if exp == 0:\n",
        "    return 1 \n",
        "  elif exp == 1:\n",
        "    return base \n",
        "  return base * power(base,exp-1)\n",
        "  \n"
      ],
      "execution_count": 2,
      "outputs": []
    },
    {
      "cell_type": "code",
      "metadata": {
        "id": "4-ps0P_Tqyej"
      },
      "source": [
        "#Greatest common demonitator is the largest positive integer that divides numbers without a remainder \n",
        "#Euclidean algorithem \n",
        "\n",
        "\n",
        "def gcd(a,b):\n",
        "  assert int(a) == a and int(b) == b,\"Positive integers only only\"\n",
        "  if a < 0:\n",
        "    a = a*-1\n",
        "  if b <0:\n",
        "    b = b*-1\n",
        "  if b == 0:\n",
        "    return a\n",
        "  else:\n",
        "    return gcd(b, a %b)"
      ],
      "execution_count": 3,
      "outputs": []
    },
    {
      "cell_type": "code",
      "metadata": {
        "id": "s6QEE4gKqyzE"
      },
      "source": [
        "def convertbinary(n):\n",
        "  if n > 1:\n",
        "    convertbinary(n//2)\n",
        "  return print(n % 2,end ='')"
      ],
      "execution_count": 10,
      "outputs": []
    },
    {
      "cell_type": "code",
      "metadata": {
        "colab": {
          "base_uri": "https://localhost:8080/"
        },
        "id": "GKqw4n5CrkLw",
        "outputId": "61d6ec82-2963-4604-a237-dc1bc9744fee"
      },
      "source": [
        "convertbinary(195)"
      ],
      "execution_count": 11,
      "outputs": [
        {
          "output_type": "stream",
          "name": "stdout",
          "text": [
            "11000011"
          ]
        }
      ]
    },
    {
      "cell_type": "code",
      "metadata": {
        "id": "vR7ypzjSrnjC"
      },
      "source": [
        ""
      ],
      "execution_count": null,
      "outputs": []
    }
  ]
}