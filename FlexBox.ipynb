{
  "nbformat": 4,
  "nbformat_minor": 0,
  "metadata": {
    "colab": {
      "name": "FlexBox.ipynb",
      "provenance": [],
      "authorship_tag": "ABX9TyPu+5CcJqfbnBDehHziY4b3",
      "include_colab_link": true
    },
    "kernelspec": {
      "name": "python3",
      "display_name": "Python 3"
    },
    "language_info": {
      "name": "python"
    }
  },
  "cells": [
    {
      "cell_type": "markdown",
      "metadata": {
        "id": "view-in-github",
        "colab_type": "text"
      },
      "source": [
        "<a href=\"https://colab.research.google.com/github/Zypher44/100DaysOfCode/blob/main/FlexBox.ipynb\" target=\"_parent\"><img src=\"https://colab.research.google.com/assets/colab-badge.svg\" alt=\"Open In Colab\"/></a>"
      ]
    },
    {
      "cell_type": "code",
      "execution_count": null,
      "metadata": {
        "id": "dprHk3edZuJB"
      },
      "outputs": [],
      "source": [
        "<!DOCTYPE html>\n",
        "<html lang=\"en\">\n",
        "<head>\n",
        "  <meta charset=\"UTF-8\">\n",
        "  <meta http-equiv=\"X-UA-Compatible\" content=\"IE=edge\">\n",
        "  <meta name=\"viewport\" content=\"width=device-width, initial-scale=1.0\">\n",
        "  <title>Flex Header</title>\n",
        "  <link rel=\"stylesheet\" href=\"style.css\">\n",
        "</head>\n",
        "<body>\n",
        "  <div class=\"header\">\n",
        "    <div class=\"left-links\">\n",
        "      <ul>\n",
        "        <li><a href=\"#\">ONE</a></li>\n",
        "        <li><a href=\"#\">TWO</a></li>\n",
        "        <li><a href=\"#\">THREE</a></li>\n",
        "      </ul>\n",
        "    </div>\n",
        "    <div class=\"logo\">LOGO</div>\n",
        "    <div class=\"right-links\">\n",
        "      <ul>\n",
        "        <li><a href=\"#\">FOUR</a></li>\n",
        "        <li><a href=\"#\">FIVE</a></li>\n",
        "        <li><a href=\"#\">SIX</a></li>\n",
        "      </ul>\n",
        "    </div>\n",
        "  </div>\n",
        "</body>\n",
        "</html>"
      ]
    },
    {
      "cell_type": "code",
      "source": [
        ".header  {\n",
        "  font-family: monospace;\n",
        "  background: papayawhip;\n",
        "  padding: 8px;\n",
        "  display: flex;\n",
        "  align-items: center;\n",
        "  justify-content: space-between;\n",
        "}\n",
        ".logo {\n",
        "  font-size: 48px;\n",
        "  font-weight: 900;\n",
        "  color: tomato;\n",
        "  background: white;\n",
        "  padding: 4px 32px;\n",
        " \n",
        "\n",
        " \n",
        "}\n",
        "\n",
        "ul {\n",
        "  /* this removes the dots on the list items*/\n",
        "  list-style-type: none;\n",
        "  align-self: flex-end;\n",
        "  display: flex;\n",
        "  margin: 0;\n",
        "  padding: 0;\n",
        "  gap: 8px;\n",
        "}\n",
        "\n",
        "a {\n",
        "  font-size: 22px;\n",
        "  background: white;\n",
        "  padding: 8px;\n",
        "  /* this removes the line under the links */\n",
        "  text-decoration: none;\n",
        "}"
      ],
      "metadata": {
        "id": "MU4tR3D_Z4Cy"
      },
      "execution_count": null,
      "outputs": []
    }
  ]
}