{
  "nbformat": 4,
  "nbformat_minor": 0,
  "metadata": {
    "colab": {
      "name": "Lists.ipynb",
      "provenance": [],
      "authorship_tag": "ABX9TyNW40MfzPFxk/R5Bw4673l0",
      "include_colab_link": true
    },
    "kernelspec": {
      "name": "python3",
      "display_name": "Python 3"
    },
    "language_info": {
      "name": "python"
    }
  },
  "cells": [
    {
      "cell_type": "markdown",
      "metadata": {
        "id": "view-in-github",
        "colab_type": "text"
      },
      "source": [
        "<a href=\"https://colab.research.google.com/github/Zypher44/100DaysOfCode/blob/main/Lists.ipynb\" target=\"_parent\"><img src=\"https://colab.research.google.com/assets/colab-badge.svg\" alt=\"Open In Colab\"/></a>"
      ]
    },
    {
      "cell_type": "code",
      "metadata": {
        "id": "kxryymT5Q48y"
      },
      "source": [
        "A list is a data structure that holds an ordered collection of items \n",
        "[]\n",
        "\n",
        "#Operation                       Time complexity     Space complexity \n",
        "Creating an List                    O(1)                 O(n)\n",
        "Inserating a value in an List       O(1)|O(n)            O(1)\n",
        "Traversing a given List             O(n)                 O(1)\n",
        "Accessing a given cell              O(1)                 O(1)\n",
        "Searching a given value             O(n)                 O(1)\n",
        "Deleting a given value              O(1)|O(n)            O(1)\n"
      ],
      "execution_count": null,
      "outputs": []
    }
  ]
}