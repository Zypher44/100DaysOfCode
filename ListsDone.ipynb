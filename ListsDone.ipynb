{
  "nbformat": 4,
  "nbformat_minor": 0,
  "metadata": {
    "colab": {
      "name": "ListsDone.ipynb",
      "provenance": [],
      "authorship_tag": "ABX9TyOiFKPWKGCTMfhQafnzA3dc",
      "include_colab_link": true
    },
    "kernelspec": {
      "name": "python3",
      "display_name": "Python 3"
    },
    "language_info": {
      "name": "python"
    }
  },
  "cells": [
    {
      "cell_type": "markdown",
      "metadata": {
        "id": "view-in-github",
        "colab_type": "text"
      },
      "source": [
        "<a href=\"https://colab.research.google.com/github/Zypher44/100DaysOfCode/blob/main/ListsDone.ipynb\" target=\"_parent\"><img src=\"https://colab.research.google.com/assets/colab-badge.svg\" alt=\"Open In Colab\"/></a>"
      ]
    },
    {
      "cell_type": "code",
      "metadata": {
        "id": "kxryymT5Q48y"
      },
      "source": [
        "A list is a data structure that holds an ordered collection of items \n",
        "[]\n",
        "\n",
        "#Operation                       Time complexity     Space complexity \n",
        "Creating an List                    O(1)                 O(n)\n",
        "Inserating a value in an List       O(1)|O(n)            O(1)\n",
        "Traversing a given List             O(n)                 O(1)\n",
        "Accessing a given cell              O(1)                 O(1)\n",
        "Searching a given value             O(n)                 O(1)\n",
        "Deleting a given value              O(1)|O(n)            O(1)\n"
      ],
      "execution_count": null,
      "outputs": []
    },
    {
      "cell_type": "code",
      "metadata": {
        "id": "JULGvwX8FBpK"
      },
      "source": [
        "#Find the number of days abover average tempurre \n",
        "\n",
        "def avgtemp(days,temp):\n",
        "  if days > 1:\n",
        "    x = len(days)"
      ],
      "execution_count": 1,
      "outputs": []
    },
    {
      "cell_type": "code",
      "metadata": {
        "colab": {
          "base_uri": "https://localhost:8080/"
        },
        "id": "BG3TTUB7FoXp",
        "outputId": "a0fe8b93-5204-43d1-a182-b9b705db7baf"
      },
      "source": [
        "x = int(input(\"How many days temperature\"))\n",
        "for i in range(x):\n",
        "  t = []\n",
        "  c = int(input(f'day {i} input is?'))\n",
        "  t.append(c)\n",
        "\n",
        "  "
      ],
      "execution_count": 18,
      "outputs": [
        {
          "output_type": "stream",
          "name": "stdout",
          "text": [
            "How many days temperature2\n",
            "day 0 input is?1\n",
            "[1]\n",
            "day 1 input is?3\n",
            "[3]\n"
          ]
        }
      ]
    },
    {
      "cell_type": "code",
      "metadata": {
        "colab": {
          "base_uri": "https://localhost:8080/"
        },
        "id": "8rJF_5e0F-mj",
        "outputId": "51c17042-86ec-42aa-8f36-7f0bf77dca2f"
      },
      "source": [
        "for i in range(x):\n",
        "  print(i)"
      ],
      "execution_count": 9,
      "outputs": [
        {
          "output_type": "stream",
          "name": "stdout",
          "text": [
            "0\n",
            "1\n"
          ]
        }
      ]
    },
    {
      "cell_type": "code",
      "metadata": {
        "colab": {
          "base_uri": "https://localhost:8080/"
        },
        "id": "d4DMQzECGURu",
        "outputId": "e3399270-904e-44e1-e469-10b77958e31f"
      },
      "source": [
        "t"
      ],
      "execution_count": 19,
      "outputs": [
        {
          "output_type": "execute_result",
          "data": {
            "text/plain": [
              "[3]"
            ]
          },
          "metadata": {},
          "execution_count": 19
        }
      ]
    },
    {
      "cell_type": "code",
      "metadata": {
        "colab": {
          "base_uri": "https://localhost:8080/"
        },
        "id": "USJ-E-w5HJFx",
        "outputId": "9aa8c836-bde3-480b-dabd-15df9047a839"
      },
      "source": [
        "numDays = int(input(\"How many days?\"))\n",
        "total = 0 \n",
        "x = []\n",
        "higherthenavg = []\n",
        "for i in range(1,numDays+1):\n",
        "  nextday = int(input(f\"What is the tempature for the {i} day?\"))\n",
        "  x.append(nextday)\n",
        "  total += nextday\n",
        "\n",
        "avg = round(total/numDays,2)\n",
        "print(f'The average is {avg}')\n",
        "\n",
        "for i in x:\n",
        "  if i > avg:\n",
        "    higherthenavg.append(i)\n",
        "print(f\"There was this many days: {len(higherthenavg)} that where higher than the avg temp of {avg}\")\n",
        "\n"
      ],
      "execution_count": 49,
      "outputs": [
        {
          "output_type": "stream",
          "name": "stdout",
          "text": [
            "How many days?3\n",
            "What is the tempature for the 1 day?23\n",
            "What is the tempature for the 2 day?31\n",
            "What is the tempature for the 3 day?2\n",
            "The average is 18.67\n",
            "There was this many days :2 that where higher than the avg temp of 18.67\n"
          ]
        }
      ]
    },
    {
      "cell_type": "code",
      "metadata": {
        "colab": {
          "base_uri": "https://localhost:8080/"
        },
        "id": "AHOU6jcrJDFq",
        "outputId": "96ab3619-69cc-47b7-cf7a-e6c59dbae4ad"
      },
      "source": [
        "22\n",
        "total"
      ],
      "execution_count": 36,
      "outputs": [
        {
          "output_type": "execute_result",
          "data": {
            "text/plain": [
              "35"
            ]
          },
          "metadata": {},
          "execution_count": 36
        }
      ]
    },
    {
      "cell_type": "code",
      "metadata": {
        "colab": {
          "base_uri": "https://localhost:8080/"
        },
        "id": "OQgRzsBCJNce",
        "outputId": "f05462c1-5236-4c2a-f208-bb984e3173a0"
      },
      "source": [
        "x"
      ],
      "execution_count": 42,
      "outputs": [
        {
          "output_type": "execute_result",
          "data": {
            "text/plain": [
              "[12, 23]"
            ]
          },
          "metadata": {},
          "execution_count": 42
        }
      ]
    },
    {
      "cell_type": "code",
      "metadata": {
        "colab": {
          "base_uri": "https://localhost:8080/"
        },
        "id": "jqE5nSMuKEQk",
        "outputId": "6254a542-4dd0-4539-e597-0c5396ed4361"
      },
      "source": [
        "higherthenavg = []\n",
        "for i in x:\n",
        "  if i > avg:\n",
        "    higherthenavg.append(i)\n",
        "    print(len(higherthenavg))"
      ],
      "execution_count": 46,
      "outputs": [
        {
          "output_type": "stream",
          "name": "stdout",
          "text": [
            "1\n"
          ]
        }
      ]
    },
    {
      "cell_type": "code",
      "metadata": {
        "colab": {
          "base_uri": "https://localhost:8080/"
        },
        "id": "_0mLdxbILt8B",
        "outputId": "26b7e52a-0d30-4192-b801-5d8263a1267f"
      },
      "source": [
        "x = [10,20,30,34,23,11,12]\n",
        "y = [20,30,34,23,11,12]\n",
        "\n",
        "totalx = sum(x)\n",
        "totaly = sum(y)\n",
        "\n",
        "missingnum = totalx-totaly\n",
        "missingnum"
      ],
      "execution_count": 4,
      "outputs": [
        {
          "output_type": "execute_result",
          "data": {
            "text/plain": [
              "10"
            ]
          },
          "metadata": {},
          "execution_count": 4
        }
      ]
    },
    {
      "cell_type": "code",
      "metadata": {
        "id": "x0kqdJ5nPTgd"
      },
      "source": [
        ""
      ],
      "execution_count": 4,
      "outputs": []
    },
    {
      "cell_type": "code",
      "metadata": {
        "colab": {
          "base_uri": "https://localhost:8080/"
        },
        "id": "vSch0wCuPUby",
        "outputId": "be4a2ff4-eb04-4a92-9eb9-1e2a71a285ef"
      },
      "source": [
        "#Write a program to find all pairs of integers whose sum equal to a given number, pairs have to be distint \n",
        "\n",
        "for i in x:\n",
        "  print(i) "
      ],
      "execution_count": 5,
      "outputs": [
        {
          "output_type": "stream",
          "name": "stdout",
          "text": [
            "10\n",
            "20\n",
            "30\n",
            "34\n",
            "23\n",
            "11\n",
            "12\n"
          ]
        }
      ]
    },
    {
      "cell_type": "code",
      "metadata": {
        "id": "H_tV5nyiRue7"
      },
      "source": [
        "def findpairs(nums,target):\n",
        "  for i in range(len(nums)):\n",
        "    for j in range(i+1,len(nums)):\n",
        "      if nums[i] == nums[j]:\n",
        "        continue\n",
        "      elif nums[i] + nums[j] == target:\n",
        "        print(nums[i],nums[j])"
      ],
      "execution_count": 14,
      "outputs": []
    },
    {
      "cell_type": "code",
      "metadata": {
        "colab": {
          "base_uri": "https://localhost:8080/"
        },
        "id": "LYOzybm__Rca",
        "outputId": "62199654-e6a6-4b18-d189-452b16167571"
      },
      "source": [
        "findpairs(x,23)"
      ],
      "execution_count": 15,
      "outputs": [
        {
          "output_type": "stream",
          "name": "stdout",
          "text": [
            "11 12\n"
          ]
        }
      ]
    },
    {
      "cell_type": "code",
      "metadata": {
        "id": "zhdE5aR__VO7"
      },
      "source": [
        "#Check if array contains a number in python \n",
        "\n",
        "import numpy as np\n",
        "\n",
        "myArray = np.array([1,2,2,4,3,6,7,8,9,10,20])\n",
        "\n",
        "def findnums(array,targetnum):\n",
        "  for i in range(len(array)):\n",
        "    if array[i] == targetnum:\n",
        "      print(i) #Displays the index that the the number is found "
      ],
      "execution_count": 62,
      "outputs": []
    },
    {
      "cell_type": "code",
      "metadata": {
        "colab": {
          "base_uri": "https://localhost:8080/"
        },
        "id": "oGxqgloHAvEz",
        "outputId": "2c8580d5-8627-44d8-f5c4-3bfe4469278f"
      },
      "source": [
        "findnums(array=myArray,targetnum=9)"
      ],
      "execution_count": 20,
      "outputs": [
        {
          "output_type": "stream",
          "name": "stdout",
          "text": [
            "8\n"
          ]
        }
      ]
    },
    {
      "cell_type": "code",
      "metadata": {
        "id": "r055wZC7Ayld"
      },
      "source": [
        "#How to find maximun product in arrayu whenere all elements are positive \n",
        "myArray\n",
        "def findmax(array):\n",
        "  max = 0\n",
        "  for i in range(len(array)):\n",
        "    for j in range(i+1,len(array)): #Has to start at the second element \n",
        "      if array[i] * array[j] > max:\n",
        "        max = array[i] * array[j]\n",
        "        pairs = str(array[i]) + ',' +str(array[j])\n",
        "  print(pairs)\n",
        "  print(max) \n"
      ],
      "execution_count": 51,
      "outputs": []
    },
    {
      "cell_type": "code",
      "metadata": {
        "colab": {
          "base_uri": "https://localhost:8080/"
        },
        "id": "RRtpHp_kGcm9",
        "outputId": "62282bcc-545e-42a4-d974-21ca95d06788"
      },
      "source": [
        "findmax(myArray)"
      ],
      "execution_count": 52,
      "outputs": [
        {
          "output_type": "stream",
          "name": "stdout",
          "text": [
            "10,20\n",
            "200\n"
          ]
        }
      ]
    },
    {
      "cell_type": "code",
      "metadata": {
        "id": "4t2BEy3EG6P_"
      },
      "source": [
        "#Write a function that checks if the array is unique \n",
        "\n",
        "def unique(array):\n",
        "  empty = []\n",
        "  for i in array:\n",
        "    if i in empty:\n",
        "      print(i)\n",
        "      return False\n",
        "    else:\n",
        "      empty.append(i)\n",
        "  return True"
      ],
      "execution_count": 82,
      "outputs": []
    },
    {
      "cell_type": "code",
      "metadata": {
        "colab": {
          "base_uri": "https://localhost:8080/"
        },
        "id": "-PW9e6ClJhIV",
        "outputId": "4435f53c-875a-42ea-fb72-3b80063d10e2"
      },
      "source": [
        "unique(myArray)"
      ],
      "execution_count": 83,
      "outputs": [
        {
          "output_type": "stream",
          "name": "stdout",
          "text": [
            "2\n"
          ]
        },
        {
          "output_type": "execute_result",
          "data": {
            "text/plain": [
              "False"
            ]
          },
          "metadata": {},
          "execution_count": 83
        }
      ]
    },
    {
      "cell_type": "code",
      "metadata": {
        "colab": {
          "base_uri": "https://localhost:8080/"
        },
        "id": "bIQ-j7i6Jip9",
        "outputId": "6e2d5a73-67c6-4472-b3aa-4acb9f0aba11"
      },
      "source": [
        "myArray"
      ],
      "execution_count": 84,
      "outputs": [
        {
          "output_type": "execute_result",
          "data": {
            "text/plain": [
              "array([ 1,  2,  2,  4,  3,  6,  7,  8,  9, 10, 20])"
            ]
          },
          "metadata": {},
          "execution_count": 84
        }
      ]
    },
    {
      "cell_type": "code",
      "metadata": {
        "id": "sBCtBBg-KiNs"
      },
      "source": [
        "#Write a function that a list is a permutation or not, permutation same chars in the same order\n",
        "x = [20,30,34,23,11,12]\n",
        "y = [20,30,34,23,11,12]\n",
        "\n",
        "def permutation(x,y):\n",
        "  x_sorted = sorted(x)\n",
        "  y_sorted = sorted(y)\n",
        "  if x_sorted == y_sorted:\n",
        "    return True\n",
        "  else:\n",
        "    return False "
      ],
      "execution_count": 100,
      "outputs": []
    },
    {
      "cell_type": "code",
      "metadata": {
        "id": "CTzIfisZNXP2"
      },
      "source": [
        "sorted_y = sorted(y)"
      ],
      "execution_count": 95,
      "outputs": []
    },
    {
      "cell_type": "code",
      "metadata": {
        "colab": {
          "base_uri": "https://localhost:8080/"
        },
        "id": "xLAd3Tg9NdX8",
        "outputId": "99854a29-72bb-4d6b-fdbe-315a9ff539f9"
      },
      "source": [
        "sorted_y\n"
      ],
      "execution_count": 96,
      "outputs": [
        {
          "output_type": "execute_result",
          "data": {
            "text/plain": [
              "[11, 12, 20, 23, 30, 34]"
            ]
          },
          "metadata": {},
          "execution_count": 96
        }
      ]
    },
    {
      "cell_type": "code",
      "metadata": {
        "colab": {
          "base_uri": "https://localhost:8080/"
        },
        "id": "gBprDUxZNdv3",
        "outputId": "e90f0876-e253-4951-fccf-4f206bea971f"
      },
      "source": [
        "permutation(x,y)"
      ],
      "execution_count": 101,
      "outputs": [
        {
          "output_type": "execute_result",
          "data": {
            "text/plain": [
              "True"
            ]
          },
          "metadata": {},
          "execution_count": 101
        }
      ]
    },
    {
      "cell_type": "code",
      "metadata": {
        "id": "MAOWLpAEOCoP"
      },
      "source": [
        ""
      ],
      "execution_count": null,
      "outputs": []
    }
  ]
}