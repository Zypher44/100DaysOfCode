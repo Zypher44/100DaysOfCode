{
  "nbformat": 4,
  "nbformat_minor": 0,
  "metadata": {
    "colab": {
      "name": "RecursionDone.ipynb",
      "provenance": [],
      "authorship_tag": "ABX9TyPC0NLir5ybUoB2o3ewqrzT",
      "include_colab_link": true
    },
    "kernelspec": {
      "name": "python3",
      "display_name": "Python 3"
    },
    "language_info": {
      "name": "python"
    }
  },
  "cells": [
    {
      "cell_type": "markdown",
      "metadata": {
        "id": "view-in-github",
        "colab_type": "text"
      },
      "source": [
        "<a href=\"https://colab.research.google.com/github/Zypher44/100DaysOfCode/blob/main/RecursionDone.ipynb\" target=\"_parent\"><img src=\"https://colab.research.google.com/assets/colab-badge.svg\" alt=\"Open In Colab\"/></a>"
      ]
    },
    {
      "cell_type": "code",
      "metadata": {
        "id": "ekDHtxZaK1fW"
      },
      "source": [
        "Recursion = a way of solving a problem by having a function calling itself, in every step we try smaller inputs to make the problem smaller ,\n",
        "            base condition is needed to stop the recursion, otherwise infiite loop will occur \n",
        "Why we need recursion:\n",
        "              use recursion when you can divide problem into smaller sub problems with similar nature \n",
        "              - desigin an algorithem to compute nth\n",
        "              - write code to list n \n",
        "              - Implement a method to compute all \n",
        "              - Practice \n",
        "2. THe prominjed usuage of recursion in data structures like trees and graphs \n"
      ],
      "execution_count": null,
      "outputs": []
    },
    {
      "cell_type": "code",
      "metadata": {
        "id": "Snjzc2n-TGOB"
      },
      "source": [
        "def openDoll(doll):\n",
        "  if dool == 1:\n",
        "    print('All dolls are open')\n",
        "  else:\n",
        "    openDoll(doll-1)"
      ],
      "execution_count": 1,
      "outputs": []
    },
    {
      "cell_type": "code",
      "metadata": {
        "id": "_V17p53vM-5C"
      },
      "source": [
        "def first():\n",
        "  second()\n",
        "  print(\"First the worst\")\n",
        "\n",
        "def second():\n",
        "  third()\n",
        "  print(\"Second the best\")\n",
        "\n",
        "def third():\n",
        "  fourth()\n",
        "  print(\"Third the worst\")\n",
        "\n",
        "def fourth():\n",
        "  print(\"O am fourth\")"
      ],
      "execution_count": 3,
      "outputs": []
    },
    {
      "cell_type": "code",
      "metadata": {
        "colab": {
          "base_uri": "https://localhost:8080/"
        },
        "id": "FCRj7vepNzu3",
        "outputId": "01a50fed-6bb1-4498-a508-6449b78399f0"
      },
      "source": [
        "first()"
      ],
      "execution_count": 4,
      "outputs": [
        {
          "output_type": "stream",
          "name": "stdout",
          "text": [
            "O am fourth\n",
            "Third the worst\n",
            "Second the best\n",
            "First the worst\n"
          ]
        }
      ]
    },
    {
      "cell_type": "code",
      "metadata": {
        "id": "vvozZEKBN36Q"
      },
      "source": [
        "def recursivemethod(n):\n",
        "  if n < 1:\n",
        "    print('n is less than 1')\n",
        "  else:\n",
        "    recursivemethod(n-1)\n",
        "    print(n)"
      ],
      "execution_count": 5,
      "outputs": []
    },
    {
      "cell_type": "code",
      "metadata": {
        "colab": {
          "base_uri": "https://localhost:8080/"
        },
        "id": "N-heFrkXO7Wm",
        "outputId": "4ebcf051-4ee1-4abd-877a-01da14222af4"
      },
      "source": [
        "recursivemethod(15)"
      ],
      "execution_count": 6,
      "outputs": [
        {
          "output_type": "stream",
          "name": "stdout",
          "text": [
            "n is less than 1\n",
            "1\n",
            "2\n",
            "3\n",
            "4\n",
            "5\n",
            "6\n",
            "7\n",
            "8\n",
            "9\n",
            "10\n",
            "11\n",
            "12\n",
            "13\n",
            "14\n",
            "15\n"
          ]
        }
      ]
    },
    {
      "cell_type": "markdown",
      "metadata": {
        "id": "ROKCunP3O8cQ"
      },
      "source": [
        "#Stack memory is last in first out with recursion "
      ]
    },
    {
      "cell_type": "markdown",
      "metadata": {
        "id": "o1XIxKSzQRTz"
      },
      "source": [
        "#Recursion vs Iterative solutions "
      ]
    },
    {
      "cell_type": "code",
      "metadata": {
        "id": "4DC6xfdGQ_Nw"
      },
      "source": [
        "def poweroftwo(n):\n",
        "  if n == 0:\n",
        "    return 1\n",
        "  else:\n",
        "    power = poweroftwo(n-1)\n",
        "    return power*2 "
      ],
      "execution_count": 7,
      "outputs": []
    },
    {
      "cell_type": "code",
      "metadata": {
        "colab": {
          "base_uri": "https://localhost:8080/"
        },
        "id": "h428WMXPRIPa",
        "outputId": "30b020e8-8c61-4dfb-b4fb-b2ec1d1c0127"
      },
      "source": [
        "poweroftwo(3)"
      ],
      "execution_count": 18,
      "outputs": [
        {
          "output_type": "execute_result",
          "data": {
            "text/plain": [
              "8"
            ]
          },
          "metadata": {},
          "execution_count": 18
        }
      ]
    },
    {
      "cell_type": "code",
      "metadata": {
        "id": "MQyn31DKRJvm"
      },
      "source": [
        "def poweroftwoIt(n):\n",
        "  i = 0\n",
        "  power = 1 \n",
        "  while i < n:\n",
        "    power = power *2\n",
        "    i = i+1\n",
        "  return power"
      ],
      "execution_count": 15,
      "outputs": []
    },
    {
      "cell_type": "code",
      "metadata": {
        "colab": {
          "base_uri": "https://localhost:8080/"
        },
        "id": "k7d4JlxDRkpf",
        "outputId": "942be00d-125f-4a73-e799-744600a4260f"
      },
      "source": [
        "poweroftwoIt(3)"
      ],
      "execution_count": 19,
      "outputs": [
        {
          "output_type": "execute_result",
          "data": {
            "text/plain": [
              "8"
            ]
          },
          "metadata": {},
          "execution_count": 19
        }
      ]
    },
    {
      "cell_type": "markdown",
      "metadata": {
        "id": "yrW7oftvRnLL"
      },
      "source": [
        "Iteration is more space efficent since there is no stack memory in case of iteration. \n",
        "Iteration is also more time efficient, since recursion statements needs more time for pop and push elements to stack memory which makes recursion less\n",
        "time efficent.\n",
        "We use recursion when cases we know that a problem can be didivided into similar sub problems "
      ]
    },
    {
      "cell_type": "code",
      "metadata": {
        "colab": {
          "base_uri": "https://localhost:8080/"
        },
        "id": "rZV0HSQRS4uP",
        "outputId": "6e1d5a29-12b0-4fa0-f082-5dbc6f1fa99b"
      },
      "source": [
        "\n",
        "def factorial(n):\n",
        "    assert n >= 0 and int(n) == n, 'The number must be positive integer only!'\n",
        "    if n in [0,1]:\n",
        "        return 1\n",
        "    else:\n",
        "        return n * factorial(n-1)\n",
        "\n",
        "\n",
        " ## Fibonacci###\n",
        "\n",
        "def fibonacci(n):\n",
        "    assert n >=0 and int(n) == n , 'Fibonacci number cannot be negative number or non integer.'\n",
        "    if n in [0,1]:\n",
        "        return n\n",
        "    else:\n",
        "        return fibonacci(n-1) + fibonacci(n-2)\n",
        "\n",
        "print(fibonacci(7))\n"
      ],
      "execution_count": 20,
      "outputs": [
        {
          "output_type": "stream",
          "name": "stdout",
          "text": [
            "13\n"
          ]
        }
      ]
    },
    {
      "cell_type": "markdown",
      "metadata": {
        "id": "abYWQb_uTsQv"
      },
      "source": [
        "We use recursion when we are fine with extra overhead(both time and space ) that comes with it \n",
        "when we need a quick and working solution instead of an efficent one.\n",
        "Better at tree taverse , a tree is a collection of objects that are connected to one another\n",
        "When we use memorization in recursion time can be reduced "
      ]
    },
    {
      "cell_type": "markdown",
      "metadata": {
        "id": "_RN6rpq5sy9O"
      },
      "source": [
        "We do not use recursion if time and space complexity matters for us.\n",
        "Adding to the stack is not efficent and can be slow \n"
      ]
    },
    {
      "cell_type": "markdown",
      "metadata": {
        "id": "5DeJ_5-xuS21"
      },
      "source": [
        "#How to write recursion in 3 steps "
      ]
    },
    {
      "cell_type": "code",
      "metadata": {
        "id": "k0t_HKT2uVun"
      },
      "source": [
        "#Factorial is a product of all positive integers less than or equal to n \n",
        "\n",
        "#4! = 4*3*2*1 = 24 \n",
        "\n",
        "\n",
        "#Step 1 Recurisve case - the flow \n",
        "#Step 2 Base case - the stoppng criterion to stop the infite loop \n",
        "#Step 3 Unintentional case - the constraint \n",
        "\n",
        "#Assertion method forcing method to be a int  "
      ],
      "execution_count": null,
      "outputs": []
    },
    {
      "cell_type": "code",
      "metadata": {
        "id": "PMs1se40vVqj"
      },
      "source": [
        "def factorial1(n):\n",
        "  assert n >=0 and int(n) == n,'The number must be a postive intenger only!'\n",
        "  if n in [0,1]:\n",
        "    return 1\n",
        "  else:\n",
        "    return n* factorial1(n-1) #Recursive case (step 1)\n"
      ],
      "execution_count": 17,
      "outputs": []
    },
    {
      "cell_type": "code",
      "metadata": {
        "colab": {
          "base_uri": "https://localhost:8080/"
        },
        "id": "wzEItPL2vkAi",
        "outputId": "5f771f4c-5c7c-42b7-d416-9ca631a00b86"
      },
      "source": [
        "factorial1(10)"
      ],
      "execution_count": 20,
      "outputs": [
        {
          "output_type": "execute_result",
          "data": {
            "text/plain": [
              "3628800"
            ]
          },
          "metadata": {},
          "execution_count": 20
        }
      ]
    },
    {
      "cell_type": "code",
      "metadata": {
        "id": "GAPXqId4vk93"
      },
      "source": [
        "#Fibonacci sequence is a sequence of numbers in whihc each number is the sum of the two perceding ones and the sequence starts from 0 and 1 \n",
        "#0,1,1,2,3,5,8,13,21,34,55,89\n",
        "#f(n) = f(n-1) +f(n-2) 5 = 3"
      ],
      "execution_count": 22,
      "outputs": []
    },
    {
      "cell_type": "code",
      "metadata": {
        "colab": {
          "base_uri": "https://localhost:8080/"
        },
        "id": "hbK2JKifGVwD",
        "outputId": "fce840e9-6de0-4928-bc35-44d53abb9fcf"
      },
      "source": [
        "def fibonacci(n):\n",
        "    assert n >=0 and int(n) == n , 'Fibonacci number cannot be negative number or non integer.'\n",
        "    if n in [0,1]:\n",
        "        return n\n",
        "    else:\n",
        "        return fibonacci(n-1) + fibonacci(n-2)\n",
        "\n",
        "print(fibonacci(7))"
      ],
      "execution_count": 23,
      "outputs": [
        {
          "output_type": "stream",
          "name": "stdout",
          "text": [
            "13\n"
          ]
        }
      ]
    },
    {
      "cell_type": "code",
      "metadata": {
        "id": "L8vY6cHYG6IZ"
      },
      "source": [
        ""
      ],
      "execution_count": null,
      "outputs": []
    }
  ]
}