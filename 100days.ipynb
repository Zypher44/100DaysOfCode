{
  "nbformat": 4,
  "nbformat_minor": 0,
  "metadata": {
    "colab": {
      "name": "100days.ipynb",
      "provenance": [],
      "authorship_tag": "ABX9TyM5uFIeVOKW8BlZmkrYibMJ",
      "include_colab_link": true
    },
    "kernelspec": {
      "name": "python3",
      "display_name": "Python 3"
    },
    "language_info": {
      "name": "python"
    }
  },
  "cells": [
    {
      "cell_type": "markdown",
      "metadata": {
        "id": "view-in-github",
        "colab_type": "text"
      },
      "source": [
        "<a href=\"https://colab.research.google.com/github/Zypher44/100DaysOfCode/blob/main/100days.ipynb\" target=\"_parent\"><img src=\"https://colab.research.google.com/assets/colab-badge.svg\" alt=\"Open In Colab\"/></a>"
      ]
    },
    {
      "cell_type": "markdown",
      "metadata": {
        "id": "kCvrk4eqCLYd"
      },
      "source": [
        "Check to see if a string has the same amount of 'x's and 'o's. The method must return a boolean and be case insensitive. The string can contain any char.\n",
        "\n",
        "Examples input/output:"
      ]
    },
    {
      "cell_type": "code",
      "metadata": {
        "id": "50Y100qmCTQa"
      },
      "source": [
        "import re "
      ],
      "execution_count": 1,
      "outputs": []
    },
    {
      "cell_type": "code",
      "metadata": {
        "id": "7dZDMRoUCsGW"
      },
      "source": [
        "finder = re.compile(r'[X,x,O,o]')"
      ],
      "execution_count": 5,
      "outputs": []
    },
    {
      "cell_type": "code",
      "metadata": {
        "id": "xqtJQZFGC0ma"
      },
      "source": [
        "text = 'ooOxX'\n",
        "\n",
        "ct = finder.findall(text.lower())"
      ],
      "execution_count": 9,
      "outputs": []
    },
    {
      "cell_type": "code",
      "metadata": {
        "colab": {
          "base_uri": "https://localhost:8080/"
        },
        "id": "y4wTWALWEP4j",
        "outputId": "76d7f82b-a7ae-4072-9698-0b2f7bab9dbf"
      },
      "source": [
        "ct.count('o')"
      ],
      "execution_count": 12,
      "outputs": [
        {
          "output_type": "execute_result",
          "data": {
            "text/plain": [
              "3"
            ]
          },
          "metadata": {},
          "execution_count": 12
        }
      ]
    },
    {
      "cell_type": "code",
      "metadata": {
        "colab": {
          "base_uri": "https://localhost:8080/"
        },
        "id": "W4uTant-EQI8",
        "outputId": "c0917a7a-d75b-4387-ac9e-893a61ffed3c"
      },
      "source": [
        "ct.count('x')"
      ],
      "execution_count": 13,
      "outputs": [
        {
          "output_type": "execute_result",
          "data": {
            "text/plain": [
              "2"
            ]
          },
          "metadata": {},
          "execution_count": 13
        }
      ]
    },
    {
      "cell_type": "code",
      "metadata": {
        "id": "nOeoSsitERRy"
      },
      "source": [
        "def xo(text):\n",
        "  ct = re.findall('[X,x,O,o]',text.lower())\n",
        "  if ct.count('o') == ct.count('x'):\n",
        "    return True\n",
        "  else:\n",
        "    return False"
      ],
      "execution_count": 46,
      "outputs": []
    },
    {
      "cell_type": "code",
      "metadata": {
        "colab": {
          "base_uri": "https://localhost:8080/"
        },
        "id": "7zuu-dHsE4aM",
        "outputId": "061b4c17-0718-41f3-c4f6-4814e34f3110"
      },
      "source": [
        "xo(text)"
      ],
      "execution_count": 47,
      "outputs": [
        {
          "output_type": "execute_result",
          "data": {
            "text/plain": [
              "False"
            ]
          },
          "metadata": {},
          "execution_count": 47
        }
      ]
    },
    {
      "cell_type": "code",
      "metadata": {
        "colab": {
          "base_uri": "https://localhost:8080/"
        },
        "id": "H3Uh6aV8E6q0",
        "outputId": "5aeeb0a1-7c73-4298-ae19-fbbc1fc55847"
      },
      "source": [
        "ct.count('o') == ct.count('x')"
      ],
      "execution_count": 24,
      "outputs": [
        {
          "output_type": "execute_result",
          "data": {
            "text/plain": [
              "False"
            ]
          },
          "metadata": {},
          "execution_count": 24
        }
      ]
    },
    {
      "cell_type": "code",
      "metadata": {
        "id": "O4fQ7DRaFLdk"
      },
      "source": [
        "ct = re.findall('[X,x,O,o]',text.lower())"
      ],
      "execution_count": 41,
      "outputs": []
    },
    {
      "cell_type": "code",
      "metadata": {
        "colab": {
          "base_uri": "https://localhost:8080/"
        },
        "id": "cra2SfuNGQTw",
        "outputId": "33a8b92d-068f-4c14-e841-5b95835363ca"
      },
      "source": [
        "ct"
      ],
      "execution_count": 42,
      "outputs": [
        {
          "output_type": "execute_result",
          "data": {
            "text/plain": [
              "['o', 'o', 'o', 'x', 'x']"
            ]
          },
          "metadata": {},
          "execution_count": 42
        }
      ]
    },
    {
      "cell_type": "code",
      "metadata": {
        "colab": {
          "base_uri": "https://localhost:8080/"
        },
        "id": "zdDXQENmGU9Z",
        "outputId": "fbceaf89-7349-4ea2-8f6e-4cfeeed2338c"
      },
      "source": [
        "ct.count('o')"
      ],
      "execution_count": 43,
      "outputs": [
        {
          "output_type": "execute_result",
          "data": {
            "text/plain": [
              "3"
            ]
          },
          "metadata": {},
          "execution_count": 43
        }
      ]
    },
    {
      "cell_type": "code",
      "metadata": {
        "id": "WC_NpdfeGWmI"
      },
      "source": [
        "test = 'Thecatwithand'"
      ],
      "execution_count": 50,
      "outputs": []
    },
    {
      "cell_type": "code",
      "metadata": {
        "colab": {
          "base_uri": "https://localhost:8080/"
        },
        "id": "PqSWYjYBGmv5",
        "outputId": "c3d81f65-f75c-441d-c081-f6a599e605c6"
      },
      "source": [
        "xo(test)"
      ],
      "execution_count": 51,
      "outputs": [
        {
          "output_type": "execute_result",
          "data": {
            "text/plain": [
              "True"
            ]
          },
          "metadata": {},
          "execution_count": 51
        }
      ]
    },
    {
      "cell_type": "markdown",
      "metadata": {
        "id": "rS4sg9ZlGnvZ"
      },
      "source": [
        "You are given an array(list) strarr of strings and an integer k. Your task is to return the first longest string consisting of k consecutive strings taken in the array.\n",
        "\n",
        "strarr = [\"tree\", \"foling\", \"trashy\", \"blue\", \"abcdef\", \"uvwxyz\"], k = 2\n",
        "\n",
        "Concatenate the consecutive strings of strarr by 2, we get:\n",
        "\n",
        "treefoling   (length 10)  concatenation of strarr[0] and strarr[1]\n",
        "folingtrashy (\"      12)  concatenation of strarr[1] and strarr[2]\n",
        "trashyblue   (\"      10)  concatenation of strarr[2] and strarr[3]\n",
        "blueabcdef   (\"      10)  concatenation of strarr[3] and strarr[4]\n",
        "abcdefuvwxyz (\"      12)  concatenation of strarr[4] and strarr[5]\n",
        "\n",
        "Two strings are the longest: \"folingtrashy\" and \"abcdefuvwxyz\".\n",
        "The first that came is \"folingtrashy\" so \n",
        "longest_consec(strarr, 2) should return \"folingtrashy\".\n"
      ]
    },
    {
      "cell_type": "code",
      "metadata": {
        "colab": {
          "base_uri": "https://localhost:8080/"
        },
        "id": "0oS_21yQIry5",
        "outputId": "3fc2fc34-2ffd-449d-bd7a-598ac6aeed7e"
      },
      "source": [
        "strarr = [\"tree\", \"foling\", \"trashy\", \"blue\", \"abcdef\", \"uvwxyz\"]\n",
        "count = 0 \n",
        "for i in range(len(strarr)):\n",
        "  print(strarr[i],strarr[count])"
      ],
      "execution_count": 89,
      "outputs": [
        {
          "output_type": "stream",
          "name": "stdout",
          "text": [
            "tree tree\n",
            "foling tree\n",
            "trashy tree\n",
            "blue tree\n",
            "abcdef tree\n",
            "uvwxyz tree\n"
          ]
        }
      ]
    },
    {
      "cell_type": "code",
      "metadata": {
        "colab": {
          "base_uri": "https://localhost:8080/",
          "height": 35
        },
        "id": "-wMXCDlJI_52",
        "outputId": "a8c1fb35-081b-40c3-c507-515c0e361bb0"
      },
      "source": [
        "strarr[1]"
      ],
      "execution_count": 76,
      "outputs": [
        {
          "output_type": "execute_result",
          "data": {
            "application/vnd.google.colaboratory.intrinsic+json": {
              "type": "string"
            },
            "text/plain": [
              "'foling'"
            ]
          },
          "metadata": {},
          "execution_count": 76
        }
      ]
    },
    {
      "cell_type": "code",
      "metadata": {
        "id": "Z3YtHRwbKRWQ"
      },
      "source": [
        "while count <= len(strarr):\n",
        "  for i in range(len(strarr)):\n",
        "    print(strarr[i]+strarr[count])\n",
        "    count+=1"
      ],
      "execution_count": 86,
      "outputs": []
    },
    {
      "cell_type": "code",
      "metadata": {
        "colab": {
          "base_uri": "https://localhost:8080/",
          "height": 214
        },
        "id": "LGX6fFRZLFjF",
        "outputId": "243f9260-5823-4c2c-a0fd-8d97a6290d37"
      },
      "source": [
        "s = ''.join([strarr[i] for i in strarr])"
      ],
      "execution_count": 99,
      "outputs": [
        {
          "output_type": "error",
          "ename": "TypeError",
          "evalue": "ignored",
          "traceback": [
            "\u001b[0;31m---------------------------------------------------------------------------\u001b[0m",
            "\u001b[0;31mTypeError\u001b[0m                                 Traceback (most recent call last)",
            "\u001b[0;32m<ipython-input-99-6f598e579e7f>\u001b[0m in \u001b[0;36m<module>\u001b[0;34m()\u001b[0m\n\u001b[0;32m----> 1\u001b[0;31m \u001b[0ms\u001b[0m \u001b[0;34m=\u001b[0m \u001b[0;34m''\u001b[0m\u001b[0;34m.\u001b[0m\u001b[0mjoin\u001b[0m\u001b[0;34m(\u001b[0m\u001b[0;34m[\u001b[0m\u001b[0mstrarr\u001b[0m\u001b[0;34m[\u001b[0m\u001b[0mi\u001b[0m\u001b[0;34m]\u001b[0m \u001b[0;32mfor\u001b[0m \u001b[0mi\u001b[0m \u001b[0;32min\u001b[0m \u001b[0mstrarr\u001b[0m\u001b[0;34m]\u001b[0m\u001b[0;34m)\u001b[0m\u001b[0;34m\u001b[0m\u001b[0;34m\u001b[0m\u001b[0m\n\u001b[0m",
            "\u001b[0;32m<ipython-input-99-6f598e579e7f>\u001b[0m in \u001b[0;36m<listcomp>\u001b[0;34m(.0)\u001b[0m\n\u001b[0;32m----> 1\u001b[0;31m \u001b[0ms\u001b[0m \u001b[0;34m=\u001b[0m \u001b[0;34m''\u001b[0m\u001b[0;34m.\u001b[0m\u001b[0mjoin\u001b[0m\u001b[0;34m(\u001b[0m\u001b[0;34m[\u001b[0m\u001b[0mstrarr\u001b[0m\u001b[0;34m[\u001b[0m\u001b[0mi\u001b[0m\u001b[0;34m]\u001b[0m \u001b[0;32mfor\u001b[0m \u001b[0mi\u001b[0m \u001b[0;32min\u001b[0m \u001b[0mstrarr\u001b[0m\u001b[0;34m]\u001b[0m\u001b[0;34m)\u001b[0m\u001b[0;34m\u001b[0m\u001b[0;34m\u001b[0m\u001b[0m\n\u001b[0m",
            "\u001b[0;31mTypeError\u001b[0m: list indices must be integers or slices, not str"
          ]
        }
      ]
    },
    {
      "cell_type": "code",
      "metadata": {
        "colab": {
          "base_uri": "https://localhost:8080/",
          "height": 163
        },
        "id": "4-5jf4zKT0Gb",
        "outputId": "3527747e-0aa8-4552-c101-bd57bebe7b4b"
      },
      "source": [
        "dd = dict(strarr)"
      ],
      "execution_count": 100,
      "outputs": [
        {
          "output_type": "error",
          "ename": "ValueError",
          "evalue": "ignored",
          "traceback": [
            "\u001b[0;31m---------------------------------------------------------------------------\u001b[0m",
            "\u001b[0;31mValueError\u001b[0m                                Traceback (most recent call last)",
            "\u001b[0;32m<ipython-input-100-fb9eea26a90a>\u001b[0m in \u001b[0;36m<module>\u001b[0;34m()\u001b[0m\n\u001b[0;32m----> 1\u001b[0;31m \u001b[0mdd\u001b[0m \u001b[0;34m=\u001b[0m \u001b[0mdict\u001b[0m\u001b[0;34m(\u001b[0m\u001b[0mstrarr\u001b[0m\u001b[0;34m)\u001b[0m\u001b[0;34m\u001b[0m\u001b[0;34m\u001b[0m\u001b[0m\n\u001b[0m",
            "\u001b[0;31mValueError\u001b[0m: dictionary update sequence element #0 has length 4; 2 is required"
          ]
        }
      ]
    },
    {
      "cell_type": "code",
      "metadata": {
        "colab": {
          "base_uri": "https://localhost:8080/"
        },
        "id": "4OvZjj1LT5fW",
        "outputId": "7ac5436d-c1b4-44d4-e1e1-3944f286b449"
      },
      "source": [
        "type(strarr)"
      ],
      "execution_count": 101,
      "outputs": [
        {
          "output_type": "execute_result",
          "data": {
            "text/plain": [
              "list"
            ]
          },
          "metadata": {},
          "execution_count": 101
        }
      ]
    },
    {
      "cell_type": "code",
      "metadata": {
        "id": "nbBjNkXBT-PH"
      },
      "source": [
        "def convert(word):\n",
        "  rest_dic = {word[i]+word[i+1] for i in range(len(word)-1)}\n",
        "  return rest_dic\n",
        "\n"
      ],
      "execution_count": 182,
      "outputs": []
    },
    {
      "cell_type": "code",
      "metadata": {
        "id": "wDDn3JuOdVhf"
      },
      "source": [
        "new1 = convert(strarr)"
      ],
      "execution_count": 183,
      "outputs": []
    },
    {
      "cell_type": "code",
      "metadata": {
        "colab": {
          "base_uri": "https://localhost:8080/"
        },
        "id": "uzEnuSPvdYtS",
        "outputId": "aa84247a-3f16-4521-c478-1fa4c04a6319"
      },
      "source": [
        "type(new1)"
      ],
      "execution_count": 184,
      "outputs": [
        {
          "output_type": "execute_result",
          "data": {
            "text/plain": [
              "set"
            ]
          },
          "metadata": {},
          "execution_count": 184
        }
      ]
    },
    {
      "cell_type": "code",
      "metadata": {
        "id": "pt7tl2KXdYrm"
      },
      "source": [
        "ct1 = list(new1)"
      ],
      "execution_count": 185,
      "outputs": []
    },
    {
      "cell_type": "code",
      "metadata": {
        "colab": {
          "base_uri": "https://localhost:8080/"
        },
        "id": "RhaNxmtidYp8",
        "outputId": "0bc16d4d-314a-41c1-cfe8-db8887384ecd"
      },
      "source": [
        "type(ct1)"
      ],
      "execution_count": 186,
      "outputs": [
        {
          "output_type": "execute_result",
          "data": {
            "text/plain": [
              "list"
            ]
          },
          "metadata": {},
          "execution_count": 186
        }
      ]
    },
    {
      "cell_type": "code",
      "metadata": {
        "colab": {
          "base_uri": "https://localhost:8080/"
        },
        "id": "pqUTfkK2dYoJ",
        "outputId": "6e446961-4511-4edc-fced-cd09c17a59b9"
      },
      "source": [
        "ct1"
      ],
      "execution_count": 187,
      "outputs": [
        {
          "output_type": "execute_result",
          "data": {
            "text/plain": [
              "['blueabcdef', 'treefoling', 'abcdefuvwxyz', 'folingtrashy', 'trashyblue']"
            ]
          },
          "metadata": {},
          "execution_count": 187
        }
      ]
    },
    {
      "cell_type": "code",
      "metadata": {
        "colab": {
          "base_uri": "https://localhost:8080/"
        },
        "id": "9RyOz2DhdYk-",
        "outputId": "c5a48d01-adb7-44b0-c291-56e924972ade"
      },
      "source": [
        "len(ct1[1])"
      ],
      "execution_count": 188,
      "outputs": [
        {
          "output_type": "execute_result",
          "data": {
            "text/plain": [
              "10"
            ]
          },
          "metadata": {},
          "execution_count": 188
        }
      ]
    },
    {
      "cell_type": "code",
      "metadata": {
        "colab": {
          "base_uri": "https://localhost:8080/"
        },
        "id": "NiQxLkx3dYiJ",
        "outputId": "65e2b31d-2e23-4159-aea4-222ffcc579db"
      },
      "source": [
        "for i in ct1:\n",
        "  count =  0\n",
        "  while count <= len(ct1):\n",
        "    print(f'the word is and is {len(i)} chars long')\n",
        "    count +=1\n",
        "\n",
        "    \n",
        "  "
      ],
      "execution_count": 170,
      "outputs": [
        {
          "output_type": "stream",
          "name": "stdout",
          "text": [
            "the word is and is 12 chars long\n",
            "the word is and is 12 chars long\n",
            "the word is and is 12 chars long\n",
            "the word is and is 12 chars long\n",
            "the word is and is 10 chars long\n",
            "the word is and is 10 chars long\n",
            "the word is and is 10 chars long\n",
            "the word is and is 10 chars long\n",
            "the word is and is 10 chars long\n",
            "the word is and is 10 chars long\n",
            "the word is and is 10 chars long\n",
            "the word is and is 10 chars long\n"
          ]
        }
      ]
    },
    {
      "cell_type": "code",
      "metadata": {
        "colab": {
          "base_uri": "https://localhost:8080/"
        },
        "id": "Ca--4agOdYaA",
        "outputId": "56957aa8-10f5-4fc1-9600-c419f4053d13"
      },
      "source": [
        "count = 0\n",
        "while count < len(ct1):\n",
        "  for i in ct1:\n",
        "    count += 1 \n",
        "    print(ct1[count-1],len(i))"
      ],
      "execution_count": 189,
      "outputs": [
        {
          "output_type": "stream",
          "name": "stdout",
          "text": [
            "blueabcdef 10\n",
            "treefoling 10\n",
            "abcdefuvwxyz 12\n",
            "folingtrashy 12\n",
            "trashyblue 10\n"
          ]
        }
      ]
    },
    {
      "cell_type": "code",
      "metadata": {
        "colab": {
          "base_uri": "https://localhost:8080/"
        },
        "id": "6LoS50yUbI1J",
        "outputId": "9ec27e8e-4039-4f94-d983-0fbbc402674f"
      },
      "source": [
        "ct1"
      ],
      "execution_count": 190,
      "outputs": [
        {
          "output_type": "execute_result",
          "data": {
            "text/plain": [
              "['blueabcdef', 'treefoling', 'abcdefuvwxyz', 'folingtrashy', 'trashyblue']"
            ]
          },
          "metadata": {},
          "execution_count": 190
        }
      ]
    },
    {
      "cell_type": "code",
      "metadata": {
        "id": "MmueilU6bKwd"
      },
      "source": [
        "ct = list(ct)"
      ],
      "execution_count": 136,
      "outputs": []
    },
    {
      "cell_type": "code",
      "metadata": {
        "colab": {
          "base_uri": "https://localhost:8080/"
        },
        "id": "IzoS95jVdQIP",
        "outputId": "0c2c8bd7-fc30-4fbb-b07a-aacf1169df4b"
      },
      "source": [
        "ct"
      ],
      "execution_count": 137,
      "outputs": [
        {
          "output_type": "execute_result",
          "data": {
            "text/plain": [
              "['abcdefuvwxyz', 'treefoling', 'trashyblue']"
            ]
          },
          "metadata": {},
          "execution_count": 137
        }
      ]
    },
    {
      "cell_type": "code",
      "metadata": {
        "id": "k6ZpyoWGdQFk"
      },
      "source": [
        "try:\n",
        "  from wrapt import decorator\n",
        "except ImportError:\n",
        "  from functools import wraps as decorator\n",
        "\n",
        "@decorator\n",
        "def makelist(generator):\n",
        "  #function decorator to transfrom a generator into a list \n",
        "  def wrapper(*args, **kwargs):\n",
        "    return list(generator(*args, **kwargs))\n",
        "  return wrapper"
      ],
      "execution_count": 222,
      "outputs": []
    },
    {
      "cell_type": "code",
      "metadata": {
        "id": "lmGKh9gfdQDG"
      },
      "source": [
        ""
      ],
      "execution_count": null,
      "outputs": []
    },
    {
      "cell_type": "code",
      "metadata": {
        "id": "n4KCwnxVdP34"
      },
      "source": [
        ""
      ],
      "execution_count": null,
      "outputs": []
    },
    {
      "cell_type": "code",
      "metadata": {
        "colab": {
          "base_uri": "https://localhost:8080/"
        },
        "id": "gXA84jbTbLC9",
        "outputId": "9a927701-4767-4e30-c449-3c2e0f1ea889"
      },
      "source": [
        "strarr"
      ],
      "execution_count": 105,
      "outputs": [
        {
          "output_type": "execute_result",
          "data": {
            "text/plain": [
              "['tree', 'foling', 'trashy', 'blue', 'abcdef', 'uvwxyz']"
            ]
          },
          "metadata": {},
          "execution_count": 105
        }
      ]
    },
    {
      "cell_type": "code",
      "metadata": {
        "id": "Ew0qJhWxbNq8"
      },
      "source": [
        "\n",
        "def addingto(word):\n",
        "  neww = (word[i] + word[i+1] for i in range(len(word)-1))\n",
        "  return neww"
      ],
      "execution_count": 239,
      "outputs": []
    },
    {
      "cell_type": "code",
      "metadata": {
        "id": "fUON_h0Kbqh1"
      },
      "source": [
        "cc = addingto(strarr)"
      ],
      "execution_count": 240,
      "outputs": []
    },
    {
      "cell_type": "code",
      "metadata": {
        "id": "y01WCBnZb4QY"
      },
      "source": [
        "new_cc = makelist(cc)"
      ],
      "execution_count": 241,
      "outputs": []
    },
    {
      "cell_type": "code",
      "metadata": {
        "colab": {
          "base_uri": "https://localhost:8080/"
        },
        "id": "UGVK5H3Jn0HF",
        "outputId": "4e93a7c2-bbdd-4c93-9be7-6bcc9608e654"
      },
      "source": [
        "new_cc"
      ],
      "execution_count": 242,
      "outputs": [
        {
          "output_type": "execute_result",
          "data": {
            "text/plain": [
              "<FunctionWrapper at 0x7f505ce84600 for generator at 0x7f505ce2e750>"
            ]
          },
          "metadata": {},
          "execution_count": 242
        }
      ]
    },
    {
      "cell_type": "code",
      "metadata": {
        "id": "HCF-bLzmn4QU"
      },
      "source": [
        "list1=[]\n",
        "for i in new_cc:\n",
        "  list1.append(i)"
      ],
      "execution_count": 244,
      "outputs": []
    },
    {
      "cell_type": "code",
      "metadata": {
        "colab": {
          "base_uri": "https://localhost:8080/"
        },
        "id": "W4RaNPIun4Nb",
        "outputId": "ac18c9ff-488b-4f58-b30f-0e22b0c81342"
      },
      "source": [
        "ct1"
      ],
      "execution_count": 232,
      "outputs": [
        {
          "output_type": "execute_result",
          "data": {
            "text/plain": [
              "['blueabcdef', 'treefoling', 'abcdefuvwxyz', 'folingtrashy', 'trashyblue']"
            ]
          },
          "metadata": {},
          "execution_count": 232
        }
      ]
    },
    {
      "cell_type": "code",
      "metadata": {
        "id": "tjUe4u5-n4HH"
      },
      "source": [
        "max_len = -1\n",
        "for ele in ct1:\n",
        "  if len(ele) > max_len:\n",
        "    max_len = len(ele)\n",
        "    res = ele"
      ],
      "execution_count": 248,
      "outputs": []
    },
    {
      "cell_type": "code",
      "metadata": {
        "colab": {
          "base_uri": "https://localhost:8080/"
        },
        "id": "BERxwrkOb6Wy",
        "outputId": "f03d8cf0-858c-422c-82f8-9c2c1d312121"
      },
      "source": [
        "print(f\"The longest word was {res} at {len(res)} chars\")"
      ],
      "execution_count": 250,
      "outputs": [
        {
          "output_type": "stream",
          "name": "stdout",
          "text": [
            "The longest word was abcdefuvwxyz at 12 chars\n"
          ]
        }
      ]
    },
    {
      "cell_type": "code",
      "metadata": {
        "colab": {
          "base_uri": "https://localhost:8080/"
        },
        "id": "UvVfJElcb7xf",
        "outputId": "51ecebd1-ffa4-45cd-e983-c9779c4f4f20"
      },
      "source": [
        "list1"
      ],
      "execution_count": 236,
      "outputs": [
        {
          "output_type": "execute_result",
          "data": {
            "text/plain": [
              "[]"
            ]
          },
          "metadata": {},
          "execution_count": 236
        }
      ]
    },
    {
      "cell_type": "code",
      "metadata": {
        "colab": {
          "base_uri": "https://localhost:8080/"
        },
        "id": "Eyn-_KYQl_M2",
        "outputId": "901c0dfb-5258-4e71-b459-effe727a6c82"
      },
      "source": [
        "cc_list"
      ],
      "execution_count": 237,
      "outputs": [
        {
          "output_type": "execute_result",
          "data": {
            "text/plain": [
              "<generator object <genexpr> at 0x7f505ce0cc50>"
            ]
          },
          "metadata": {},
          "execution_count": 237
        }
      ]
    },
    {
      "cell_type": "code",
      "metadata": {
        "id": "2GE7zOL3mCcu"
      },
      "source": [
        "for i in cc_list:\n",
        "  print(i)"
      ],
      "execution_count": 220,
      "outputs": []
    },
    {
      "cell_type": "code",
      "metadata": {
        "colab": {
          "base_uri": "https://localhost:8080/"
        },
        "id": "PyNpPveymJwK",
        "outputId": "73d099e3-e8a5-4da6-c5ac-91cca0dffdc0"
      },
      "source": [
        "cc"
      ],
      "execution_count": 213,
      "outputs": [
        {
          "output_type": "execute_result",
          "data": {
            "text/plain": [
              "<generator object addingto at 0x7f505ce0c850>"
            ]
          },
          "metadata": {},
          "execution_count": 213
        }
      ]
    },
    {
      "cell_type": "code",
      "metadata": {
        "colab": {
          "base_uri": "https://localhost:8080/",
          "height": 367
        },
        "id": "zGkWz0qLmK67",
        "outputId": "373f11ef-e017-40e8-e158-6ac2b4e4bddb"
      },
      "source": [
        "import streamlit as st\n",
        "import pandas as pd\n",
        "import plotly.express as px\n",
        "import numpy as np\n",
        "\n",
        "\n",
        "st.title('Simple EDA App')\n",
        "\n",
        "st.markdown(\"\"\"\n",
        "This app performs EDA\n",
        "* **Python libraries:** streamlit, pandas, ......\n",
        "* **Need to cantact: ** [SeaportAI.com](https://seaportai.com/contact-us/).\n",
        "\"\"\")\n",
        "\n",
        "\n",
        "file_bytes = st.file_uploader(\"Upload a file\", type=\"csv\")\n",
        "\n",
        "if file_bytes is not None:\n",
        "    data = pd.read_csv(file_bytes)\n",
        "    obj = []\n",
        "    int_float = []\n",
        "    for i in data.columns:\n",
        "        clas = data[i].dtypes\n",
        "        if clas == 'object':\n",
        "            obj.append(i)\n",
        "        else:\n",
        "            int_float.append(i)\n",
        "\n",
        "    ##################   Adding Submit button  sidebar        \n",
        "    with st.form(key='my_form'):\n",
        "        with st.sidebar:\n",
        "            st.sidebar.header(\"To remove Null Values press below button\")\n",
        "            submit_button = st.form_submit_button(label='Remove Null')\n",
        "\n",
        "    ##############   if we click Remove Null button Null values will replace with mean and mode         \n",
        "    if submit_button:\n",
        "        for i in data.columns:\n",
        "          clas = data[i].dtypes\n",
        "          if clas == 'object':\n",
        "            data[i].fillna(data[i].mode()[0], inplace=True)\n",
        "          else:\n",
        "            data[i].fillna(data[i].mean(), inplace=True)\n",
        "\n",
        "    #############  finding number of null values in each column\n",
        "    lis = []\n",
        "    for i in data.columns:\n",
        "      dd = sum(pd.isnull(data[i]))\n",
        "      lis.append(dd)\n",
        "\n",
        "    ##########  if no of nul values are zero it will display some text else it will display bar plot by each column\n",
        "    if max(lis) == 0:\n",
        "        st.write(\"Total no.of Null Values  \"+str(max(lis)))\n",
        "    else:\n",
        "        st.write(\"Bar plot to know no.of Null values in each column\")\n",
        "        st.write(\"Total no.of Null Values  \"+str(sum(lis)))\n",
        "        fig2 = px.bar(x=data.columns, y=lis, labels={'x':\"Column Names\", 'y':\"No. of Null Values\"})\n",
        "        st.plotly_chart(fig2)\n",
        "\n",
        "    #########################   Frequency Plot    \n",
        "    st.sidebar.header(\"Select Variable\")\n",
        "    selected_pos = st.sidebar.selectbox('Object Variables', obj)\n",
        "    st.write(\"Bar Plot to konw frequency of each category\")\n",
        "    frequency_data = data[selected_pos].value_counts()\n",
        "    #st.write(frequency_data.index)\n",
        "    fig = px.bar(frequency_data, x=frequency_data.index, y=selected_pos, labels={'x':selected_pos, 'y':'count'})\n",
        "    st.plotly_chart(fig)\n",
        "\n",
        "    #########################  Frequency Plot Integer\n",
        "    st.sidebar.header(\"Select Variable\")\n",
        "    selected_pos1 = st.sidebar.selectbox('Int or Float Variables', int_float)\n",
        "    st.write(\"Bar Plot to konw count of values based on range\")\n",
        "    counts, bins = np.histogram(data[selected_pos1], bins=range(int(min(data[selected_pos1])), int(max(data[selected_pos1])), int(max(data[selected_pos1])/10)))\n",
        "    bins = 0.5 * (bins[:-1] + bins[1:])\n",
        "    fig1 = px.bar(x=bins, y=counts, labels={'x':selected_pos1, 'y':'count'})\n",
        "    st.plotly_chart(fig1)\n",
        "\n",
        "    #########################  Frequency Plot Integer\n",
        "    st.sidebar.header(\"Select Variable\")\n",
        "    selected_pos2 = st.sidebar.multiselect('Int or Float Variables-Correlation', int_float)\n",
        "    st.write(\"Scatter Plot for correlation\")\n",
        "    if len(selected_pos2) == 2:\n",
        "        fig3 = px.scatter(data, x=selected_pos2[0], y=selected_pos2[1])\n",
        "        st.plotly_chart(fig3)\n",
        "    else:\n",
        "        st.write(\"Select Two Variables\")\n",
        "        \n",
        "    "
      ],
      "execution_count": 252,
      "outputs": [
        {
          "output_type": "error",
          "ename": "ModuleNotFoundError",
          "evalue": "ignored",
          "traceback": [
            "\u001b[0;31m---------------------------------------------------------------------------\u001b[0m",
            "\u001b[0;31mModuleNotFoundError\u001b[0m                       Traceback (most recent call last)",
            "\u001b[0;32m<ipython-input-252-da7654ea298c>\u001b[0m in \u001b[0;36m<module>\u001b[0;34m()\u001b[0m\n\u001b[0;32m----> 1\u001b[0;31m \u001b[0;32mimport\u001b[0m \u001b[0mstreamlit\u001b[0m \u001b[0;32mas\u001b[0m \u001b[0mst\u001b[0m\u001b[0;34m\u001b[0m\u001b[0;34m\u001b[0m\u001b[0m\n\u001b[0m\u001b[1;32m      2\u001b[0m \u001b[0;32mimport\u001b[0m \u001b[0mpandas\u001b[0m \u001b[0;32mas\u001b[0m \u001b[0mpd\u001b[0m\u001b[0;34m\u001b[0m\u001b[0;34m\u001b[0m\u001b[0m\n\u001b[1;32m      3\u001b[0m \u001b[0;32mimport\u001b[0m \u001b[0mplotly\u001b[0m\u001b[0;34m.\u001b[0m\u001b[0mexpress\u001b[0m \u001b[0;32mas\u001b[0m \u001b[0mpx\u001b[0m\u001b[0;34m\u001b[0m\u001b[0;34m\u001b[0m\u001b[0m\n\u001b[1;32m      4\u001b[0m \u001b[0;32mimport\u001b[0m \u001b[0mnumpy\u001b[0m \u001b[0;32mas\u001b[0m \u001b[0mnp\u001b[0m\u001b[0;34m\u001b[0m\u001b[0;34m\u001b[0m\u001b[0m\n\u001b[1;32m      5\u001b[0m \u001b[0;34m\u001b[0m\u001b[0m\n",
            "\u001b[0;31mModuleNotFoundError\u001b[0m: No module named 'streamlit'",
            "",
            "\u001b[0;31m---------------------------------------------------------------------------\u001b[0;32m\nNOTE: If your import is failing due to a missing package, you can\nmanually install dependencies using either !pip or !apt.\n\nTo view examples of installing some common dependencies, click the\n\"Open Examples\" button below.\n\u001b[0;31m---------------------------------------------------------------------------\u001b[0m\n"
          ],
          "errorDetails": {
            "actions": [
              {
                "action": "open_url",
                "actionText": "Open Examples",
                "url": "/notebooks/snippets/importing_libraries.ipynb"
              }
            ]
          }
        }
      ]
    },
    {
      "cell_type": "code",
      "metadata": {
        "id": "uD6vFtOjtTR4"
      },
      "source": [
        ""
      ],
      "execution_count": null,
      "outputs": []
    }
  ]
}