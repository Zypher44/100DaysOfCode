{
  "nbformat": 4,
  "nbformat_minor": 0,
  "metadata": {
    "colab": {
      "name": "Recursionday1.ipynb",
      "provenance": [],
      "authorship_tag": "ABX9TyNwQhqZcC+WL4JGluOa0ga8",
      "include_colab_link": true
    },
    "kernelspec": {
      "name": "python3",
      "display_name": "Python 3"
    },
    "language_info": {
      "name": "python"
    }
  },
  "cells": [
    {
      "cell_type": "markdown",
      "metadata": {
        "id": "view-in-github",
        "colab_type": "text"
      },
      "source": [
        "<a href=\"https://colab.research.google.com/github/Zypher44/100DaysOfCode/blob/main/Recursionday1.ipynb\" target=\"_parent\"><img src=\"https://colab.research.google.com/assets/colab-badge.svg\" alt=\"Open In Colab\"/></a>"
      ]
    },
    {
      "cell_type": "code",
      "metadata": {
        "id": "ekDHtxZaK1fW"
      },
      "source": [
        "Recursion = a way of solving a problem by having a function calling itself, in every step we try smaller inputs to make the problem smaller ,\n",
        "            base condition is needed to stop the recursion, otherwise infiite loop will occur \n",
        "Why we need recursion:\n",
        "              use recursion when you can divide problem into smaller sub problems with similar nature \n",
        "              - desigin an algorithem to compute nth\n",
        "              - write code to list n \n",
        "              - Implement a method to compute all \n",
        "              - Practice \n",
        "2. THe prominjed usuage of recursion in data structures like trees and graphs \n"
      ],
      "execution_count": null,
      "outputs": []
    },
    {
      "cell_type": "code",
      "metadata": {
        "id": "Snjzc2n-TGOB"
      },
      "source": [
        "def openDoll(doll):\n",
        "  if dool == 1:\n",
        "    print('All dolls are open')\n",
        "  else:\n",
        "    openDoll(doll-1)"
      ],
      "execution_count": null,
      "outputs": []
    }
  ]
}