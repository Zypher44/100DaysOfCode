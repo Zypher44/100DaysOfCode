{
  "nbformat": 4,
  "nbformat_minor": 0,
  "metadata": {
    "colab": {
      "name": "web3.ipynb",
      "provenance": [],
      "authorship_tag": "ABX9TyPYxHVXqLR1nuCTat4eWd/+",
      "include_colab_link": true
    },
    "kernelspec": {
      "name": "python3",
      "display_name": "Python 3"
    },
    "language_info": {
      "name": "python"
    }
  },
  "cells": [
    {
      "cell_type": "markdown",
      "metadata": {
        "id": "view-in-github",
        "colab_type": "text"
      },
      "source": [
        "<a href=\"https://colab.research.google.com/github/Zypher44/100DaysOfCode/blob/main/web3.ipynb\" target=\"_parent\"><img src=\"https://colab.research.google.com/assets/colab-badge.svg\" alt=\"Open In Colab\"/></a>"
      ]
    },
    {
      "cell_type": "code",
      "execution_count": 1,
      "metadata": {
        "colab": {
          "base_uri": "https://localhost:8080/",
          "height": 373
        },
        "id": "1ikrVJuDbjfU",
        "outputId": "500c7780-7d37-48b1-a96b-f4882bac747c"
      },
      "outputs": [
        {
          "output_type": "error",
          "ename": "ModuleNotFoundError",
          "evalue": "ignored",
          "traceback": [
            "\u001b[0;31m---------------------------------------------------------------------------\u001b[0m",
            "\u001b[0;31mModuleNotFoundError\u001b[0m                       Traceback (most recent call last)",
            "\u001b[0;32m<ipython-input-1-8fd10bda57f7>\u001b[0m in \u001b[0;36m<module>\u001b[0;34m()\u001b[0m\n\u001b[1;32m      1\u001b[0m \u001b[0;32mimport\u001b[0m \u001b[0mjson\u001b[0m\u001b[0;34m\u001b[0m\u001b[0;34m\u001b[0m\u001b[0m\n\u001b[1;32m      2\u001b[0m \u001b[0;34m\u001b[0m\u001b[0m\n\u001b[0;32m----> 3\u001b[0;31m \u001b[0;32mfrom\u001b[0m \u001b[0mweb3\u001b[0m \u001b[0;32mimport\u001b[0m \u001b[0mWeb3\u001b[0m\u001b[0;34m\u001b[0m\u001b[0;34m\u001b[0m\u001b[0m\n\u001b[0m\u001b[1;32m      4\u001b[0m \u001b[0;34m\u001b[0m\u001b[0m\n\u001b[1;32m      5\u001b[0m \u001b[0;31m# In the video, we forget to `install_solc`\u001b[0m\u001b[0;34m\u001b[0m\u001b[0;34m\u001b[0m\u001b[0;34m\u001b[0m\u001b[0m\n",
            "\u001b[0;31mModuleNotFoundError\u001b[0m: No module named 'web3'",
            "",
            "\u001b[0;31m---------------------------------------------------------------------------\u001b[0;32m\nNOTE: If your import is failing due to a missing package, you can\nmanually install dependencies using either !pip or !apt.\n\nTo view examples of installing some common dependencies, click the\n\"Open Examples\" button below.\n\u001b[0;31m---------------------------------------------------------------------------\u001b[0m\n"
          ],
          "errorDetails": {
            "actions": [
              {
                "action": "open_url",
                "actionText": "Open Examples",
                "url": "/notebooks/snippets/importing_libraries.ipynb"
              }
            ]
          }
        }
      ],
      "source": [
        "import json\n",
        "\n",
        "from web3 import Web3\n",
        "\n",
        "# In the video, we forget to `install_solc`\n",
        "# from solcx import compile_standard\n",
        "from solcx import compile_standard, install_solc\n",
        "import os\n",
        "from dotenv import load_dotenv\n",
        "\n",
        "load_dotenv()\n",
        "\n",
        "\n",
        "with open(\"./SimpleStorage.sol\", \"r\") as file:\n",
        "    simple_storage_file = file.read()\n",
        "\n",
        "# We add these two lines that we forgot from the video!\n",
        "print(\"Installing...\")\n",
        "install_solc(\"0.6.0\")\n",
        "\n",
        "# Solidity source code\n",
        "compiled_sol = compile_standard(\n",
        "    {\n",
        "        \"language\": \"Solidity\",\n",
        "        \"sources\": {\"SimpleStorage.sol\": {\"content\": simple_storage_file}},\n",
        "        \"settings\": {\n",
        "            \"outputSelection\": {\n",
        "                \"*\": {\n",
        "                    \"*\": [\"abi\", \"metadata\", \"evm.bytecode\", \"evm.bytecode.sourceMap\"]\n",
        "                }\n",
        "            }\n",
        "        },\n",
        "    },\n",
        "    solc_version=\"0.6.0\",\n",
        ")\n",
        "\n",
        "with open(\"compiled_code.json\", \"w\") as file:\n",
        "    json.dump(compiled_sol, file)\n",
        "\n",
        "# get bytecode\n",
        "bytecode = compiled_sol[\"contracts\"][\"SimpleStorage.sol\"][\"SimpleStorage\"][\"evm\"][\n",
        "    \"bytecode\"\n",
        "][\"object\"]\n",
        "\n",
        "# get abi\n",
        "abi = json.loads(\n",
        "    compiled_sol[\"contracts\"][\"SimpleStorage.sol\"][\"SimpleStorage\"][\"metadata\"]\n",
        ")[\"output\"][\"abi\"]\n",
        "\n",
        "# w3 = Web3(Web3.HTTPProvider(os.getenv(\"RINKEBY_RPC_URL\")))\n",
        "# chain_id = 4\n",
        "#\n",
        "# For connecting to ganache\n",
        "w3 = Web3(Web3.HTTPProvider(\"http://0.0.0.0:8545\"))\n",
        "chain_id = 1337\n",
        "my_address = \"0xdbB4A708755dfD59f9c4b100B2BE23a6d2EB7D57\"\n",
        "private_key = \"ffdd7a010ab8c089d95a9c2ff24e75b21744b5db26c3cd66d14f8e91c46afcc4\"\n",
        "\n",
        "# Create the contract in Python\n",
        "SimpleStorage = w3.eth.contract(abi=abi, bytecode=bytecode)\n",
        "# Get the latest transaction\n",
        "nonce = w3.eth.getTransactionCount(my_address)\n",
        "# Submit the transaction that deploys the contract\n",
        "transaction = SimpleStorage.constructor().buildTransaction(\n",
        "    {\n",
        "        \"chainId\": chain_id,\n",
        "        \"gasPrice\": w3.eth.gas_price,\n",
        "        \"from\": my_address,\n",
        "        \"nonce\": nonce,\n",
        "    }\n",
        ")\n",
        "# Sign the transaction\n",
        "signed_txn = w3.eth.account.sign_transaction(transaction, private_key=private_key)\n",
        "print(\"Deploying Contract!\")\n",
        "# Send it!\n",
        "tx_hash = w3.eth.send_raw_transaction(signed_txn.rawTransaction)\n",
        "# Wait for the transaction to be mined, and get the transaction receipt\n",
        "print(\"Waiting for transaction to finish...\")\n",
        "tx_receipt = w3.eth.wait_for_transaction_receipt(tx_hash)\n",
        "print(f\"Done! Contract deployed to {tx_receipt.contractAddress}\")\n",
        "\n",
        "\n",
        "# Working with deployed Contracts\n",
        "simple_storage = w3.eth.contract(address=tx_receipt.contractAddress, abi=abi)\n",
        "print(f\"Initial Stored Value {simple_storage.functions.retrieve().call()}\")\n",
        "greeting_transaction = simple_storage.functions.store(15).buildTransaction(\n",
        "    {\n",
        "        \"chainId\": chain_id,\n",
        "        \"gasPrice\": w3.eth.gas_price,\n",
        "        \"from\": my_address,\n",
        "        \"nonce\": nonce + 1,\n",
        "    }\n",
        ")\n",
        "signed_greeting_txn = w3.eth.account.sign_transaction(\n",
        "    greeting_transaction, private_key=private_key\n",
        ")\n",
        "tx_greeting_hash = w3.eth.send_raw_transaction(signed_greeting_txn.rawTransaction)\n",
        "print(\"Updating stored Value...\")\n",
        "tx_receipt = w3.eth.wait_for_transaction_receipt(tx_greeting_hash)\n",
        "\n",
        "print(simple_storage.functions.retrieve().call())"
      ]
    }
  ]
}