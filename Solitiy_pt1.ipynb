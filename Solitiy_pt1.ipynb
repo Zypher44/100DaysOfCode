{
  "nbformat": 4,
  "nbformat_minor": 0,
  "metadata": {
    "colab": {
      "name": "Solitiy pt1.ipynb",
      "provenance": [],
      "authorship_tag": "ABX9TyOx9E3fT8Xw3NzXIFMcRh/j",
      "include_colab_link": true
    },
    "kernelspec": {
      "name": "python3",
      "display_name": "Python 3"
    },
    "language_info": {
      "name": "python"
    }
  },
  "cells": [
    {
      "cell_type": "markdown",
      "metadata": {
        "id": "view-in-github",
        "colab_type": "text"
      },
      "source": [
        "<a href=\"https://colab.research.google.com/github/Zypher44/100DaysOfCode/blob/main/Solitiy_pt1.ipynb\" target=\"_parent\"><img src=\"https://colab.research.google.com/assets/colab-badge.svg\" alt=\"Open In Colab\"/></a>"
      ]
    },
    {
      "cell_type": "code",
      "execution_count": null,
      "metadata": {
        "id": "6IPl5cdHI2ou"
      },
      "outputs": [],
      "source": [
        "Layer 1 vs layer 2 \n",
        "Layeer 1 base layer blockchain eth bitcoin avlanche \n",
        "Layer 2 added ontop of blockchain chainlink, optmisum(rollups) rollup transcations into layer1 \n"
      ]
    },
    {
      "cell_type": "code",
      "source": [
        "pragma solidity >= 0.6.0 < 0.9.0;\n",
        "\n",
        "\n",
        "contract SimpleStorage {\n",
        "\n",
        "    uint256 public favouriteNumber = 5;\n",
        "   \n",
        "    struct People {\n",
        "        uint256 favouriteNumber;\n",
        "        string name;\n",
        "     }\n",
        "    // dymnaic area \n",
        "\n",
        "    People[] public people; \n",
        "    \n",
        "    mapping(string=> uint256) public nameToFavNum;                                                                                  \n",
        "\n",
        "    People public person = People({favouriteNumber:2,name:\"Radu\"});\n",
        "    \n",
        "    \n",
        "    function store(uint256 _favouriteNumber) public {\n",
        "       favouriteNumber = _favouriteNumber;\n",
        "\n",
        "\n",
        "   }\n",
        "        // view reads blockchain, pure does math \n",
        "    function retrieve() public view returns(uint256) {\n",
        "        return favouriteNumber;\n",
        "    }\n",
        "\n",
        "    function addPerson(string memory _name, uint256 _favouriteNumber) public {\n",
        "        people.push(People({favouriteNumber: _favouriteNumber, name:_name}));\n",
        "        nameToFavNum[_name] = _favouriteNumber;\n",
        "    }\n",
        "}"
      ],
      "metadata": {
        "id": "iDXW_rc5uQHc"
      },
      "execution_count": null,
      "outputs": []
    }
  ]
}